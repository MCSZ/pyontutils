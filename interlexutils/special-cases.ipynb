{
 "cells": [
  {
   "cell_type": "code",
   "execution_count": null,
   "metadata": {
    "collapsed": true
   },
   "outputs": [],
   "source": [
    "## So annotation must be anchored by either term or annotation value for it to exist\n",
    "## cant change term itself, but I did add mirror annotation... however...\n",
    "## does this mean I should change all with annotation from term version???"
   ]
  },
  {
   "cell_type": "code",
   "execution_count": 1,
   "metadata": {
    "collapsed": true
   },
   "outputs": [],
   "source": [
    "import json\n",
    "from sqlalchemy import create_engine, inspect, Table, Column\n",
    "import pandas as pd\n",
    "from args_reader import read_args\n",
    "from scicrunch_client_fast import scicrunch\n",
    "import sys\n",
    "import time\n",
    "from interlex_sql import interlex_sql"
   ]
  },
  {
   "cell_type": "code",
   "execution_count": 3,
   "metadata": {
    "scrolled": true
   },
   "outputs": [],
   "source": [
    "args = read_args(keys='../keys.txt',production='-p')\n",
    "sql = interlex_sql(engine_key=args['engine_key'], constraint='cde')\n",
    "terms_df = sql.get_terms()"
   ]
  },
  {
   "cell_type": "code",
   "execution_count": 4,
   "metadata": {
    "scrolled": true
   },
   "outputs": [
    {
     "data": {
      "text/plain": [
       "[{'cid': 0,\n",
       "  'comment': '',\n",
       "  'definition': 'AP discharge rate in the absence of current injection or a stimulus',\n",
       "  'display_superclass': '1',\n",
       "  'id': 10994,\n",
       "  'ilx': 'ilx_0110993',\n",
       "  'label': 'Spontaneous firing rate',\n",
       "  'orig_cid': 0,\n",
       "  'orig_time': 1481249379,\n",
       "  'orig_uid': 32290,\n",
       "  'status': 0,\n",
       "  'time': 1518557697,\n",
       "  'type': 'term',\n",
       "  'uid': 32290,\n",
       "  'version': 3}]"
      ]
     },
     "execution_count": 4,
     "metadata": {},
     "output_type": "execute_result"
    }
   ],
   "source": [
    "label = 'spontaneous firing rate'\n",
    "terms_df.loc[terms_df.label.str.lower() == label].to_dict('records')"
   ]
  },
  {
   "cell_type": "code",
   "execution_count": 5,
   "metadata": {
    "collapsed": true
   },
   "outputs": [],
   "source": [
    "sci = scicrunch(base_path=args['base_path'], key=args['api_key'])"
   ]
  },
  {
   "cell_type": "code",
   "execution_count": 6,
   "metadata": {
    "scrolled": true
   },
   "outputs": [
    {
     "name": "stderr",
     "output_type": "stream",
     "text": [
      "[========================================================================] 100%\n"
     ]
    },
    {
     "name": "stdout",
     "output_type": "stream",
     "text": [
      "=== Getting Annotations ===\n",
      "https://scicrunch.org/api/1/term/get-annotations/10994?key=uePSzjBoXkB5S9gB7AeB4aWue9oPSV9S\n"
     ]
    }
   ],
   "source": [
    "annotations = sci.getAnnotationsVIAtid(['10994'])[0]"
   ]
  },
  {
   "cell_type": "code",
   "execution_count": 14,
   "metadata": {},
   "outputs": [
    {
     "name": "stdout",
     "output_type": "stream",
     "text": [
      "{'id': '30', 'tid': '1975', 'annotation_tid': 10994, 'value': 'Rapid firing', 'comment': '', 'upvote': '0', 'downvote': '0', 'curator_status': '0', 'withdrawn': '0', 'term_version': '1', 'annotation_term_version': '1', 'orig_uid': '32290', 'orig_time': '1481278182', 'term_label': 'Cerebellum Purkinje cell', 'term_ilx': 'ilx_0101974', 'term_type': 'term', 'term_definition': 'Principal neuron (projection neuron) of the cerebellar cortex; cell bodies arranged in a single layer; characterized by a pear-shaped cell body, 1 (rarely 2) primary dendrites and an elaborate dendritic tree heavily invested with dendritic spines.'} \n",
      "\n",
      "{'id': '34', 'tid': '2312', 'annotation_tid': 10994, 'value': 'Rapid firing', 'comment': '', 'upvote': '0', 'downvote': '0', 'curator_status': '0', 'withdrawn': '0', 'term_version': '1', 'annotation_term_version': '1', 'orig_uid': '32290', 'orig_time': '1481278197', 'term_label': 'Cochlear nucleus (dorsal) cartwheel cell', 'term_ilx': 'ilx_0102311', 'term_type': 'term', 'term_definition': 'Cartwheel cell bodies lie on the superficial side of the pyramidal (or fusiform) cell layer of the dorsal cochlear nucleus. Their spiny dendrites receive input from the axons of granule cells (parallel fibers) and their axons release GABA and glycine onto cartwheel, pyramidal and giant cell targets. Cartwheel cells share many of the features, molecular and electrophysiological, of cerebellar Purkinje neurons.'} \n",
      "\n",
      "{'id': '61', 'tid': '7352', 'annotation_tid': 10994, 'value': 'Rapid firing', 'comment': '', 'upvote': '0', 'downvote': '0', 'curator_status': '0', 'withdrawn': '0', 'term_version': '1', 'annotation_term_version': '1', 'orig_uid': '32290', 'orig_time': '1481278400', 'term_label': 'Neocortex basket cell', 'term_ilx': 'ilx_0107351', 'term_type': 'term', 'term_definition': ''} \n",
      "\n",
      "{'id': '64', 'tid': '7376', 'annotation_tid': 10994, 'value': 'slow firing', 'comment': '', 'upvote': '0', 'downvote': '0', 'curator_status': '0', 'withdrawn': '0', 'term_version': '1', 'annotation_term_version': '1', 'orig_uid': '32290', 'orig_time': '1481278403', 'term_label': 'Neocortex Martinotti cell', 'term_ilx': 'ilx_0107375', 'term_type': 'term', 'term_definition': ''} \n",
      "\n",
      "{'id': '76', 'tid': '7386', 'annotation_tid': 10994, 'value': 'medium firing', 'comment': '', 'upvote': '0', 'downvote': '0', 'curator_status': '0', 'withdrawn': '0', 'term_version': '1', 'annotation_term_version': '1', 'orig_uid': '32290', 'orig_time': '1481278413', 'term_label': 'Neocortex pyramidal cell', 'term_ilx': 'ilx_0107385', 'term_type': 'term', 'term_definition': 'Pyramidal neuron of the cerebral cortex (not including hippocampus or olfactory cortex).The pyramidal cell of the neocortex is located in layers 2-3 and 5-6, has a pyramidal-shaped cell body which gives off a number of laterally-directed basal dendrites and usually a single apical dendrite which ascends to branch and terminate in layer 1; these dendrites are covered in dendritic spines.'} \n",
      "\n",
      "{'id': '82', 'tid': '7387', 'annotation_tid': 10994, 'value': 'medium firing', 'comment': '', 'upvote': '0', 'downvote': '0', 'curator_status': '0', 'withdrawn': '0', 'term_version': '1', 'annotation_term_version': '1', 'orig_uid': '32290', 'orig_time': '1481278418', 'term_label': 'Neocortex pyramidal cell layer 5-6', 'term_ilx': 'ilx_0107386', 'term_type': 'term', 'term_definition': 'The pyramidal cell of layer 5 of the neocortex has a pyramidal-shaped cell body which gives off a number of laterally-directed basal dendrites and usually a single apical dendrite which ascends to branch and terminate in layer 1; these dendrites are covered in dendritic spines.  The axon descends through the internal capsule, giving off collaterals to the thalamus, to the medullary pyramids, where most of the axons cross controlaterally to descend and innervate the ventral horn of the spinal cord.'} \n",
      "\n",
      "{'id': '96', 'tid': '7924', 'annotation_tid': 10994, 'value': 'Rapid firing', 'comment': '', 'upvote': '0', 'downvote': '0', 'curator_status': '0', 'withdrawn': '0', 'term_version': '1', 'annotation_term_version': '1', 'orig_uid': '32290', 'orig_time': '1481278449', 'term_label': 'Olfactory bulb (accessory) glomerular layer cell', 'term_ilx': 'ilx_0107923', 'term_type': 'term', 'term_definition': 'Small intrinsic neuron in the glomerular layer of the accessory olfactory bulb, with cell bodies surrounding the olfactory glomerulus. Equivalent to the periglomerular cell of the main olfactory bulb, but the glomeruli are less clearly differentiated.  The cell body is 6-8 um in diameter, from which arises a short bushy dendrite that arborizes within a glomerulus, where it receives synaptic input from olfactory receptor cell axon terminals, and engages in dendrodendritic interactions with mitral/tufted cell dendrites. The axon distributes laterally within the extraglomerular region. Shepherd, Chen, Greer. Olfactory bulb. In The synaptic organization of the brain, ed 5 New York: Oxford University Press, 2004.'} \n",
      "\n",
      "{'id': '101', 'tid': '7925', 'annotation_tid': 10994, 'value': 'medium firing', 'comment': '', 'upvote': '0', 'downvote': '0', 'curator_status': '0', 'withdrawn': '0', 'term_version': '1', 'annotation_term_version': '1', 'orig_uid': '32290', 'orig_time': '1481278453', 'term_label': 'Olfactory bulb (accessory) granule cell', 'term_ilx': 'ilx_0107924', 'term_type': 'term', 'term_definition': 'The main intrinsic neuron in the accessory olfactory bulb in the mammalian central nervous system.  It resembles the granule cell in the main olfactory bulb, including the lack of an axon.  Each cell gives rise to short central dendrites and a single long apical dendrite that traverses the granule cell layer, pierces the mitral cell body layer, and branches and terminates within the external plexiform layer among the lateral dendrites of mitral and tufted cells.  The dendrites receive synaptic input from mitral and tufted cell dendrites, and have synaptic outputs to those dendrites through reciprocal dendrodendritic synapses.  Shepherd, Chen, Greer.  Olfactory Bulb.  In The Synaptic Organization of the Brain, ed 5. New York: Oxford University Press, 2004.  The AOB granule cells are replaced in the adult through ongoing neurogenesis in the subventricular zone'} \n",
      "\n",
      "{'id': '108', 'tid': '7927', 'annotation_tid': 10994, 'value': 'medium firing', 'comment': '', 'upvote': '0', 'downvote': '0', 'curator_status': '0', 'withdrawn': '0', 'term_version': '1', 'annotation_term_version': '1', 'orig_uid': '32290', 'orig_time': '1481278459', 'term_label': 'Olfactory bulb (accessory) mitral cell', 'term_ilx': 'ilx_0107926', 'term_type': 'term', 'term_definition': 'A principal neuron of the mammalian accessory olfactory bulb.  Resembles the mitral cell of the main olfactory bulb, though somewhat smaller and less clearly differentiated.  The cell bodies are arranged in a thin layer between the granule cell layer and the external plexiform layer.  Each mitral cell is characterized by one (occasionally several) primary dendrite that traverses the external plexiform layer and terminates within an olfactory glomerulus in a tuft of branches where it receives input from the axons of sensory cells of the vomeronasal organ.'} \n",
      "\n",
      "{'id': '110', 'tid': '7929', 'annotation_tid': 10994, 'value': 'medium firing', 'comment': '', 'upvote': '0', 'downvote': '0', 'curator_status': '0', 'withdrawn': '0', 'term_version': '1', 'annotation_term_version': '1', 'orig_uid': '32290', 'orig_time': '1481278460', 'term_label': 'Olfactory bulb (main) adult-born granule cell', 'term_ilx': 'ilx_0107928', 'term_type': 'term', 'term_definition': 'The olfactory bulb adult-born granule cell is a cohort of cell that comprise a large fraction of the vertibrate olfactory bulb granule cell layer.  These neurons proliferate from from the subventricular zone, migrate through the rostral migratory stream and integrate into the olfactory bulb granule cell layer.  Upon arriving in the olfactory bulb granule cell layer they migrate radially outward and mature with morphologies similar to neonate olfactory bulb granule cells.  This process continues throughout the adult life of the vertibrate.  There is some decline in adult neurogenesis in aged vertebrates and the presence of the subventricular proliferative zone is controversial in humans'} \n",
      "\n",
      "{'id': '118', 'tid': '7931', 'annotation_tid': 10994, 'value': 'medium firing', 'comment': '', 'upvote': '0', 'downvote': '0', 'curator_status': '0', 'withdrawn': '0', 'term_version': '1', 'annotation_term_version': '1', 'orig_uid': '32290', 'orig_time': '1481278467', 'term_label': 'Olfactory bulb (main) granule cell', 'term_ilx': 'ilx_0107930', 'term_type': 'term', 'term_definition': 'The main intrinsic neuron in the vertebrate olfactory bulb.  It lacks an axon.  Each cell gives rise to short central dendrites and a single long apical dendrite that traverses the granule cell layer, pierces the mitral cell body layer, and branches and terminates within the external plexiform layer among the lateral dendrites of mitral and tufted cells.  The dendrites receive synaptic input from mitral and tufted cell lateral dendrites, and have synaptic outputs on those dendrites through reciprocal dendrodendritic synapses.  Shepherd, Chen & Greer.  Olfactory Bulb.  The Synaptic Organization of the Brain, ed 5. New York: Oxford University Press, 2004.'} \n",
      "\n",
      "{'id': '126', 'tid': '7934', 'annotation_tid': 10994, 'value': 'medium firing', 'comment': '', 'upvote': '0', 'downvote': '0', 'curator_status': '0', 'withdrawn': '0', 'term_version': '1', 'annotation_term_version': '1', 'orig_uid': '32290', 'orig_time': '1481278473', 'term_label': 'Olfactory bulb (main) mitral cell', 'term_ilx': 'ilx_0107933', 'term_type': 'term', 'term_definition': 'Principal neuron located in the olfactory bulb in the mammalian central nervous system. The cell bodies are arranged in a thin layer between the granule cell layer and the external plexiform layer.  Each mitral cell is usually characterized in the mammal by a single primary dendrite that traverses the external plexiform layer and terminates within an olfactory glomerulus in a tuft of branches which receives input from the axons of olfactory receptor neurons.  Axons of the mitral cells project to a number of areas in the brain, including the piriform cortex, entorhinal cortex, olfactory tubercle, and amygdala.'} \n",
      "\n",
      "{'id': '133', 'tid': '7935', 'annotation_tid': 10994, 'value': 'Rapid firing', 'comment': '', 'upvote': '0', 'downvote': '0', 'curator_status': '0', 'withdrawn': '0', 'term_version': '1', 'annotation_term_version': '1', 'orig_uid': '32290', 'orig_time': '1481278479', 'term_label': 'Olfactory bulb (main) periglomerular cell', 'term_ilx': 'ilx_0107934', 'term_type': 'term', 'term_definition': 'Small intrinsic neuron in the glomerular layer of the olfactory bulb, with cell bodies surrounding the olfactory glomerulus.  The cell body is 6-8 um in diameter, from which arises a short bushy dendrite that arborizes within a glomerulus, where it receives synaptic input from olfactory receptor cell axon terminals, and engages in dendrodendritic interactions with mitral/tufted cell dendrites.  Occasionally, bitufted PG cells connected to two glomeruli are seen.  The axon distributes laterally within the extraglomerular region, extending as far as 5-10 glomeruli away.  Some PG cells appear to lack axons.  Subtypes may be identified based on their biochemical constituents.'} \n",
      "\n",
      "{'id': '139', 'tid': '7936', 'annotation_tid': 10994, 'value': 'medium firing', 'comment': '', 'upvote': '0', 'downvote': '0', 'curator_status': '0', 'withdrawn': '0', 'term_version': '1', 'annotation_term_version': '1', 'orig_uid': '32290', 'orig_time': '1481278484', 'term_label': 'Olfactory bulb (main) tufted cell (middle)', 'term_ilx': 'ilx_0107935', 'term_type': 'term', 'term_definition': 'Principal neuron located in the outer third of the external plexiform layer of the olfactory bulb in the mammalian central nervous system. Each tufted cell is characterized by usually a single short primary dendrite that traverses the outer external plexiform layer and terminates within an olfactory glomerulus in a tuft of branches, where it receives the input from olfactory receptor neuron axon terminals. Differentiated from external tufted cells.  Axons of the tufted cells transfer information to a number of areas in the brain, including the piriform cortex, entorhinal cortex, olfactory tubercle, and amygdala. Shepherd, Shen, Greer.  Olfactory bulb.  In The synaptic organization of the brain, ed 5 New York: Oxford University Press, 2004.'} \n",
      "\n",
      "{'id': '142', 'tid': '7944', 'annotation_tid': 10994, 'value': 'medium firing', 'comment': '', 'upvote': '0', 'downvote': '0', 'curator_status': '0', 'withdrawn': '0', 'term_version': '1', 'annotation_term_version': '1', 'orig_uid': '32290', 'orig_time': '1481278487', 'term_label': 'Olfactory bulb main tufted cell external', 'term_ilx': 'ilx_0107943', 'term_type': 'term', 'term_definition': ''} \n",
      "\n",
      "{'id': '159', 'tid': '7960', 'annotation_tid': 10994, 'value': 'slow firing', 'comment': '', 'upvote': '0', 'downvote': '0', 'curator_status': '0', 'withdrawn': '0', 'term_version': '1', 'annotation_term_version': '1', 'orig_uid': '32290', 'orig_time': '1481278501', 'term_label': 'Olfactory epithelium main sensory cell', 'term_ilx': 'ilx_0107959', 'term_type': 'term', 'term_definition': 'This is the sensory neuron of the main olfactory epithelium in the nasal cavity that transduces odor molecules into receptor potentials, which give rise to the impulse trains that are sent further in the olfactory system..  It is a small bipolar cell in the pseudostratified olfactory epithelium, with cell body 8-15 um diameter giving rise to a single dendrite ending in a knob at the epithelial surface, from which arise several sensory cilia.  A single unmyelinated axon descends through the basal lamina and turns to project to the glomeruli of the olfactory bulb.  Shepherd, Chen & Greer.  Olfactory Bulb,  In The Synaptic Organization of the Brain. 5th ed. 2004.'} \n",
      "\n",
      "{'id': '161', 'tid': '7961', 'annotation_tid': 10994, 'value': 'slow firing', 'comment': '', 'upvote': '0', 'downvote': '0', 'curator_status': '0', 'withdrawn': '0', 'term_version': '1', 'annotation_term_version': '1', 'orig_uid': '32290', 'orig_time': '1481278502', 'term_label': 'Olfactory epithelium main supporting cell', 'term_ilx': 'ilx_0107960', 'term_type': 'term', 'term_definition': 'So called supporting or sustentacular cell, that spans the depth of the olfactory epithelium, with cell bodies in an approximate layer near the surface, and microvilli extending into the overlying mucus.  The cytoplasm contains large dense granules that are released into the mucus.  Their electrophysiological properties are similar to those of glial cells (high membrane potential, low input resistance).  They are coupled with each other through gap junctions.'} \n",
      "\n",
      "{'id': '172', 'tid': '10003', 'annotation_tid': 10994, 'value': 'Rapid firing', 'comment': '', 'upvote': '0', 'downvote': '0', 'curator_status': '0', 'withdrawn': '0', 'term_version': '1', 'annotation_term_version': '1', 'orig_uid': '32290', 'orig_time': '1481278583', 'term_label': 'Retina ganglion cell', 'term_ilx': 'ilx_0110002', 'term_type': 'term', 'term_definition': 'The main principal neuron of the retina, whose axon projects to several sites in the brain: lateral geniculate nucleus on the pathway to visual cortex, superior colliculus and suprachiasmatic nucleus.  It receives input from bipolar cells, and has synaptic inputs'} \n",
      "\n",
      "{'id': '175', 'tid': '10021', 'annotation_tid': 10994, 'value': 'slow firing', 'comment': '', 'upvote': '0', 'downvote': '0', 'curator_status': '0', 'withdrawn': '0', 'term_version': '1', 'annotation_term_version': '1', 'orig_uid': '32290', 'orig_time': '1481278586', 'term_label': 'Retina On-Midget Ganglion Cell', 'term_ilx': 'ilx_0110020', 'term_type': 'term', 'term_definition': 'Physiologically classified as the main ganglion cells with small receptive fields driven by center-On input.  Matched with morphologically defined cell of extremely small dendritic arborization.  As a population forms both a physical mosaic within retina as well as a receptive field mosaic of stimulus space.Both receptive field size and dendritic arborization are distinct from the corresponding Off-Midget'} \n",
      "\n"
     ]
    }
   ],
   "source": [
    "#replace annotation_tid to 304377\n",
    "#https://scicrunch.org/api/1/ilx/search/identifier/ilx_0381292?key=\n",
    "new_annotations = []\n",
    "for annotation in annotations[:]:\n",
    "    new_annotation = annotation.copy()\n",
    "    new_annotation['annotation_tid']=10994 #new spontaneous firing rate id\n",
    "    new_annotations.append(new_annotation)\n",
    "for annotation in new_annotations[:]:\n",
    "    print(annotation, '\\n')"
   ]
  },
  {
   "cell_type": "code",
   "execution_count": 15,
   "metadata": {},
   "outputs": [
    {
     "name": "stderr",
     "output_type": "stream",
     "text": [
      "[========================================================================] 100%\n"
     ]
    },
    {
     "name": "stdout",
     "output_type": "stream",
     "text": [
      "=== Adding Annotations ===\n",
      "5 {'id': 117241, 'tid': '7387', 'annotation_tid': '10994', 'value': 'medium firing', 'comment': 'None', 'upvote': '0', 'downvote': '0', 'curator_status': '0', 'withdrawn': '0', 'term_version': '1', 'annotation_term_version': '1', 'orig_uid': '32290', 'orig_time': '1481278418'}\n",
      "17 {'id': 117243, 'tid': '10003', 'annotation_tid': '10994', 'value': 'Rapid firing', 'comment': 'None', 'upvote': '0', 'downvote': '0', 'curator_status': '0', 'withdrawn': '0', 'term_version': '1', 'annotation_term_version': '1', 'orig_uid': '32290', 'orig_time': '1481278583'}\n",
      "4 {'id': 117246, 'tid': '7386', 'annotation_tid': '10994', 'value': 'medium firing', 'comment': 'None', 'upvote': '0', 'downvote': '0', 'curator_status': '0', 'withdrawn': '0', 'term_version': '1', 'annotation_term_version': '1', 'orig_uid': '32290', 'orig_time': '1481278413'}\n",
      "10 {'id': 117244, 'tid': '7931', 'annotation_tid': '10994', 'value': 'medium firing', 'comment': 'None', 'upvote': '0', 'downvote': '0', 'curator_status': '0', 'withdrawn': '0', 'term_version': '1', 'annotation_term_version': '1', 'orig_uid': '32290', 'orig_time': '1481278467'}\n",
      "6 {'id': 117240, 'tid': '7924', 'annotation_tid': '10994', 'value': 'Rapid firing', 'comment': 'None', 'upvote': '0', 'downvote': '0', 'curator_status': '0', 'withdrawn': '0', 'term_version': '1', 'annotation_term_version': '1', 'orig_uid': '32290', 'orig_time': '1481278449'}\n",
      "8 {'id': 117253, 'tid': '7927', 'annotation_tid': '10994', 'value': 'medium firing', 'comment': 'None', 'upvote': '0', 'downvote': '0', 'curator_status': '0', 'withdrawn': '0', 'term_version': '1', 'annotation_term_version': '1', 'orig_uid': '32290', 'orig_time': '1481278459'}\n",
      "7 {'id': 117249, 'tid': '7925', 'annotation_tid': '10994', 'value': 'medium firing', 'comment': 'None', 'upvote': '0', 'downvote': '0', 'curator_status': '0', 'withdrawn': '0', 'term_version': '1', 'annotation_term_version': '1', 'orig_uid': '32290', 'orig_time': '1481278453'}\n",
      "9 {'id': 117245, 'tid': '7929', 'annotation_tid': '10994', 'value': 'medium firing', 'comment': 'None', 'upvote': '0', 'downvote': '0', 'curator_status': '0', 'withdrawn': '0', 'term_version': '1', 'annotation_term_version': '1', 'orig_uid': '32290', 'orig_time': '1481278460'}\n",
      "1 {'id': 117242, 'tid': '2312', 'annotation_tid': '10994', 'value': 'Rapid firing', 'comment': 'None', 'upvote': '0', 'downvote': '0', 'curator_status': '0', 'withdrawn': '0', 'term_version': '1', 'annotation_term_version': '1', 'orig_uid': '32290', 'orig_time': '1481278197'}\n",
      "2 {'id': 117247, 'tid': '7352', 'annotation_tid': '10994', 'value': 'Rapid firing', 'comment': 'None', 'upvote': '0', 'downvote': '0', 'curator_status': '0', 'withdrawn': '0', 'term_version': '1', 'annotation_term_version': '1', 'orig_uid': '32290', 'orig_time': '1481278400'}\n",
      "0 {'id': 117255, 'tid': '1975', 'annotation_tid': '10994', 'value': 'Rapid firing', 'comment': 'None', 'upvote': '0', 'downvote': '0', 'curator_status': '0', 'withdrawn': '0', 'term_version': '1', 'annotation_term_version': '1', 'orig_uid': '32290', 'orig_time': '1481278182'}\n",
      "16 {'id': 117254, 'tid': '7961', 'annotation_tid': '10994', 'value': 'slow firing', 'comment': 'None', 'upvote': '0', 'downvote': '0', 'curator_status': '0', 'withdrawn': '0', 'term_version': '1', 'annotation_term_version': '1', 'orig_uid': '32290', 'orig_time': '1481278502'}\n",
      "11 {'id': 117248, 'tid': '7934', 'annotation_tid': '10994', 'value': 'medium firing', 'comment': 'None', 'upvote': '0', 'downvote': '0', 'curator_status': '0', 'withdrawn': '0', 'term_version': '1', 'annotation_term_version': '1', 'orig_uid': '32290', 'orig_time': '1481278473'}\n",
      "3 {'id': 117251, 'tid': '7376', 'annotation_tid': '10994', 'value': 'slow firing', 'comment': 'None', 'upvote': '0', 'downvote': '0', 'curator_status': '0', 'withdrawn': '0', 'term_version': '1', 'annotation_term_version': '1', 'orig_uid': '32290', 'orig_time': '1481278403'}\n",
      "14 {'id': 117252, 'tid': '7944', 'annotation_tid': '10994', 'value': 'medium firing', 'comment': 'None', 'upvote': '0', 'downvote': '0', 'curator_status': '0', 'withdrawn': '0', 'term_version': '1', 'annotation_term_version': '1', 'orig_uid': '32290', 'orig_time': '1481278487'}\n",
      "13 {'id': 117256, 'tid': '7936', 'annotation_tid': '10994', 'value': 'medium firing', 'comment': 'None', 'upvote': '0', 'downvote': '0', 'curator_status': '0', 'withdrawn': '0', 'term_version': '1', 'annotation_term_version': '1', 'orig_uid': '32290', 'orig_time': '1481278484'}\n",
      "15 {'id': 117250, 'tid': '7960', 'annotation_tid': '10994', 'value': 'slow firing', 'comment': 'None', 'upvote': '0', 'downvote': '0', 'curator_status': '0', 'withdrawn': '0', 'term_version': '1', 'annotation_term_version': '1', 'orig_uid': '32290', 'orig_time': '1481278501'}\n",
      "18 {'id': 117258, 'tid': '10021', 'annotation_tid': '10994', 'value': 'slow firing', 'comment': 'None', 'upvote': '0', 'downvote': '0', 'curator_status': '0', 'withdrawn': '0', 'term_version': '1', 'annotation_term_version': '1', 'orig_uid': '32290', 'orig_time': '1481278586'}\n",
      "12 {'id': 117257, 'tid': '7935', 'annotation_tid': '10994', 'value': 'Rapid firing', 'comment': 'None', 'upvote': '0', 'downvote': '0', 'curator_status': '0', 'withdrawn': '0', 'term_version': '1', 'annotation_term_version': '1', 'orig_uid': '32290', 'orig_time': '1481278479'}\n"
     ]
    }
   ],
   "source": [
    "#sci.addAnnotations(new_annotations)"
   ]
  }
 ],
 "metadata": {
  "kernelspec": {
   "display_name": "Python 3",
   "language": "python",
   "name": "python3"
  },
  "language_info": {
   "codemirror_mode": {
    "name": "ipython",
    "version": 3
   },
   "file_extension": ".py",
   "mimetype": "text/x-python",
   "name": "python",
   "nbconvert_exporter": "python",
   "pygments_lexer": "ipython3",
   "version": "3.6.2"
  }
 },
 "nbformat": 4,
 "nbformat_minor": 2
}
