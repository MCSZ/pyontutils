{
 "cells": [
  {
   "cell_type": "code",
   "execution_count": null,
   "metadata": {},
   "outputs": [],
   "source": [
    "#pull terms from sql ; cant concat becuase the rows not being lists will f**k you up in memory \n",
    "#name onto for matrix and output purposes \n",
    "#put each key in a dict \n",
    "    #label2ilx ... ilx2row\n",
    "#parse for each key in ontologies based on accepted predicates\n",
    "    #label2iri ... iri2row\n",
    "# each mach \n",
    "#   ilx_iri, ilx_label, ilx_definition, ilx_synonym, ilx_superclass, ilx_type, ilx_existing_ids ... same but <Onto>Iri ... ... has_matching_label has_matching_definition ...\n",
    "# 0 ...\n",
    "# 1 ..."
   ]
  },
  {
   "cell_type": "code",
   "execution_count": 15,
   "metadata": {},
   "outputs": [
    {
     "name": "stdout",
     "output_type": "stream",
     "text": [
      "CPU times: user 6.51 s, sys: 560 ms, total: 7.07 s\n",
      "Wall time: 22 s\n"
     ]
    }
   ],
   "source": [
    "%time terms = sql.get_terms()"
   ]
  },
  {
   "cell_type": "code",
   "execution_count": 27,
   "metadata": {
    "scrolled": true
   },
   "outputs": [
    {
     "name": "stdout",
     "output_type": "stream",
     "text": [
      "CPU times: user 23.2 s, sys: 3.01 s, total: 26.2 s\n",
      "Wall time: 1min 3s\n"
     ]
    }
   ],
   "source": [
    "%time annos = sql.get_annotations()"
   ]
  },
  {
   "cell_type": "code",
   "execution_count": 23,
   "metadata": {},
   "outputs": [
    {
     "name": "stdout",
     "output_type": "stream",
     "text": [
      "CPU times: user 2.51 s, sys: 276 ms, total: 2.78 s\n",
      "Wall time: 3.25 s\n"
     ]
    }
   ],
   "source": [
    "%time synonyms = sql.get_synonyms()"
   ]
  },
  {
   "cell_type": "code",
   "execution_count": 24,
   "metadata": {
    "scrolled": true
   },
   "outputs": [
    {
     "name": "stdout",
     "output_type": "stream",
     "text": [
      "CPU times: user 2.86 s, sys: 299 ms, total: 3.16 s\n",
      "Wall time: 3.59 s\n"
     ]
    }
   ],
   "source": [
    "%time superclasses = sql.get_superclasses()"
   ]
  },
  {
   "cell_type": "code",
   "execution_count": 25,
   "metadata": {
    "scrolled": true
   },
   "outputs": [
    {
     "name": "stdout",
     "output_type": "stream",
     "text": [
      "CPU times: user 130 ms, sys: 12.1 ms, total: 142 ms\n",
      "Wall time: 178 ms\n"
     ]
    }
   ],
   "source": [
    "%time relationships = sql.get_relationships()"
   ]
  },
  {
   "cell_type": "code",
   "execution_count": 47,
   "metadata": {
    "scrolled": true
   },
   "outputs": [
    {
     "name": "stdout",
     "output_type": "stream",
     "text": [
      "CPU times: user 8.21 s, sys: 1.1 s, total: 9.32 s\n",
      "Wall time: 18.9 s\n"
     ]
    }
   ],
   "source": [
    "%time existing_ids = sql.get_existing_ids()"
   ]
  },
  {
   "cell_type": "markdown",
   "metadata": {},
   "source": [
    "#################################################################################################################"
   ]
  },
  {
   "cell_type": "code",
   "execution_count": 3,
   "metadata": {
    "collapsed": true
   },
   "outputs": [
    {
     "data": {
      "text/html": [
       "<div>\n",
       "<style scoped>\n",
       "    .dataframe tbody tr th:only-of-type {\n",
       "        vertical-align: middle;\n",
       "    }\n",
       "\n",
       "    .dataframe tbody tr th {\n",
       "        vertical-align: top;\n",
       "    }\n",
       "\n",
       "    .dataframe thead th {\n",
       "        text-align: right;\n",
       "    }\n",
       "</style>\n",
       "<table border=\"1\" class=\"dataframe\">\n",
       "  <thead>\n",
       "    <tr style=\"text-align: right;\">\n",
       "      <th></th>\n",
       "      <th>id</th>\n",
       "      <th>ilx</th>\n",
       "      <th>orig_uid</th>\n",
       "      <th>orig_cid</th>\n",
       "      <th>uid</th>\n",
       "      <th>cid</th>\n",
       "      <th>label</th>\n",
       "      <th>definition</th>\n",
       "      <th>comment</th>\n",
       "      <th>type</th>\n",
       "      <th>version</th>\n",
       "      <th>status</th>\n",
       "      <th>display_superclass</th>\n",
       "      <th>orig_time</th>\n",
       "      <th>time</th>\n",
       "    </tr>\n",
       "  </thead>\n",
       "  <tbody>\n",
       "    <tr>\n",
       "      <th>0</th>\n",
       "      <td>1</td>\n",
       "      <td>ilx_0100000</td>\n",
       "      <td>32290</td>\n",
       "      <td>0</td>\n",
       "      <td>32290</td>\n",
       "      <td>0</td>\n",
       "      <td>(R)N6-phenylisopropyladenosine</td>\n",
       "      <td></td>\n",
       "      <td></td>\n",
       "      <td>term</td>\n",
       "      <td>6</td>\n",
       "      <td>0</td>\n",
       "      <td>1</td>\n",
       "      <td>1481226703</td>\n",
       "      <td>1529356493</td>\n",
       "    </tr>\n",
       "    <tr>\n",
       "      <th>1</th>\n",
       "      <td>2</td>\n",
       "      <td>ilx_0100001</td>\n",
       "      <td>32290</td>\n",
       "      <td>0</td>\n",
       "      <td>32290</td>\n",
       "      <td>0</td>\n",
       "      <td>1,2-Dibromo-3-chloropropane</td>\n",
       "      <td>Organic Compound;Pesticide;Organochloride;Orga...</td>\n",
       "      <td></td>\n",
       "      <td>term</td>\n",
       "      <td>6</td>\n",
       "      <td>0</td>\n",
       "      <td>1</td>\n",
       "      <td>1481226705</td>\n",
       "      <td>1529356493</td>\n",
       "    </tr>\n",
       "    <tr>\n",
       "      <th>2</th>\n",
       "      <td>3</td>\n",
       "      <td>ilx_0100002</td>\n",
       "      <td>32290</td>\n",
       "      <td>0</td>\n",
       "      <td>34142</td>\n",
       "      <td>0</td>\n",
       "      <td>1,2-Dibromoethane</td>\n",
       "      <td>Organic Compound;Pesticide;Gasoline Additive/C...</td>\n",
       "      <td></td>\n",
       "      <td>term</td>\n",
       "      <td>8</td>\n",
       "      <td>0</td>\n",
       "      <td>1</td>\n",
       "      <td>1481226707</td>\n",
       "      <td>1535122210</td>\n",
       "    </tr>\n",
       "    <tr>\n",
       "      <th>3</th>\n",
       "      <td>4</td>\n",
       "      <td>ilx_0100003</td>\n",
       "      <td>32290</td>\n",
       "      <td>0</td>\n",
       "      <td>32290</td>\n",
       "      <td>0</td>\n",
       "      <td>1-120 Truncated Alpha-Synuclein Drosophila</td>\n",
       "      <td>This transgenic drosophila expresses a form of...</td>\n",
       "      <td></td>\n",
       "      <td>term</td>\n",
       "      <td>6</td>\n",
       "      <td>0</td>\n",
       "      <td>1</td>\n",
       "      <td>1481226709</td>\n",
       "      <td>1529356493</td>\n",
       "    </tr>\n",
       "    <tr>\n",
       "      <th>4</th>\n",
       "      <td>5</td>\n",
       "      <td>ilx_0100004</td>\n",
       "      <td>32290</td>\n",
       "      <td>0</td>\n",
       "      <td>32290</td>\n",
       "      <td>0</td>\n",
       "      <td>1-D extent</td>\n",
       "      <td>A quality inhering in a bearer by virtue of it...</td>\n",
       "      <td></td>\n",
       "      <td>term</td>\n",
       "      <td>5</td>\n",
       "      <td>0</td>\n",
       "      <td>1</td>\n",
       "      <td>1481226711</td>\n",
       "      <td>1529356493</td>\n",
       "    </tr>\n",
       "  </tbody>\n",
       "</table>\n",
       "</div>"
      ],
      "text/plain": [
       "   id          ilx  orig_uid  orig_cid    uid  cid  \\\n",
       "0   1  ilx_0100000     32290         0  32290    0   \n",
       "1   2  ilx_0100001     32290         0  32290    0   \n",
       "2   3  ilx_0100002     32290         0  34142    0   \n",
       "3   4  ilx_0100003     32290         0  32290    0   \n",
       "4   5  ilx_0100004     32290         0  32290    0   \n",
       "\n",
       "                                        label  \\\n",
       "0              (R)N6-phenylisopropyladenosine   \n",
       "1                 1,2-Dibromo-3-chloropropane   \n",
       "2                           1,2-Dibromoethane   \n",
       "3  1-120 Truncated Alpha-Synuclein Drosophila   \n",
       "4                                  1-D extent   \n",
       "\n",
       "                                          definition comment  type  version  \\\n",
       "0                                                             term        6   \n",
       "1  Organic Compound;Pesticide;Organochloride;Orga...          term        6   \n",
       "2  Organic Compound;Pesticide;Gasoline Additive/C...          term        8   \n",
       "3  This transgenic drosophila expresses a form of...          term        6   \n",
       "4  A quality inhering in a bearer by virtue of it...          term        5   \n",
       "\n",
       "   status display_superclass   orig_time        time  \n",
       "0       0                  1  1481226703  1529356493  \n",
       "1       0                  1  1481226705  1529356493  \n",
       "2       0                  1  1481226707  1535122210  \n",
       "3       0                  1  1481226709  1529356493  \n",
       "4       0                  1  1481226711  1529356493  "
      ]
     },
     "execution_count": 3,
     "metadata": {},
     "output_type": "execute_result"
    }
   ],
   "source": [
    "terms.head()"
   ]
  },
  {
   "cell_type": "code",
   "execution_count": 6,
   "metadata": {
    "collapsed": true
   },
   "outputs": [
    {
     "data": {
      "text/html": [
       "<div>\n",
       "<style scoped>\n",
       "    .dataframe tbody tr th:only-of-type {\n",
       "        vertical-align: middle;\n",
       "    }\n",
       "\n",
       "    .dataframe tbody tr th {\n",
       "        vertical-align: top;\n",
       "    }\n",
       "\n",
       "    .dataframe thead th {\n",
       "        text-align: right;\n",
       "    }\n",
       "</style>\n",
       "<table border=\"1\" class=\"dataframe\">\n",
       "  <thead>\n",
       "    <tr style=\"text-align: right;\">\n",
       "      <th></th>\n",
       "      <th>id</th>\n",
       "      <th>tid</th>\n",
       "      <th>annotation_tid</th>\n",
       "      <th>value</th>\n",
       "      <th>uid</th>\n",
       "      <th>term_label</th>\n",
       "      <th>term_ilx</th>\n",
       "      <th>annotation_label</th>\n",
       "      <th>annotation_ilx</th>\n",
       "    </tr>\n",
       "  </thead>\n",
       "  <tbody>\n",
       "    <tr>\n",
       "      <th>0</th>\n",
       "      <td>2265164</td>\n",
       "      <td>1</td>\n",
       "      <td>304445</td>\n",
       "      <td>http://neurolex.org/wiki/nifext_5214</td>\n",
       "      <td>0</td>\n",
       "      <td>(R)N6-phenylisopropyladenosine</td>\n",
       "      <td>ilx_0100000</td>\n",
       "      <td>hasDbXref</td>\n",
       "      <td>ilx_0381360</td>\n",
       "    </tr>\n",
       "    <tr>\n",
       "      <th>1</th>\n",
       "      <td>2265173</td>\n",
       "      <td>2</td>\n",
       "      <td>304445</td>\n",
       "      <td>http://neurolex.org/wiki/T3D0044</td>\n",
       "      <td>0</td>\n",
       "      <td>1,2-Dibromo-3-chloropropane</td>\n",
       "      <td>ilx_0100001</td>\n",
       "      <td>hasDbXref</td>\n",
       "      <td>ilx_0381360</td>\n",
       "    </tr>\n",
       "    <tr>\n",
       "      <th>2</th>\n",
       "      <td>2265170</td>\n",
       "      <td>3</td>\n",
       "      <td>304445</td>\n",
       "      <td>http://neurolex.org/wiki/T3D0035</td>\n",
       "      <td>0</td>\n",
       "      <td>1,2-Dibromoethane</td>\n",
       "      <td>ilx_0100002</td>\n",
       "      <td>hasDbXref</td>\n",
       "      <td>ilx_0381360</td>\n",
       "    </tr>\n",
       "    <tr>\n",
       "      <th>3</th>\n",
       "      <td>2265171</td>\n",
       "      <td>4</td>\n",
       "      <td>304445</td>\n",
       "      <td>http://neurolex.org/wiki/nlx_organ_090801</td>\n",
       "      <td>0</td>\n",
       "      <td>1-120 Truncated Alpha-Synuclein Drosophila</td>\n",
       "      <td>ilx_0100003</td>\n",
       "      <td>hasDbXref</td>\n",
       "      <td>ilx_0381360</td>\n",
       "    </tr>\n",
       "    <tr>\n",
       "      <th>4</th>\n",
       "      <td>2278612</td>\n",
       "      <td>4</td>\n",
       "      <td>304535</td>\n",
       "      <td>PMID:17376994</td>\n",
       "      <td>0</td>\n",
       "      <td>1-120 Truncated Alpha-Synuclein Drosophila</td>\n",
       "      <td>ilx_0100003</td>\n",
       "      <td>literatureCitation</td>\n",
       "      <td>ilx_0381449</td>\n",
       "    </tr>\n",
       "  </tbody>\n",
       "</table>\n",
       "</div>"
      ],
      "text/plain": [
       "        id  tid  annotation_tid                                      value  \\\n",
       "0  2265164    1          304445       http://neurolex.org/wiki/nifext_5214   \n",
       "1  2265173    2          304445           http://neurolex.org/wiki/T3D0044   \n",
       "2  2265170    3          304445           http://neurolex.org/wiki/T3D0035   \n",
       "3  2265171    4          304445  http://neurolex.org/wiki/nlx_organ_090801   \n",
       "4  2278612    4          304535                              PMID:17376994   \n",
       "\n",
       "   uid                                  term_label     term_ilx  \\\n",
       "0    0              (R)N6-phenylisopropyladenosine  ilx_0100000   \n",
       "1    0                 1,2-Dibromo-3-chloropropane  ilx_0100001   \n",
       "2    0                           1,2-Dibromoethane  ilx_0100002   \n",
       "3    0  1-120 Truncated Alpha-Synuclein Drosophila  ilx_0100003   \n",
       "4    0  1-120 Truncated Alpha-Synuclein Drosophila  ilx_0100003   \n",
       "\n",
       "     annotation_label annotation_ilx  \n",
       "0           hasDbXref    ilx_0381360  \n",
       "1           hasDbXref    ilx_0381360  \n",
       "2           hasDbXref    ilx_0381360  \n",
       "3           hasDbXref    ilx_0381360  \n",
       "4  literatureCitation    ilx_0381449  "
      ]
     },
     "execution_count": 6,
     "metadata": {},
     "output_type": "execute_result"
    }
   ],
   "source": [
    "annos.head()"
   ]
  },
  {
   "cell_type": "code",
   "execution_count": 108,
   "metadata": {
    "collapsed": true
   },
   "outputs": [
    {
     "data": {
      "text/html": [
       "<div>\n",
       "<style scoped>\n",
       "    .dataframe tbody tr th:only-of-type {\n",
       "        vertical-align: middle;\n",
       "    }\n",
       "\n",
       "    .dataframe tbody tr th {\n",
       "        vertical-align: top;\n",
       "    }\n",
       "\n",
       "    .dataframe thead th {\n",
       "        text-align: right;\n",
       "    }\n",
       "</style>\n",
       "<table border=\"1\" class=\"dataframe\">\n",
       "  <thead>\n",
       "    <tr style=\"text-align: right;\">\n",
       "      <th></th>\n",
       "      <th>id</th>\n",
       "      <th>tid</th>\n",
       "      <th>literal</th>\n",
       "      <th>ilx</th>\n",
       "      <th>label</th>\n",
       "    </tr>\n",
       "  </thead>\n",
       "  <tbody>\n",
       "    <tr>\n",
       "      <th>0</th>\n",
       "      <td>31340</td>\n",
       "      <td>15070</td>\n",
       "      <td>Age</td>\n",
       "      <td>ilx_0115067</td>\n",
       "      <td>Participant Age</td>\n",
       "    </tr>\n",
       "    <tr>\n",
       "      <th>1</th>\n",
       "      <td>31341</td>\n",
       "      <td>15070</td>\n",
       "      <td>Patient Age</td>\n",
       "      <td>ilx_0115067</td>\n",
       "      <td>Participant Age</td>\n",
       "    </tr>\n",
       "    <tr>\n",
       "      <th>2</th>\n",
       "      <td>31342</td>\n",
       "      <td>15070</td>\n",
       "      <td>Subject Age</td>\n",
       "      <td>ilx_0115067</td>\n",
       "      <td>Participant Age</td>\n",
       "    </tr>\n",
       "    <tr>\n",
       "      <th>23085</th>\n",
       "      <td>331422</td>\n",
       "      <td>3729</td>\n",
       "      <td>eletriptan</td>\n",
       "      <td>ilx_0103728</td>\n",
       "      <td>Eletriptan</td>\n",
       "    </tr>\n",
       "    <tr>\n",
       "      <th>23086</th>\n",
       "      <td>333931</td>\n",
       "      <td>4511</td>\n",
       "      <td>GABA-A RECEPTOR</td>\n",
       "      <td>ilx_0104510</td>\n",
       "      <td>GABRA1</td>\n",
       "    </tr>\n",
       "  </tbody>\n",
       "</table>\n",
       "</div>"
      ],
      "text/plain": [
       "           id    tid          literal          ilx            label\n",
       "0       31340  15070              Age  ilx_0115067  Participant Age\n",
       "1       31341  15070      Patient Age  ilx_0115067  Participant Age\n",
       "2       31342  15070      Subject Age  ilx_0115067  Participant Age\n",
       "23085  331422   3729       eletriptan  ilx_0103728       Eletriptan\n",
       "23086  333931   4511  GABA-A RECEPTOR  ilx_0104510           GABRA1"
      ]
     },
     "execution_count": 108,
     "metadata": {},
     "output_type": "execute_result"
    }
   ],
   "source": [
    "synonyms.head()"
   ]
  },
  {
   "cell_type": "code",
   "execution_count": 4,
   "metadata": {
    "collapsed": true
   },
   "outputs": [
    {
     "data": {
      "text/html": [
       "<div>\n",
       "<style scoped>\n",
       "    .dataframe tbody tr th:only-of-type {\n",
       "        vertical-align: middle;\n",
       "    }\n",
       "\n",
       "    .dataframe tbody tr th {\n",
       "        vertical-align: top;\n",
       "    }\n",
       "\n",
       "    .dataframe thead th {\n",
       "        text-align: right;\n",
       "    }\n",
       "</style>\n",
       "<table border=\"1\" class=\"dataframe\">\n",
       "  <thead>\n",
       "    <tr style=\"text-align: right;\">\n",
       "      <th></th>\n",
       "      <th>id</th>\n",
       "      <th>tid</th>\n",
       "      <th>superclass_tid</th>\n",
       "      <th>term_label</th>\n",
       "      <th>term_ilx</th>\n",
       "      <th>superclass_label</th>\n",
       "      <th>superclass_ilx</th>\n",
       "    </tr>\n",
       "  </thead>\n",
       "  <tbody>\n",
       "    <tr>\n",
       "      <th>0</th>\n",
       "      <td>12494</td>\n",
       "      <td>15070</td>\n",
       "      <td>15069</td>\n",
       "      <td>Participant Age</td>\n",
       "      <td>ilx_0115067</td>\n",
       "      <td>National Cancer Institute Common Data Element</td>\n",
       "      <td>ilx_0115066</td>\n",
       "    </tr>\n",
       "    <tr>\n",
       "      <th>23078</th>\n",
       "      <td>307260</td>\n",
       "      <td>2483</td>\n",
       "      <td>10842</td>\n",
       "      <td>Connected spatiotemporal region</td>\n",
       "      <td>ilx_0102482</td>\n",
       "      <td>Spatiotemporal region</td>\n",
       "      <td>ilx_0110841</td>\n",
       "    </tr>\n",
       "    <tr>\n",
       "      <th>23079</th>\n",
       "      <td>307261</td>\n",
       "      <td>2484</td>\n",
       "      <td>11600</td>\n",
       "      <td>Connected temporal region</td>\n",
       "      <td>ilx_0102483</td>\n",
       "      <td>Temporal region</td>\n",
       "      <td>ilx_0111599</td>\n",
       "    </tr>\n",
       "    <tr>\n",
       "      <th>23080</th>\n",
       "      <td>307331</td>\n",
       "      <td>2558</td>\n",
       "      <td>10743</td>\n",
       "      <td>Cord blood stem cell</td>\n",
       "      <td>ilx_0102557</td>\n",
       "      <td>Somatic stem cell</td>\n",
       "      <td>ilx_0110742</td>\n",
       "    </tr>\n",
       "    <tr>\n",
       "      <th>23081</th>\n",
       "      <td>307856</td>\n",
       "      <td>3092</td>\n",
       "      <td>2515</td>\n",
       "      <td>Dependent continuant</td>\n",
       "      <td>ilx_0103091</td>\n",
       "      <td>Continuant</td>\n",
       "      <td>ilx_0102514</td>\n",
       "    </tr>\n",
       "  </tbody>\n",
       "</table>\n",
       "</div>"
      ],
      "text/plain": [
       "           id    tid  superclass_tid                       term_label  \\\n",
       "0       12494  15070           15069                  Participant Age   \n",
       "23078  307260   2483           10842  Connected spatiotemporal region   \n",
       "23079  307261   2484           11600        Connected temporal region   \n",
       "23080  307331   2558           10743             Cord blood stem cell   \n",
       "23081  307856   3092            2515             Dependent continuant   \n",
       "\n",
       "          term_ilx                               superclass_label  \\\n",
       "0      ilx_0115067  National Cancer Institute Common Data Element   \n",
       "23078  ilx_0102482                          Spatiotemporal region   \n",
       "23079  ilx_0102483                                Temporal region   \n",
       "23080  ilx_0102557                              Somatic stem cell   \n",
       "23081  ilx_0103091                                     Continuant   \n",
       "\n",
       "      superclass_ilx  \n",
       "0        ilx_0115066  \n",
       "23078    ilx_0110841  \n",
       "23079    ilx_0111599  \n",
       "23080    ilx_0110742  \n",
       "23081    ilx_0102514  "
      ]
     },
     "execution_count": 4,
     "metadata": {},
     "output_type": "execute_result"
    }
   ],
   "source": [
    "superclasses.head()"
   ]
  },
  {
   "cell_type": "code",
   "execution_count": 7,
   "metadata": {
    "collapsed": true
   },
   "outputs": [
    {
     "data": {
      "text/html": [
       "<div>\n",
       "<style scoped>\n",
       "    .dataframe tbody tr th:only-of-type {\n",
       "        vertical-align: middle;\n",
       "    }\n",
       "\n",
       "    .dataframe tbody tr th {\n",
       "        vertical-align: top;\n",
       "    }\n",
       "\n",
       "    .dataframe thead th {\n",
       "        text-align: right;\n",
       "    }\n",
       "</style>\n",
       "<table border=\"1\" class=\"dataframe\">\n",
       "  <thead>\n",
       "    <tr style=\"text-align: right;\">\n",
       "      <th></th>\n",
       "      <th>id</th>\n",
       "      <th>term1_tid</th>\n",
       "      <th>term1_ilx</th>\n",
       "      <th>term1_type</th>\n",
       "      <th>term2_tid</th>\n",
       "      <th>term2_ilx</th>\n",
       "      <th>term2_type</th>\n",
       "      <th>relationship_tid</th>\n",
       "      <th>relationship_ilx</th>\n",
       "      <th>relationship_label</th>\n",
       "    </tr>\n",
       "  </thead>\n",
       "  <tbody>\n",
       "    <tr>\n",
       "      <th>0</th>\n",
       "      <td>1</td>\n",
       "      <td>2</td>\n",
       "      <td>ilx_0100001</td>\n",
       "      <td>term</td>\n",
       "      <td>11841</td>\n",
       "      <td>ilx_0111840</td>\n",
       "      <td>term</td>\n",
       "      <td>12785</td>\n",
       "      <td>ilx_0112784</td>\n",
       "      <td>Has role</td>\n",
       "    </tr>\n",
       "    <tr>\n",
       "      <th>1</th>\n",
       "      <td>2</td>\n",
       "      <td>3</td>\n",
       "      <td>ilx_0100002</td>\n",
       "      <td>term</td>\n",
       "      <td>11841</td>\n",
       "      <td>ilx_0111840</td>\n",
       "      <td>term</td>\n",
       "      <td>12785</td>\n",
       "      <td>ilx_0112784</td>\n",
       "      <td>Has role</td>\n",
       "    </tr>\n",
       "    <tr>\n",
       "      <th>2</th>\n",
       "      <td>3</td>\n",
       "      <td>22</td>\n",
       "      <td>ilx_0100021</td>\n",
       "      <td>term</td>\n",
       "      <td>3721</td>\n",
       "      <td>ilx_0103720</td>\n",
       "      <td>term</td>\n",
       "      <td>12785</td>\n",
       "      <td>ilx_0112784</td>\n",
       "      <td>Has role</td>\n",
       "    </tr>\n",
       "    <tr>\n",
       "      <th>3</th>\n",
       "      <td>4</td>\n",
       "      <td>25</td>\n",
       "      <td>ilx_0100024</td>\n",
       "      <td>term</td>\n",
       "      <td>3577</td>\n",
       "      <td>ilx_0103576</td>\n",
       "      <td>term</td>\n",
       "      <td>12785</td>\n",
       "      <td>ilx_0112784</td>\n",
       "      <td>Has role</td>\n",
       "    </tr>\n",
       "    <tr>\n",
       "      <th>4</th>\n",
       "      <td>5</td>\n",
       "      <td>27</td>\n",
       "      <td>ilx_0100026</td>\n",
       "      <td>term</td>\n",
       "      <td>6459</td>\n",
       "      <td>ilx_0106458</td>\n",
       "      <td>term</td>\n",
       "      <td>12797</td>\n",
       "      <td>ilx_0112796</td>\n",
       "      <td>Related to</td>\n",
       "    </tr>\n",
       "  </tbody>\n",
       "</table>\n",
       "</div>"
      ],
      "text/plain": [
       "   id  term1_tid    term1_ilx term1_type  term2_tid    term2_ilx term2_type  \\\n",
       "0   1          2  ilx_0100001       term      11841  ilx_0111840       term   \n",
       "1   2          3  ilx_0100002       term      11841  ilx_0111840       term   \n",
       "2   3         22  ilx_0100021       term       3721  ilx_0103720       term   \n",
       "3   4         25  ilx_0100024       term       3577  ilx_0103576       term   \n",
       "4   5         27  ilx_0100026       term       6459  ilx_0106458       term   \n",
       "\n",
       "   relationship_tid relationship_ilx relationship_label  \n",
       "0             12785      ilx_0112784           Has role  \n",
       "1             12785      ilx_0112784           Has role  \n",
       "2             12785      ilx_0112784           Has role  \n",
       "3             12785      ilx_0112784           Has role  \n",
       "4             12797      ilx_0112796         Related to  "
      ]
     },
     "execution_count": 7,
     "metadata": {},
     "output_type": "execute_result"
    }
   ],
   "source": [
    "relationships.head()"
   ]
  },
  {
   "cell_type": "code",
   "execution_count": 48,
   "metadata": {},
   "outputs": [
    {
     "data": {
      "text/html": [
       "<div>\n",
       "<style scoped>\n",
       "    .dataframe tbody tr th:only-of-type {\n",
       "        vertical-align: middle;\n",
       "    }\n",
       "\n",
       "    .dataframe tbody tr th {\n",
       "        vertical-align: top;\n",
       "    }\n",
       "\n",
       "    .dataframe thead th {\n",
       "        text-align: right;\n",
       "    }\n",
       "</style>\n",
       "<table border=\"1\" class=\"dataframe\">\n",
       "  <thead>\n",
       "    <tr style=\"text-align: right;\">\n",
       "      <th></th>\n",
       "      <th>id</th>\n",
       "      <th>tid</th>\n",
       "      <th>curie</th>\n",
       "      <th>iri</th>\n",
       "      <th>preferred</th>\n",
       "      <th>ilx</th>\n",
       "      <th>type</th>\n",
       "      <th>label</th>\n",
       "      <th>definition</th>\n",
       "      <th>comment</th>\n",
       "    </tr>\n",
       "  </thead>\n",
       "  <tbody>\n",
       "    <tr>\n",
       "      <th>0</th>\n",
       "      <td>2181964</td>\n",
       "      <td>1</td>\n",
       "      <td>NIFEXT:5214</td>\n",
       "      <td>http://uri.neuinfo.org/nif/nifstd/nifext_5214</td>\n",
       "      <td>1</td>\n",
       "      <td>ilx_0100000</td>\n",
       "      <td>term</td>\n",
       "      <td>(R)N6-phenylisopropyladenosine</td>\n",
       "      <td></td>\n",
       "      <td></td>\n",
       "    </tr>\n",
       "    <tr>\n",
       "      <th>1</th>\n",
       "      <td>2181981</td>\n",
       "      <td>1</td>\n",
       "      <td>ILX:0100000</td>\n",
       "      <td>http://uri.interlex.org/base/ilx_0100000</td>\n",
       "      <td>0</td>\n",
       "      <td>ilx_0100000</td>\n",
       "      <td>term</td>\n",
       "      <td>(R)N6-phenylisopropyladenosine</td>\n",
       "      <td></td>\n",
       "      <td></td>\n",
       "    </tr>\n",
       "    <tr>\n",
       "      <th>2</th>\n",
       "      <td>2182003</td>\n",
       "      <td>2</td>\n",
       "      <td>T3D:0044</td>\n",
       "      <td>http://t3db.org/toxins/T3D0044</td>\n",
       "      <td>0</td>\n",
       "      <td>ilx_0100001</td>\n",
       "      <td>term</td>\n",
       "      <td>1,2-Dibromo-3-chloropropane</td>\n",
       "      <td>Organic Compound;Pesticide;Organochloride;Orga...</td>\n",
       "      <td></td>\n",
       "    </tr>\n",
       "    <tr>\n",
       "      <th>3</th>\n",
       "      <td>2182004</td>\n",
       "      <td>2</td>\n",
       "      <td>ILX:0100001</td>\n",
       "      <td>http://uri.interlex.org/base/ilx_0100001</td>\n",
       "      <td>1</td>\n",
       "      <td>ilx_0100001</td>\n",
       "      <td>term</td>\n",
       "      <td>1,2-Dibromo-3-chloropropane</td>\n",
       "      <td>Organic Compound;Pesticide;Organochloride;Orga...</td>\n",
       "      <td></td>\n",
       "    </tr>\n",
       "    <tr>\n",
       "      <th>4</th>\n",
       "      <td>2744315</td>\n",
       "      <td>3</td>\n",
       "      <td>T3D:0035</td>\n",
       "      <td>http://t3db.org/toxins/T3D0035</td>\n",
       "      <td>0</td>\n",
       "      <td>ilx_0100002</td>\n",
       "      <td>term</td>\n",
       "      <td>1,2-Dibromoethane</td>\n",
       "      <td>Organic Compound;Pesticide;Gasoline Additive/C...</td>\n",
       "      <td></td>\n",
       "    </tr>\n",
       "  </tbody>\n",
       "</table>\n",
       "</div>"
      ],
      "text/plain": [
       "        id  tid        curie                                            iri  \\\n",
       "0  2181964    1  NIFEXT:5214  http://uri.neuinfo.org/nif/nifstd/nifext_5214   \n",
       "1  2181981    1  ILX:0100000       http://uri.interlex.org/base/ilx_0100000   \n",
       "2  2182003    2     T3D:0044                 http://t3db.org/toxins/T3D0044   \n",
       "3  2182004    2  ILX:0100001       http://uri.interlex.org/base/ilx_0100001   \n",
       "4  2744315    3     T3D:0035                 http://t3db.org/toxins/T3D0035   \n",
       "\n",
       "  preferred          ilx  type                           label  \\\n",
       "0         1  ilx_0100000  term  (R)N6-phenylisopropyladenosine   \n",
       "1         0  ilx_0100000  term  (R)N6-phenylisopropyladenosine   \n",
       "2         0  ilx_0100001  term     1,2-Dibromo-3-chloropropane   \n",
       "3         1  ilx_0100001  term     1,2-Dibromo-3-chloropropane   \n",
       "4         0  ilx_0100002  term               1,2-Dibromoethane   \n",
       "\n",
       "                                          definition comment  \n",
       "0                                                             \n",
       "1                                                             \n",
       "2  Organic Compound;Pesticide;Organochloride;Orga...          \n",
       "3  Organic Compound;Pesticide;Organochloride;Orga...          \n",
       "4  Organic Compound;Pesticide;Gasoline Additive/C...          "
      ]
     },
     "execution_count": 48,
     "metadata": {},
     "output_type": "execute_result"
    }
   ],
   "source": [
    "existing_ids.head()"
   ]
  },
  {
   "cell_type": "markdown",
   "metadata": {},
   "source": [
    "#################################################################################################################"
   ]
  },
  {
   "cell_type": "code",
   "execution_count": 5,
   "metadata": {},
   "outputs": [
    {
     "data": {
      "text/plain": [
       "'####################################################################################################'"
      ]
     },
     "execution_count": 5,
     "metadata": {},
     "output_type": "execute_result"
    }
   ],
   "source": [
    "'#'*100 ### microload"
   ]
  },
  {
   "cell_type": "code",
   "execution_count": null,
   "metadata": {},
   "outputs": [],
   "source": [
    "# 'GO:0005874'\n",
    "# TODO: update sql to ignore depricated terms aka annotation -> deprecated True OPTIONAL relationship -> replacedBy <other ilx_id> & obsReason <merged IAO>\n",
    "# TODO: create deprecateTerm(ilx_ids, replaced=False, replaced_reason='merged')"
   ]
  },
  {
   "cell_type": "code",
   "execution_count": 10,
   "metadata": {},
   "outputs": [],
   "source": [
    "data = [{\n",
    "    'label': 'isTreatedAsSynonymOf',\n",
    "    'type': 'relationship',\n",
    "    'comment': 'Multiple types of synonyms involved.',\n",
    "}]"
   ]
  },
  {
   "cell_type": "code",
   "execution_count": 44,
   "metadata": {},
   "outputs": [],
   "source": [
    "from collections import defaultdict\n",
    "from ilxutils.ilx_pred_map import IlxPredMap\n",
    "from ilxutils.interlex_sql import IlxSql\n",
    "from ilxutils.mydifflib import ratio\n",
    "from ilxutils.tools import open_pickle, create_pickle\n",
    "from ilxutils.scicrunch_client import scicrunch\n",
    "import os\n",
    "import pandas as pd\n",
    "from pathlib import Path \n",
    "import rdflib\n",
    "from rdflib import Graph, RDF, RDFS, Literal, URIRef, OWL\n",
    "from sys import exit\n",
    "\n",
    "ipm = IlxPredMap()\n",
    "sql = IlxSql(db_url=os.environ.get('SCICRUNCH_DB_URL_PRODUCTION'))\n",
    "sci = scicrunch(api_key=os.environ.get('SCICRUNCH_API_KEY'), base_path=os.environ.get('SCICRUNCH_BASEBATH_PRODUCTION'))"
   ]
  },
  {
   "cell_type": "code",
   "execution_count": 60,
   "metadata": {},
   "outputs": [
    {
     "name": "stdout",
     "output_type": "stream",
     "text": [
      "{\n",
      "    'id': '9470',\n",
      "    'ilx': 'ilx_0109469',\n",
      "},\n",
      "LABEL | Protostomia\n",
      "DEF   | \n",
      "EX_IDs| [\"'existing_ids': {'curie': 'BIRNLEX:534', 'iri': 'http://uri.neuinfo.org/nif/nifstd/birnlex_534', 'delete': True},\", \"'existing_ids': {'curie': 'ILX:0109469', 'iri': 'http://uri.interlex.org/base/ilx_0109469', 'delete': True},\", \"'existing_ids': {'curie': 'NCBITaxon:33317', 'iri': 'http://purl.obolibrary.org/obo/NCBITaxon_33317', 'delete': True},\"]\n",
      "\n",
      "{\n",
      "    'id': '9471',\n",
      "    'ilx': 'ilx_0109470',\n",
      "},\n",
      "LABEL | Protostomia (birnlex 334)\n",
      "DEF   | \n",
      "EX_IDs| [\"'existing_ids': {'curie': 'BIRNLEX:334', 'iri': 'http://uri.neuinfo.org/nif/nifstd/birnlex_334', 'delete': True},\", \"'existing_ids': {'curie': 'ILX:0109470', 'iri': 'http://uri.interlex.org/base/ilx_0109470', 'delete': True},\", \"'existing_ids': {'curie': 'NCBITaxon:33317', 'iri': 'http://purl.obolibrary.org/obo/NCBITaxon_33317', 'delete': True},\"]\n",
      "\n"
     ]
    }
   ],
   "source": [
    "for term_data in sci.ilxSearches(['ILX:0109469', 'ILX:0109470'], crawl=True, _print=False).values():\n",
    "    print('{')\n",
    "    print(\"    'id': '\" + term_data['id'] + \"',\")\n",
    "    print(\"    'ilx': '\" + term_data['ilx'] + \"',\")\n",
    "    #print(\"    'existing_ids': {'curie': '', 'iri': '', 'delete': True},\")\n",
    "    print('},')\n",
    "    print('LABEL |', term_data['label'])\n",
    "    print('DEF   |', term_data['definition'])\n",
    "    print('EX_IDs|', [\"'existing_ids': {'curie': '\" + d['curie'] + \"', 'iri': '\" + d['iri'] + \"', 'delete': True},\" for d in term_data['existing_ids']])\n",
    "    print()"
   ]
  },
  {
   "cell_type": "code",
   "execution_count": 61,
   "metadata": {},
   "outputs": [
    {
     "name": "stdout",
     "output_type": "stream",
     "text": [
      "[{'tid': '9470', 'annotation_tid': '306375', 'value': 'True', 'term_version': '5', 'annotation_term_version': '1', 'batch-elastic': 'True'}, {'tid': '9470', 'annotation_tid': '306378', 'value': 'Duplicate of ilx_0109470 with wrong information', 'term_version': '5', 'annotation_term_version': '1', 'batch-elastic': 'True'}]\n",
      "{'term1_id': '9470', 'term2_id': '9471', 'relationship_tid': '306376', 'term1_version': '5', 'term2_version': '4', 'relationship_term_version': '1'}\n",
      "{'tid': '9470', 'annotation_tid': '306377', 'value': 'http://purl.obolibrary.org/obo/IAO_0000227', 'term_version': '5', 'annotation_term_version': '1', 'batch-elastic': 'True'}\n",
      "{'tid': '9470', 'annotation_tid': '306378', 'value': 'BIRNLEX:534 is not possible with it being a subclass of an entity when it is really a superclass of that entity', 'term_version': '5', 'annotation_term_version': '1', 'batch-elastic': 'True'}\n"
     ]
    },
    {
     "data": {
      "text/plain": [
       "[None]"
      ]
     },
     "execution_count": 61,
     "metadata": {},
     "output_type": "execute_result"
    }
   ],
   "source": [
    "special_term_updates = [\n",
    "    {\n",
    "        'id': '12049',\n",
    "        'ilx': 'ilx_0112048',\n",
    "        'existing_ids': {'curie': 'UBERON:0002434', 'iri': 'http://purl.obolibrary.org/obo/UBERON_0002434', 'delete': True},\n",
    "    },\n",
    "    {\n",
    "        'id': '880',\n",
    "        'ilx': 'ilx_0100879',\n",
    "        'label': 'Arctiini',\n",
    "        'existing_ids': {'curie': 'NCBITaxon:30225', 'iri': 'http://purl.obolibrary.org/obo/NCBITaxon_30225', 'delete': True},\n",
    "    },\n",
    "    {\n",
    "        'id': '880',\n",
    "        'ilx': 'ilx_0100879',\n",
    "        'existing_ids': {'curie': 'NCBITaxon:132200', 'iri': 'http://purl.obolibrary.org/obo/NCBITaxon_132200'},\n",
    "    },\n",
    "    {\n",
    "        'id': '9470',\n",
    "        'ilx': 'ilx_0109469',\n",
    "        'existing_ids': {'curie': 'NCBITaxon:33317', 'iri': 'http://purl.obolibrary.org/obo/NCBITaxon_33317', 'delete': True},\n",
    "    },\n",
    "]\n",
    "special_dep_additions = [\n",
    "    {\n",
    "       'ilx_id': 'ilx_0109469',\n",
    "       'note': 'Duplicate of ilx_0109470 with wrong information',\n",
    "    },\n",
    "]\n",
    "special_editor_notes = [\n",
    "    {\n",
    "        'ilx_id': 'ilx_0109469',\n",
    "        'note': \"BIRNLEX:534 is not possible with it being a subclass of an entity when it is really a superclass of that entity\",\n",
    "    },\n",
    "\n",
    "]\n",
    "special_merge_relationship_additions = [\n",
    "    {\n",
    "       'ilx1_id': 'ilx_0109469',\n",
    "       'ilx2_id': 'ilx_0109470',\n",
    "    },\n",
    "]\n",
    "\n",
    "[sci.updateTerms([v], crawl=True, _print=False) for v in special_term_updates]\n",
    "[sci.deprecate_entity(**v) for v in special_dep_additions]\n",
    "[sci.add_merge_properties(**v) for v in special_merge_relationship_additions]\n",
    "[sci.add_editor_note(**v) for v in special_editor_notes]"
   ]
  },
  {
   "cell_type": "code",
   "execution_count": null,
   "metadata": {},
   "outputs": [],
   "source": []
  },
  {
   "cell_type": "code",
   "execution_count": 6,
   "metadata": {
    "scrolled": true
   },
   "outputs": [],
   "source": [
    "#sci.addTerms(data, crawl=True, _print=False)"
   ]
  },
  {
   "cell_type": "code",
   "execution_count": 4,
   "metadata": {},
   "outputs": [
    {
     "data": {
      "text/plain": [
       "'####################################################################################################'"
      ]
     },
     "execution_count": 4,
     "metadata": {},
     "output_type": "execute_result"
    }
   ],
   "source": [
    "'#'*100 ### LABEL DIFF WITH MESH "
   ]
  },
  {
   "cell_type": "code",
   "execution_count": 3,
   "metadata": {},
   "outputs": [],
   "source": [
    "ilx = open_pickle('/home/tmsincomb/Dropbox/ilx.pickle')"
   ]
  },
  {
   "cell_type": "code",
   "execution_count": 4,
   "metadata": {},
   "outputs": [],
   "source": [
    "mesh = open_pickle('/home/tmsincomb/Dropbox/scidumps/umls/mesh/mesh2018.pickle')"
   ]
  },
  {
   "cell_type": "code",
   "execution_count": 28,
   "metadata": {
    "scrolled": false
   },
   "outputs": [
    {
     "data": {
      "text/plain": [
       "rdflib.graph.Graph"
      ]
     },
     "execution_count": 28,
     "metadata": {},
     "output_type": "execute_result"
    }
   ],
   "source": [
    "type(mesh)"
   ]
  },
  {
   "cell_type": "code",
   "execution_count": null,
   "metadata": {},
   "outputs": [],
   "source": [
    "from rdflib import Graph, RDF, URIRef, Literal"
   ]
  },
  {
   "cell_type": "code",
   "execution_count": 5,
   "metadata": {},
   "outputs": [
    {
     "name": "stdout",
     "output_type": "stream",
     "text": [
      "CPU times: user 2min 7s, sys: 227 ms, total: 2min 7s\n",
      "Wall time: 2min 7s\n"
     ]
    }
   ],
   "source": [
    "%%time\n",
    "g = Graph()\n",
    "ilx_objs = {str(o).lower().strip():True for s,p,o in ilx.triples((None, None, None))}\n",
    "#mesh_objs = {o for s,p,o in ilx.triples((None, None, None))}\n",
    "for subj, pred, obj in mesh.triples((None, RDF.type, None)):\n",
    "    for p, o in mesh.predicate_objects(subject=subj):\n",
    "        #if set(str(o).lower().strip()) & ilx_objs:\n",
    "        if ilx_objs.get(str(o).lower().strip()):\n",
    "            g.add((subj, pred, obj))\n",
    "            g.add((subj, p, o))\n",
    "            \n",
    "g.serialize('/home/tmsincomb/Desktop/same.ttl', format='turtle')"
   ]
  },
  {
   "cell_type": "code",
   "execution_count": 5,
   "metadata": {},
   "outputs": [],
   "source": [
    "#g = Graph()\n",
    "#g.parse('/home/tmsincomb/Desktop/same.ttl', format='turtle')\n",
    "g = open_pickle(Path.home()/'Desktop/same.pickle')"
   ]
  },
  {
   "cell_type": "code",
   "execution_count": 8,
   "metadata": {},
   "outputs": [
    {
     "data": {
      "text/plain": [
       "{rdflib.term.URIRef('http://id.nlm.nih.gov/mesh/vocab#abbreviation'),\n",
       " rdflib.term.URIRef('http://id.nlm.nih.gov/mesh/vocab#altLabel'),\n",
       " rdflib.term.URIRef('http://id.nlm.nih.gov/mesh/vocab#annotation'),\n",
       " rdflib.term.URIRef('http://id.nlm.nih.gov/mesh/vocab#casn1_label'),\n",
       " rdflib.term.URIRef('http://id.nlm.nih.gov/mesh/vocab#entryVersion'),\n",
       " rdflib.term.URIRef('http://id.nlm.nih.gov/mesh/vocab#frequency'),\n",
       " rdflib.term.URIRef('http://id.nlm.nih.gov/mesh/vocab#historyNote'),\n",
       " rdflib.term.URIRef('http://id.nlm.nih.gov/mesh/vocab#lexicalTag'),\n",
       " rdflib.term.URIRef('http://id.nlm.nih.gov/mesh/vocab#nlmClassificationNumber'),\n",
       " rdflib.term.URIRef('http://id.nlm.nih.gov/mesh/vocab#note'),\n",
       " rdflib.term.URIRef('http://id.nlm.nih.gov/mesh/vocab#onlineNote'),\n",
       " rdflib.term.URIRef('http://id.nlm.nih.gov/mesh/vocab#prefLabel'),\n",
       " rdflib.term.URIRef('http://id.nlm.nih.gov/mesh/vocab#previousIndexing'),\n",
       " rdflib.term.URIRef('http://id.nlm.nih.gov/mesh/vocab#publicMeSHNote'),\n",
       " rdflib.term.URIRef('http://id.nlm.nih.gov/mesh/vocab#registryNumber'),\n",
       " rdflib.term.URIRef('http://id.nlm.nih.gov/mesh/vocab#relatedRegistryNumber'),\n",
       " rdflib.term.URIRef('http://id.nlm.nih.gov/mesh/vocab#scopeNote'),\n",
       " rdflib.term.URIRef('http://id.nlm.nih.gov/mesh/vocab#sortVersion'),\n",
       " rdflib.term.URIRef('http://id.nlm.nih.gov/mesh/vocab#source'),\n",
       " rdflib.term.URIRef('http://id.nlm.nih.gov/mesh/vocab#thesaurusID'),\n",
       " rdflib.term.URIRef('http://www.w3.org/1999/02/22-rdf-syntax-ns#type'),\n",
       " rdflib.term.URIRef('http://www.w3.org/2000/01/rdf-schema#label')}"
      ]
     },
     "execution_count": 8,
     "metadata": {},
     "output_type": "execute_result"
    }
   ],
   "source": [
    "preds = {p for s,p,o in g.triples((None, None, None))}\n",
    "for pred in preds:\n",
    "    prefix, namespace, name = g.compute_qname(pred)\n",
    "    #print(prefix, name)\n",
    "preds"
   ]
  },
  {
   "cell_type": "code",
   "execution_count": 6,
   "metadata": {
    "scrolled": true
   },
   "outputs": [],
   "source": [
    "ilx_label2row = sql.get_label2row()"
   ]
  },
  {
   "cell_type": "code",
   "execution_count": 7,
   "metadata": {},
   "outputs": [],
   "source": [
    "from ilxutils.mydifflib import ratio"
   ]
  },
  {
   "cell_type": "code",
   "execution_count": 16,
   "metadata": {},
   "outputs": [
    {
     "name": "stdout",
     "output_type": "stream",
     "text": [
      "Labels found: 2231\n",
      "Labels w/def: 1501\n",
      "CPU times: user 7.04 s, sys: 4.08 ms, total: 7.05 s\n",
      "Wall time: 7.04 s\n"
     ]
    }
   ],
   "source": [
    "%%time\n",
    "### LABEL\n",
    "#ilx_objs = {str(o).lower().strip():True for s,p,o in ilx.triples((None, None, None))}\n",
    "lquery = \"\"\"\n",
    "    select ?subj ?label\n",
    "    where {\n",
    "        ?subj rdf:type ns1:Concept ; \n",
    "              rdfs:label ?label ;\n",
    "    } \n",
    "\"\"\"\n",
    "dquery = \"\"\"\n",
    "    select ?definition\n",
    "    where {\n",
    "        %s rdf:type ns1:Concept ; \n",
    "           ns1:scopeNote ?definition ;\n",
    "    } \n",
    "\"\"\" \n",
    "label_count = 0\n",
    "def_count = 0\n",
    "common_labels = []\n",
    "data = []\n",
    "\n",
    "for binding in g.query(lquery):\n",
    "    subj, label = binding\n",
    "    ilx_rows = ilx_label2row.get(str(label).lower().strip())\n",
    "    \n",
    "    if not ilx_rows: continue\n",
    "    label_count += 1\n",
    "    \n",
    "    bindings = mesh.query(dquery % (\"<\"+str(subj)+\">\")).bindings\n",
    "    if not bindings: continue\n",
    "    def_count += 1\n",
    "    definition = str(bindings[0][rdflib.term.Variable('definition')])\n",
    "\n",
    "    for row in ilx_rows:\n",
    "        hit = False\n",
    "        _ratio = 0\n",
    "        if definition and row['definition']:\n",
    "            _ratio = ratio(definition.lower().strip(), row['definition'].lower().strip())\n",
    "            if _ratio > .7:\n",
    "                hit = True\n",
    "                \n",
    "        data.append({\n",
    "            'accept':'',\n",
    "            'equal':hit,\n",
    "            'def_ratio':_ratio,\n",
    "            'ilxdef':row['definition'],\n",
    "            'meshdef':definition,\n",
    "            'ilxlabel':row['label'],\n",
    "            'meshlabel':label,\n",
    "        })\n",
    "\n",
    "print('Labels found:', label_count)\n",
    "print('Labels w/def:', def_count)"
   ]
  },
  {
   "cell_type": "code",
   "execution_count": 17,
   "metadata": {},
   "outputs": [],
   "source": [
    "cols = ['accept', 'equal', 'def_ratio', 'ilxdef', 'meshdef', 'ilxlabel', 'meshlabel']"
   ]
  },
  {
   "cell_type": "code",
   "execution_count": 18,
   "metadata": {},
   "outputs": [],
   "source": [
    "diff = pd.DataFrame(data, columns=cols)"
   ]
  }
 ],
 "metadata": {
  "kernelspec": {
   "display_name": "Python 3",
   "language": "python",
   "name": "python3"
  },
  "language_info": {
   "codemirror_mode": {
    "name": "ipython",
    "version": 3
   },
   "file_extension": ".py",
   "mimetype": "text/x-python",
   "name": "python",
   "nbconvert_exporter": "python",
   "pygments_lexer": "ipython3",
   "version": "3.6.6"
  }
 },
 "nbformat": 4,
 "nbformat_minor": 2
}
