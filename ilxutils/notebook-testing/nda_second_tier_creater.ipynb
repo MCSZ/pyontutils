{
 "cells": [
  {
   "cell_type": "code",
   "execution_count": null,
   "metadata": {},
   "outputs": [],
   "source": [
    "from IPython.core.display import display, HTML\n",
    "display(HTML(\"<style>.container { width:100% !important; }</style>\"))\n",
    "\n",
    "import json\n",
    "from sqlalchemy import create_engine, inspect, Table, Column\n",
    "import pandas as pd\n",
    "from args_reader import read_args\n",
    "from scicrunch_client_fast_mod import scicrunch\n",
    "import sys\n",
    "import time\n",
    "from interlex_sql import interlex_sql\n",
    "import re\n",
    "from collections import defaultdict\n",
    "\n",
    "args = read_args(api_key='../production_api_scicrunch_key.txt', engine_key='../production_engine_scicrunch_key.txt', production=True)\n",
    "sql = interlex_sql(engine_key=args.engine_key)\n",
    "sci = scicrunch(api_key=args.api_key, base_path=args.base_path, engine_key=args.engine_key)"
   ]
  },
  {
   "cell_type": "markdown",
   "metadata": {},
   "source": [
    "## Creation of Ref files"
   ]
  },
  {
   "cell_type": "code",
   "execution_count": null,
   "metadata": {},
   "outputs": [],
   "source": [
    "label_to_id = sql.get_labels_to_ids_dict()"
   ]
  },
  {
   "cell_type": "code",
   "execution_count": null,
   "metadata": {},
   "outputs": [],
   "source": [
    "## So the shortNames list is the only complete data for some unknown reason at the moment; best to just use that to make pure annotations and update defintions\n",
    "tier2 = json.load(open('/home/troy/Desktop/NDA/nda_shortName_data.json', 'r'))"
   ]
  },
  {
   "cell_type": "code",
   "execution_count": null,
   "metadata": {
    "scrolled": false
   },
   "outputs": [],
   "source": [
    "annotation_items = ['required', 'condition', 'filterElement', 'type', 'size', 'valueRange', 'notes', 'id']\n",
    "\n",
    "def collect_annotations(tid, anno_type, memo):\n",
    "    annotations = []\n",
    "    for annotation_key, annotations_values in memo.items():\n",
    "        if annotation_key in annotation_items:\n",
    "            if not annotations_values:\n",
    "                value = annotation_key + ' : None'\n",
    "            elif isinstance(annotations_values, list):\n",
    "                value = annotation_key + ' : ' + '; '.join(annotations_values)\n",
    "            else:\n",
    "                value = annotation_key + ' : ' + str(annotations_values)\n",
    "            annotations.append({'tid':tid, 'annotation_tid':anno_type, 'value':value})\n",
    "    return annotations\n",
    "\n",
    "complete_nda_tier2_production_ref = defaultdict(list)\n",
    "cdes_with_no_data = []\n",
    "tier2_ids = []\n",
    "for k, v in tier2.items():\n",
    "    try:\n",
    "        for e in v['dataElements']:\n",
    "            label = e['name'] + ' (' + k + ')'\n",
    "            try:\n",
    "                tid = label_to_id[label.lower().strip().replace(\"'\", '')]['cde']\n",
    "            except:\n",
    "                print(label)\n",
    "                sys.exit(label_to_id[label.lower().strip()])\n",
    "            if not tid: #defaultdicts return null even with keyerror \n",
    "                sys.exit(k + e['name'])\n",
    "            definition = e['description']\n",
    "            annotations = collect_annotations(tid, 15074, e)\n",
    "\n",
    "            complete_nda_tier2_production_ref[k].append({\n",
    "                    'annotations':annotations,\n",
    "                    'label':label,\n",
    "                    'definition':definition, \n",
    "                    'id':tid,\n",
    "            })\n",
    "            tier2_ids.append(tid)\n",
    "    except:\n",
    "        cdes_with_no_data.append(k)\n",
    "\n",
    "json.dump(cdes_with_no_data, open('/home/troy/Desktop/NDA/cdes_with_no_data.json', 'w'), indent=4)\n",
    "json.dump(complete_nda_tier2_production_ref, open('/home/troy/Desktop/NDA/complete_nda_tier2_production_ref.json', 'w'), indent=4)\n",
    "json.dump(tier2_ids, open('/home/troy/Desktop/NDA/tier2_ids.json', 'w'), indent=4)"
   ]
  },
  {
   "cell_type": "markdown",
   "metadata": {},
   "source": [
    "## Analyzing what is missing or broken for annotations"
   ]
  },
  {
   "cell_type": "code",
   "execution_count": null,
   "metadata": {},
   "outputs": [],
   "source": [
    "annotations_df = sql.get_annotations()"
   ]
  },
  {
   "cell_type": "code",
   "execution_count": null,
   "metadata": {},
   "outputs": [],
   "source": [
    "id_to_label = sql.get_ids_to_labels_dict()"
   ]
  },
  {
   "cell_type": "code",
   "execution_count": null,
   "metadata": {},
   "outputs": [],
   "source": [
    "cdes_incomplete_annotations = []\n",
    "cdes_no_annotations = []\n",
    "ids_to_fix = []\n",
    "for i, id in enumerate(tier2_ids[:]):\n",
    "    \n",
    "    hit = annotations_df.loc[annotations_df.tid == id]\n",
    "    \n",
    "    if hit.empty:\n",
    "        cdes_no_annotations.append({'id':id, 'label':id_to_label[id]})\n",
    "        ids_to_fix.append(id)\n",
    "    else:\n",
    "        vs = hit.to_dict('list')['value']\n",
    "        if 'id' not in ''.join(vs):\n",
    "            cdes_incomplete_annotations.append({'id':id, 'label':id_to_label[id]})\n",
    "            ids_to_fix.append(id)\n",
    "            \n",
    "with open('/home/troy/Desktop/NDA/missing_annotaions.json', 'w') as f:\n",
    "    json.dump(cdes_no_annotations, f, indent=4)\n",
    "print(len(cdes_no_annotations))\n",
    "with open('/home/troy/Desktop/NDA/incomplete_annotaions.json', 'w') as f:\n",
    "    json.dump(cdes_incomplete_annotations, f, indent=4)\n",
    "print(len(cdes_incomplete_annotations))\n",
    "with open('/home/troy/Desktop/NDA/ids_that_were_missing_annotations_or_had_them_incomplete.txt', 'w') as f:\n",
    "    f.write('\\n'.join(map(str, ids_to_fix)))\n",
    "print(len(ids_to_fix))"
   ]
  },
  {
   "cell_type": "code",
   "execution_count": null,
   "metadata": {},
   "outputs": [],
   "source": [
    "ids_to_fix = {id:True for id in ids_to_fix}"
   ]
  },
  {
   "cell_type": "code",
   "execution_count": null,
   "metadata": {},
   "outputs": [],
   "source": [
    "annotations = []\n",
    "term_data = []\n",
    "ids_to_fix = {42722:True, 208982:True}\n",
    "for cde1, polycde2 in complete_nda_tier2_production_ref.items():\n",
    "    for cde2 in polycde2:\n",
    "        if ids_to_fix.get(cde2['id']):\n",
    "            #annotations += cde2['annotations']\n",
    "            term_data.append({'id':cde2['id'], 'definition':cde2['definition']})\n",
    "            print(cde2)\n",
    "        \n",
    "#json.dump(annotations, open('/home/troy/Desktop/NDA/annotations_missing_or_incomplete_4_2018.json', 'w'), indent=4)\n",
    "json.dump(term_data, open('/home/troy/Desktop/NDA/definition_fix_4_2018.json', 'w'), indent=4)"
   ]
  },
  {
   "cell_type": "markdown",
   "metadata": {},
   "source": [
    "## Analyzing what hasn't been updated for definitions"
   ]
  },
  {
   "cell_type": "code",
   "execution_count": null,
   "metadata": {},
   "outputs": [],
   "source": [
    "terms_df = sql.get_terms()"
   ]
  },
  {
   "cell_type": "code",
   "execution_count": null,
   "metadata": {},
   "outputs": [],
   "source": [
    "print('start')\n",
    "broken_definitions = []\n",
    "for i, id in enumerate(tier2_ids[:]):\n",
    "    \n",
    "    hit = terms_df.loc[terms_df.id == id]\n",
    "    \n",
    "    if hit.empty:\n",
    "        sys.exit(id)\n",
    "    else:\n",
    "        for row in hit.itertuples():\n",
    "            if not row.definition or len(row.definition) == 0 or 'filterElement' in str(row.definition):                \n",
    "                broken_definitions.append({'id':row.id, 'definition':row.definition})\n",
    "                #sys.exit(row)\n",
    "                \n",
    "json.dump(broken_definitions, open('/home/troy/Desktop/NDA/definition_fix_4_2018.json', 'w'), indent=4)\n",
    "print(len(broken_definitions))"
   ]
  },
  {
   "cell_type": "code",
   "execution_count": null,
   "metadata": {},
   "outputs": [],
   "source": []
  }
 ],
 "metadata": {
  "kernelspec": {
   "display_name": "Python 3",
   "language": "python3.6",
   "name": "python3"
  },
  "language_info": {
   "codemirror_mode": {
    "name": "ipython",
    "version": 3
   },
   "file_extension": ".py",
   "mimetype": "text/x-python",
   "name": "python",
   "nbconvert_exporter": "python",
   "pygments_lexer": "ipython3",
   "version": "3.6.5"
  }
 },
 "nbformat": 4,
 "nbformat_minor": 2
}
