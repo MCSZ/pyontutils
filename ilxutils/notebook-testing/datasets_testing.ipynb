{
 "cells": [
  {
   "cell_type": "code",
   "execution_count": null,
   "metadata": {},
   "outputs": [],
   "source": [
    "from IPython.core.display import display, HTML\n",
    "display(HTML(\"<style>.container { width:100% !important; }</style>\"))\n",
    "\n",
    "import json\n",
    "from sqlalchemy import create_engine, inspect, Table, Column\n",
    "import pandas as pd\n",
    "from ilxutils.args_reader import read_args\n",
    "from ilxutils.scicrunch_client import scicrunch\n",
    "import sys\n",
    "import time\n",
    "from ilxutils.interlex_sql import interlex_sql\n",
    "import re\n",
    "from collections import defaultdict\n",
    "from IPython.core.display import display\n",
    "import subprocess as sb\n",
    "import pickle\n",
    "from pathlib import Path as p\n",
    "import requests as r\n",
    "from ilxutils.ttl2pd import *\n",
    "import difflib\n",
    "from ilxutils.tools import *"
   ]
  },
  {
   "cell_type": "code",
   "execution_count": null,
   "metadata": {},
   "outputs": [],
   "source": [
    "args = read_args(api_key= p.home() / 'keys/beta_api_scicrunch_key.txt', db_url= p.home() / 'keys/beta_engine_scicrunch_key.txt', beta=True)\n",
    "#args = read_args(api_key= p.home() / 'keys/production_api_scicrunch_key.txt', db_url= p.home() / 'keys/production_engine_scicrunch_key.txt', production=True)\n",
    "sql = interlex_sql(db_url=args.db_url)\n",
    "sci = scicrunch(api_key=args.api_key, base_path=args.base_path, db_url=args.db_url)"
   ]
  },
  {
   "cell_type": "code",
   "execution_count": null,
   "metadata": {
    "scrolled": false
   },
   "outputs": [],
   "source": [
    "tables = sql.show_tables()\n",
    "column_name = list(tables)[0]\n",
    "tables[tables[column_name].str.contains('datasets')]"
   ]
  },
  {
   "cell_type": "code",
   "execution_count": null,
   "metadata": {},
   "outputs": [],
   "source": [
    "def scope_table(df, scope):\n",
    "    for column_name in list(df):\n",
    "        try:\n",
    "            if not df[df[column_name].str.contains(scope)].empty:\n",
    "                print(column_name)\n",
    "                return df[df[column_name].str.contains('jgotest')]\n",
    "        except:\n",
    "            continue\n",
    "scope_table(c, 'Pristionchus lab')"
   ]
  },
  {
   "cell_type": "code",
   "execution_count": null,
   "metadata": {},
   "outputs": [],
   "source": [
    "terms = sql.get_terms()\n",
    "print(set(terms.cid))\n",
    "terms[terms.cid == 108]"
   ]
  },
  {
   "cell_type": "code",
   "execution_count": null,
   "metadata": {
    "scrolled": false
   },
   "outputs": [],
   "source": [
    "df = sql.get_table('communities')\n",
    "df[df.id == 108]"
   ]
  },
  {
   "cell_type": "code",
   "execution_count": null,
   "metadata": {},
   "outputs": [],
   "source": [
    "tables = sql.show_tables()\n",
    "column_name = list(tables)[0]\n",
    "for tablename in tables['Tables_in_nif_eelg']:\n",
    "    df = sql.get_table(tablename)\n",
    "    for column_name in list(df):\n",
    "        try:\n",
    "            if not df[df[column_name].str.contains('jgotest')].empty:\n",
    "                print(tablename)\n",
    "        except:\n",
    "            continue"
   ]
  },
  {
   "cell_type": "code",
   "execution_count": null,
   "metadata": {
    "scrolled": false
   },
   "outputs": [],
   "source": [
    "df = sql.get_table('dataset_metadata')\n",
    "df.head()"
   ]
  },
  {
   "cell_type": "code",
   "execution_count": null,
   "metadata": {},
   "outputs": [],
   "source": [
    "ds = sql.get_table('datasets')\n",
    "dsf = sql.get_table('dataset_fields')\n",
    "labs = sql.get_table('labs')\n",
    "dft = sql.get_table('dataset_fields_templates')\n",
    "c = sql.get_table('communities')"
   ]
  },
  {
   "cell_type": "code",
   "execution_count": null,
   "metadata": {
    "scrolled": true
   },
   "outputs": [],
   "source": [
    "ds.head()"
   ]
  },
  {
   "cell_type": "code",
   "execution_count": null,
   "metadata": {},
   "outputs": [],
   "source": [
    "dft.head()"
   ]
  },
  {
   "cell_type": "code",
   "execution_count": null,
   "metadata": {
    "scrolled": false
   },
   "outputs": [],
   "source": [
    "dsf.head()"
   ]
  },
  {
   "cell_type": "code",
   "execution_count": null,
   "metadata": {
    "scrolled": true
   },
   "outputs": [],
   "source": [
    "labs.head()"
   ]
  },
  {
   "cell_type": "code",
   "execution_count": null,
   "metadata": {
    "scrolled": true
   },
   "outputs": [],
   "source": [
    "labs[labs.name.str.contains('Pristionchus lab')]"
   ]
  },
  {
   "cell_type": "code",
   "execution_count": null,
   "metadata": {
    "scrolled": false
   },
   "outputs": [],
   "source": [
    "ds[ds.dataset_fields_template_id == 5]"
   ]
  },
  {
   "cell_type": "code",
   "execution_count": null,
   "metadata": {},
   "outputs": [],
   "source": [
    "dft[dft.labid == 1]"
   ]
  }
 ],
 "metadata": {
  "kernelspec": {
   "display_name": "Python 3",
   "language": "python3.6",
   "name": "python3"
  },
  "language_info": {
   "codemirror_mode": {
    "name": "ipython",
    "version": 3
   },
   "file_extension": ".py",
   "mimetype": "text/x-python",
   "name": "python",
   "nbconvert_exporter": "python",
   "pygments_lexer": "ipython3",
   "version": "3.6.5"
  }
 },
 "nbformat": 4,
 "nbformat_minor": 2
}
