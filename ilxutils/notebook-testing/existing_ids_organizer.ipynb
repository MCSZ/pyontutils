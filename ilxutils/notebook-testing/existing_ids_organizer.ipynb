{
 "cells": [
  {
   "cell_type": "code",
   "execution_count": null,
   "metadata": {},
   "outputs": [],
   "source": [
    "from IPython.core.display import display, HTML\n",
    "display(HTML(\"<style>.container { width:100% !important; }</style>\"))\n",
    "\n",
    "import json\n",
    "from sqlalchemy import create_engine, inspect, Table, Column\n",
    "import pandas as pd\n",
    "from ilxutils.args_reader import read_args\n",
    "from ilxutils.scicrunch_client import scicrunch\n",
    "import sys\n",
    "import time\n",
    "from ilxutils.interlex_sql import interlex_sql\n",
    "import re\n",
    "from collections import defaultdict\n",
    "from IPython.core.display import display\n",
    "import subprocess as sb\n",
    "\n",
    "args = read_args(api_key='../keys/production_api_scicrunch_key.txt', db_url='../keys/production_engine_scicrunch_key.txt', production=True)\n",
    "sql = interlex_sql(engine_key=args.db_url)\n",
    "sci = scicrunch(api_key=args.api_key, base_path=args.base_path, engine_key=args.db_url)"
   ]
  },
  {
   "cell_type": "code",
   "execution_count": null,
   "metadata": {},
   "outputs": [],
   "source": [
    "ex = sql.get_existing_ids()"
   ]
  },
  {
   "cell_type": "code",
   "execution_count": null,
   "metadata": {},
   "outputs": [],
   "source": [
    "terms = sql.get_terms()"
   ]
  },
  {
   "cell_type": "code",
   "execution_count": null,
   "metadata": {
    "scrolled": true
   },
   "outputs": [],
   "source": [
    "ex"
   ]
  },
  {
   "cell_type": "code",
   "execution_count": null,
   "metadata": {
    "scrolled": true
   },
   "outputs": [],
   "source": [
    "broken_ex = json.load(open('../dump/broken_exisiting_ids_may_1_2018.json', 'r'))"
   ]
  },
  {
   "cell_type": "code",
   "execution_count": null,
   "metadata": {
    "scrolled": false
   },
   "outputs": [],
   "source": [
    "i = 18\n",
    "iri = broken_ex[i][1]\n",
    "if iri == broken_ex[i+1][1] or iri == broken_ex[i-1][1]:\n",
    "    print('*** DUP ***')\n",
    "print(broken_ex[i][0])\n",
    "def curr_ex(iri):\n",
    "    multi = ex.loc[ex.iri == iri]\n",
    "    print('==='*20 + ' Total ' + '==='*20)\n",
    "    display(multi)\n",
    "    for i, row in multi.iterrows():\n",
    "        print('\\n'+'==='*20 + ' ' + str(i) + ' ' + '==='*20)\n",
    "        display(ex.loc[ex.tid == row.tid])\n",
    "        display(terms.loc[terms.id == row.tid])\n",
    "        grep = !grep -nir $row.curie /home/troy/Desktop/work/NIF-Ontology/\n",
    "        if grep:\n",
    "            print(grep)\n",
    "            \n",
    "curr_ex(iri)"
   ]
  },
  {
   "cell_type": "code",
   "execution_count": null,
   "metadata": {},
   "outputs": [],
   "source": [
    "!python3 /home/troy/Desktop/my_tools/ControlF4Folder.py -t .ttl -f /home/troy/Desktop/work/NIF-Ontology/ -s 'birnlex:656' "
   ]
  },
  {
   "cell_type": "code",
   "execution_count": null,
   "metadata": {},
   "outputs": [],
   "source": [
    "\n",
    "fixes = [\n",
    "{'':''},# DICOM [0,1] ilx_0100264 ilx_0100265 same dicom but ilx_0100265 was supposed to have 0072 bc it doesnt exist and 0073 does\n",
    "{'ilx_0109644':'NCBITaxon_8397'},#[2] ilx_0100800 is correct but ilx_0109644 is not and needs to be deleted... NIF-Organism.ttl points to anura from NIF-Eagle-1-Bridge.ttl\n",
    "{'':''},# DICOM [3] ilx_0100879 is subclassof tiger moths so im pretty sure the child does not own this iri\n",
    "{'ilx_0106754':'NCBITaxon_9773'},#[4] ref is currect, target is wrong ilx_0106754 is NCBITaxon_9773\n",
    "{'ilx_0101274':'NCBITaxon_29078'},# [5] Big Brown Bat is wrong\n",
    "{'':''},# [6] DICOM\n",
    "{'':''},# [7] DICOM\n",
    "{'ilx_0101385':'NCBITaxon_7090'}, #[8, 9] Bombyx needs to be corrected\n",
    "{'ilx_0101619':'NCBITaxon_6753'}, #[10, 11]\n",
    "{'':''},# [12] DICOM\n",
    "{'':''},# [13] same as [5] is already handled\n",
    "{'':''},# [14, 15] DICOM\n",
    "{'':''},# [16]\n",
    "{'':''},# [17] ITISTSN:78156\n",
    "{'ilx_0106722':'NCBITaxon_6421'},# [18]\n",
    "{'':''},\n",
    "{'':''},\n",
    "{'':''},\n",
    "{'':''},\n",
    "{'':''},\n",
    "{'':''},\n",
    "{'':''},\n",
    "{'':''},\n",
    "{'':''},\n",
    "{'':''},\n",
    "{'':''},\n",
    "{'':''},\n",
    "{'':''},\n",
    "{'':''},\n",
    "{'':''},\n",
    "{'':''},\n",
    "{'':''},\n",
    "{'':''},\n",
    "{'':''},\n",
    "{'':''},\n",
    "{'':''},\n",
    "{'':''},\n",
    "{'':''},\n",
    "{'':''},\n",
    "]"
   ]
  }
 ],
 "metadata": {
  "kernelspec": {
   "display_name": "Python 3",
   "language": "python3.6",
   "name": "python3"
  },
  "language_info": {
   "codemirror_mode": {
    "name": "ipython",
    "version": 3
   },
   "file_extension": ".py",
   "mimetype": "text/x-python",
   "name": "python",
   "nbconvert_exporter": "python",
   "pygments_lexer": "ipython3",
   "version": "3.6.5"
  }
 },
 "nbformat": 4,
 "nbformat_minor": 2
}
