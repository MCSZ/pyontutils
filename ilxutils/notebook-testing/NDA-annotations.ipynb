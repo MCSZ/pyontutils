{
 "cells": [
  {
   "cell_type": "code",
   "execution_count": null,
   "metadata": {},
   "outputs": [],
   "source": [
    "from IPython.core.display import display, HTML\n",
    "display(HTML(\"<style>.container { width:100% !important; }</style>\"))\n",
    "\n",
    "import json\n",
    "from sqlalchemy import create_engine, inspect, Table, Column\n",
    "import pandas as pd\n",
    "from ilxutils.args_reader import read_args\n",
    "from ilxutils.scicrunch_client import scicrunch\n",
    "import sys\n",
    "import time\n",
    "from ilxutils.interlex_sql import interlex_sql\n",
    "import re\n",
    "from collections import defaultdict\n",
    "from IPython.core.display import display\n",
    "import subprocess as sb\n",
    "import pickle\n",
    "from pathlib import Path as p\n",
    "import requests as r\n",
    "from ilxutils.ttl2pd import *\n",
    "import difflib\n",
    "from ilxutils.tools import *"
   ]
  },
  {
   "cell_type": "code",
   "execution_count": null,
   "metadata": {},
   "outputs": [],
   "source": [
    "p.home() / 'tests.txt'"
   ]
  },
  {
   "cell_type": "code",
   "execution_count": null,
   "metadata": {},
   "outputs": [],
   "source": [
    "'''Need to open nda types and see if they are subjs in the rdflib nif ontologies'''"
   ]
  },
  {
   "cell_type": "code",
   "execution_count": null,
   "metadata": {},
   "outputs": [],
   "source": [
    "args = read_args(api_key= p.home() / 'keys/production_api_scicrunch_key.txt', db_url= p.home() / 'keys/production_engine_scicrunch_key.txt', production=True)\n",
    "sql = interlex_sql(db_url=args.db_url)\n",
    "sci = scicrunch(api_key=args.api_key, base_path=args.base_path, db_url=args.db_url)"
   ]
  },
  {
   "cell_type": "code",
   "execution_count": null,
   "metadata": {},
   "outputs": [],
   "source": [
    "cp(annos, '../../../ilx_db_anno_backup') #need to make a script to back up all tables\n",
    "cp(ex, '../../../ilx_db_ex_backup')\n",
    "cp(terms, '../../../ilx_db_terms_backup')"
   ]
  },
  {
   "cell_type": "code",
   "execution_count": null,
   "metadata": {},
   "outputs": [],
   "source": [
    "#annos = op('../../../ilx_db_anno_backup')\n",
    "#ex = op('../../../ilx_db_ex_backup')\n",
    "terms = op('../../../ilx_db_terms_backup')"
   ]
  },
  {
   "cell_type": "code",
   "execution_count": null,
   "metadata": {},
   "outputs": [],
   "source": [
    "terms = sql.get_terms()\n",
    "annos = sql.get_annotations()\n",
    "ex = sql.get_existing_ids()"
   ]
  },
  {
   "cell_type": "code",
   "execution_count": null,
   "metadata": {
    "scrolled": true
   },
   "outputs": [],
   "source": [
    "for value in ['condition', 'filterElement', 'size', 'notes', 'id', 'valueRange', 'required', 'type']:\n",
    "    if not annos[(annos.annotation_label == 'hasConstraint') & (annos.value.str.contains(value+' :'))].empty:\n",
    "        print(value)"
   ]
  },
  {
   "cell_type": "code",
   "execution_count": null,
   "metadata": {},
   "outputs": [],
   "source": [
    "annos[annos.id == 6909]"
   ]
  },
  {
   "cell_type": "code",
   "execution_count": null,
   "metadata": {},
   "outputs": [],
   "source": [
    "terms[terms.id == 15077]"
   ]
  },
  {
   "cell_type": "code",
   "execution_count": null,
   "metadata": {},
   "outputs": [],
   "source": [
    "annos[annos.value.str.contains('type : File')]"
   ]
  },
  {
   "cell_type": "code",
   "execution_count": null,
   "metadata": {},
   "outputs": [],
   "source": [
    "terms[terms.id == 53165]"
   ]
  },
  {
   "cell_type": "code",
   "execution_count": null,
   "metadata": {},
   "outputs": [],
   "source": [
    "for i, row in terms.iterrows():\n",
    "    if row.type not in ['annotation', 'term', 'relationship', 'cde']:\n",
    "        print(row, 'here')"
   ]
  },
  {
   "cell_type": "code",
   "execution_count": null,
   "metadata": {
    "scrolled": true
   },
   "outputs": [],
   "source": [
    "annos[annos.value.str.contains('type : File')]"
   ]
  },
  {
   "cell_type": "code",
   "execution_count": null,
   "metadata": {
    "scrolled": true
   },
   "outputs": [],
   "source": [
    "terms[terms.label == 'grade_highed (AASPIRE Health Integration)']"
   ]
  },
  {
   "cell_type": "code",
   "execution_count": null,
   "metadata": {
    "scrolled": true
   },
   "outputs": [],
   "source": [
    "annos.head()"
   ]
  },
  {
   "cell_type": "code",
   "execution_count": null,
   "metadata": {
    "scrolled": true
   },
   "outputs": [],
   "source": [
    "ex.head()"
   ]
  },
  {
   "cell_type": "code",
   "execution_count": null,
   "metadata": {},
   "outputs": [],
   "source": [
    "set(annos[annos.annotation_label.str.contains('type')].annotation_label)"
   ]
  },
  {
   "cell_type": "code",
   "execution_count": null,
   "metadata": {},
   "outputs": [],
   "source": [
    "'''check if all 2nd tier has NDA.CDE exs'''\n",
    "excheck = defaultdict(list)\n",
    "for i, row in ex.iterrows():\n",
    "    excheck[row.tid].append(row.curie.split(':', 1)[0])"
   ]
  },
  {
   "cell_type": "code",
   "execution_count": null,
   "metadata": {},
   "outputs": [],
   "source": [
    "for tid in oj('../../../nda_tier2_term_ids'):\n",
    "    if 'NDA.CDE' not in excheck[tid]:\n",
    "        print(tid, excheck[tid])\n",
    "        break"
   ]
  },
  {
   "cell_type": "code",
   "execution_count": null,
   "metadata": {},
   "outputs": [],
   "source": [
    "for i, row in annos.iterrows():\n",
    "    print({**row, **{'test':1}})\n",
    "    break"
   ]
  },
  {
   "cell_type": "code",
   "execution_count": null,
   "metadata": {},
   "outputs": [],
   "source": [
    "nda_tier2_term_ids = []\n",
    "for i, row in annos[annos.annotation_label == 'hasConstraint'].iterrows(): ## get second tier annotations only -> anno_label == 'hasConstraint'\n",
    "    key_type, key_val = contains_key(row.value)\n",
    "    if key_val:\n",
    "        nda_tier2_term_ids.append(row.tid)\n",
    "cj(nda_tier2_term_ids, '../../../nda_tier2_term_ids')"
   ]
  },
  {
   "cell_type": "code",
   "execution_count": null,
   "metadata": {},
   "outputs": [],
   "source": [
    "terms[terms.id == 304437]"
   ]
  },
  {
   "cell_type": "code",
   "execution_count": null,
   "metadata": {},
   "outputs": [],
   "source": [
    "stak = { #second tier annotation keys\n",
    "    'condition':True,\n",
    "    'filterElement':True,\n",
    "    'id':True,\n",
    "    'notes':True,\n",
    "    'required':True,\n",
    "    'size':True,\n",
    "    'type':True,\n",
    "    'valueRange':True,\n",
    "}\n",
    "def contains_key(string):\n",
    "    if ':' in string:\n",
    "        sk, sval = string.split(':', 1)[0].strip(), string.split(':', 1)[1].strip() #string key\n",
    "        if stak.get(sk):\n",
    "            return sk, sval\n",
    "    return False, False\n",
    "\n",
    "udata = []\n",
    "adata = []\n",
    "cdata = []\n",
    "ddata = []\n",
    "tudata = []\n",
    "visited = {}\n",
    "filterElementID = 304437\n",
    "required = 304438\n",
    "condition = 304439\n",
    "size = 304440\n",
    "minValue = 304441\n",
    "maxValue = 304442\n",
    "allowedTypes = 304443\n",
    "allowedValues = 304444\n",
    "for i, row in annos[annos.annotation_label == 'hasConstraint'].iterrows(): ## get second tier annotations only -> anno_label == 'hasConstraint'\n",
    "    if i % 200000 == 0: print(i)\n",
    "    key_type, key_val = contains_key(row.value) ## filter each term by their annotation values by key : value\n",
    "    \n",
    "#     if key_type == 'condition':\n",
    "#         if key_val == \"None\":\n",
    "#             udata.append({'id':row['id'], 'tid':row['tid'], 'annotation_tid':condition, 'value':key_val})        \n",
    "#         else:\n",
    "#             print(key_type, row.ilx, row.label)\n",
    "    \n",
    "#     elif key_type == 'filterElement':\n",
    "#         if key_val == \"None\":\n",
    "#             udata.append({'id':row['id'], 'tid':row['tid'], 'annotation_tid':filterElementID, 'value':'False'})\n",
    "#         elif key_val == '1':\n",
    "#             udata.append({'id':row['id'], 'tid':row['tid'], 'annotation_tid':filterElementID, 'value':'True'})\n",
    "#         else:\n",
    "#             sys.exit(key_val)\n",
    "            \n",
    "#     elif key_type == 'id':\n",
    "#        ddata.append(row.id)\n",
    "        \n",
    "#     elif key_type == 'notes':\n",
    "#        if key_val != \"None\" and not visited.get(row.tid):\n",
    "#            tudata.append({'id':row.tid, 'ilx':row.term_ilx, 'comment':key_val})\n",
    "#            visited[row.tid] = True\n",
    "#        ddata.append(row.id)\n",
    "    \n",
    "#     elif key_type == 'required':\n",
    "#         if key_val == \"None\":\n",
    "#             udata.append({'id':row['id'], 'tid':row['tid'], 'annotation_tid':required, 'value':key_val})\n",
    "#         else:\n",
    "#             print(key_type, row.ilx, row.label)\n",
    "      \n",
    "#     elif key_type == 'size':\n",
    "#         if key_val == \"None\":\n",
    "#             udata.append({'id':row['id'], 'tid':row['tid'], 'annotation_tid':size, 'value':key_val})\n",
    "#         else:\n",
    "#             print(key_type, row.ilx, row.label)\n",
    "    \n",
    "\n",
    "    if key_type == 'type':#{'Date', 'File', 'Float', 'GUID', 'Integer', 'String', 'Thumbnail'}\n",
    "        memo = {'id':row['id'], 'tid':row['tid'], 'annotation_tid':allowedTypes, 'value':None}\n",
    "        pairs = {\n",
    "            'Date':'xsd:dateTime',\n",
    "            'File':'xsd:string',\n",
    "            'Float':'xsd:float',\n",
    "            'GUID':'ilxtr:guid',\n",
    "            'Integer':'xsd:integer',\n",
    "            'String':'xsd:string',\n",
    "            'Thumbnail':'xsd:string',\n",
    "        }\n",
    "        if pairs.get(key_val):\n",
    "            memo['value'] = pairs[key_val]\n",
    "        else:\n",
    "            sys.exit('type fail') \n",
    "        udata.append(memo)\n",
    "    \n",
    "#     if key_type == 'valueRange':\n",
    "#         if key_val == 'None': \n",
    "#             udata.append({'id':row['id'], 'tid':row.tid, 'annotation_tid':allowedValues, 'value':key_val})\n",
    "#         else:\n",
    "#             print(key_type, row.ilx, row.label)\n",
    "    \n",
    "        #if '::' in key_val:\n",
    "        #    if len(key_val.split('::')) == 2:\n",
    "        #        _minValue, _maxValue = key_val.split('::')[0].strip(), key_val.split('::')[1].strip()\n",
    "        #        ddata.append(row.id)\n",
    "        #        adata.append({'id':row['id'], 'tid':row.tid, 'annotation_tid':minValue, 'value':_minValue})\n",
    "        #        adata.append({'id':row['id'], 'tid':row.tid, 'annotation_tid':maxValue, 'value':_maxValue})\n",
    "        #    else:\n",
    "        #        udata.append({'id':row['id'], 'tid':row.tid, 'annotation_tid':allowedValues, 'value':key_val})\n",
    "        #else:\n",
    "        #    udata.append({'id':row['id'], 'tid':row.tid, 'annotation_tid':allowedValues, 'value':key_val})\n",
    "\n",
    "## condition -> ?\n",
    "## filterElement -> ?\n",
    "## delete Id if it is preferred already\n",
    "## notes -> move to notes\n",
    "## required -> get list of options this has\n",
    "## size -> get ex that isn't none\n",
    "## type -> porb\n",
    "## valueRange -> seperate into minValue and maxValue"
   ]
  },
  {
   "cell_type": "code",
   "execution_count": null,
   "metadata": {},
   "outputs": [],
   "source": [
    "#cj(sorted(ddata), '../../../nda_annotation_valueRange_delete')\n",
    "cj(udata, '../../../nda_type_update')\n",
    "#cj(adata, '../../../nda_minmaxvalue_add')\n",
    "#cj(tudata, '../../../nda_term_update')\n",
    "#cj(udata, '../../../nda_annotation_update')\n",
    "#cj(cdata, '../../../nda_annotation_check')\n",
    "#cj(udata, '../../../nda_None_update')"
   ]
  },
  {
   "cell_type": "code",
   "execution_count": null,
   "metadata": {},
   "outputs": [],
   "source": [
    "data = [{'id':304444, 'label':'allowedValues', 'type':'annotation'}]\n",
    "output = sci.updateTerms(data, LIMIT=1, crawl=True, _print=False)#304437\n",
    "output"
   ]
  },
  {
   "cell_type": "code",
   "execution_count": null,
   "metadata": {},
   "outputs": [],
   "source": [
    "cdata = oj('../../../nda_annotation_check')"
   ]
  },
  {
   "cell_type": "code",
   "execution_count": null,
   "metadata": {},
   "outputs": [],
   "source": [
    "'''explainer'''\n",
    "ctypes = defaultdict(set)\n",
    "for d in cdata:\n",
    "    ctypes[list(d)[0]].add(list(d.values())[0])"
   ]
  },
  {
   "cell_type": "code",
   "execution_count": null,
   "metadata": {},
   "outputs": [],
   "source": [
    "#ctypes['codition'] #random code; ex ->  'famhx_1   == 1 &&  fam_history_12_yes_no   == 1 &&  fhx_3h_younger_p  > 4 &&  fhx_3h_younger_p  != 999',\n",
    "#ctypes['size'] #ints with no measurement specifics \n",
    "#ctypes['filterElement'] #either 1 or None, makes me think its really 0 or 1 for true or false\n",
    "#ctypes['required'] # {'Conditional', 'Optional', 'Recommended', 'Required'}\n",
    "#ctypes['type'] #{'Date', 'File', 'Float', 'GUID', 'Integer', 'String', 'Thumbnail'}\n",
    "#ctypes['valueRange']"
   ]
  },
  {
   "cell_type": "code",
   "execution_count": null,
   "metadata": {
    "scrolled": true
   },
   "outputs": [],
   "source": [
    "import subprocess as sb\n",
    "for typ in ['Date', 'File', 'Float', 'GUID', 'Integer', 'String', 'Thumbnail']:\n",
    "    datatype = \"xsd:\"+typ\n",
    "    sbinput=\"grep -nir '{}' /home/troy/Desktop/work/NIF-Ontology/\".format(datatype)\n",
    "    print(sbinput)\n",
    "    output = sb.getoutput(sbinput)\n",
    "    if output and typ not in ['String']:\n",
    "        print(output)"
   ]
  },
  {
   "cell_type": "code",
   "execution_count": null,
   "metadata": {},
   "outputs": [],
   "source": [
    "from rdflib.namespace import XSD\n",
    "XSD.troy"
   ]
  }
 ],
 "metadata": {
  "kernelspec": {
   "display_name": "Python 3",
   "language": "python3.6",
   "name": "python3"
  },
  "language_info": {
   "codemirror_mode": {
    "name": "ipython",
    "version": 3
   },
   "file_extension": ".py",
   "mimetype": "text/x-python",
   "name": "python",
   "nbconvert_exporter": "python",
   "pygments_lexer": "ipython3",
   "version": "3.6.5"
  }
 },
 "nbformat": 4,
 "nbformat_minor": 2
}
