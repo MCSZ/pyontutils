{
 "cells": [
  {
   "cell_type": "code",
   "execution_count": 1,
   "metadata": {},
   "outputs": [
    {
     "data": {
      "text/html": [
       "<style>.container { width:100% !important; }</style>"
      ],
      "text/plain": [
       "<IPython.core.display.HTML object>"
      ]
     },
     "metadata": {},
     "output_type": "display_data"
    }
   ],
   "source": [
    "from IPython.core.display import display, HTML\n",
    "display(HTML(\"<style>.container { width:100% !important; }</style>\"))\n",
    "\n",
    "import json\n",
    "from sqlalchemy import create_engine, inspect, Table, Column\n",
    "import pandas as pd\n",
    "from ilxutils.args_reader import read_args\n",
    "from ilxutils.scicrunch_client import scicrunch\n",
    "import sys\n",
    "import time\n",
    "from ilxutils.interlex_sql import interlex_sql\n",
    "import re\n",
    "from collections import defaultdict\n",
    "from IPython.core.display import display\n",
    "import subprocess as sb\n",
    "import pickle\n",
    "from pathlib import Path as p\n",
    "import requests as r\n",
    "from ilxutils.ttl2pd import *\n",
    "import difflib\n",
    "\n",
    "def degrade(var):\n",
    "    def helper(s):\n",
    "        return str(re.sub(\"\\(|\\)|'|,\", \"\", s).lower().strip())\n",
    "    if type(var)!=list:\n",
    "        if var:\n",
    "            return helper(var)\n",
    "        else:\n",
    "            return var\n",
    "    else:\n",
    "        return [helper(v) if v else v for v in var]\n",
    "    \n",
    "def cj(data, output):\n",
    "    with open(output+'.json', 'w') as outfile:\n",
    "        json.dump(data, outfile, indent=4)\n",
    "    print('Complete')\n",
    "def oj(filepath):\n",
    "    with open(filepath+'.json', 'r') as infile:\n",
    "        return json.load(infile)\n",
    "        \n",
    "def cp(data, output):\n",
    "    with open(output+'.pickle', 'wb') as outfile:\n",
    "        pickle.dump(data, outfile)\n",
    "    print('Complete')\n",
    "def op(filepath):\n",
    "    with open(filepath+'.pickle', 'rb') as infile:\n",
    "        return pickle.load(infile)"
   ]
  },
  {
   "cell_type": "code",
   "execution_count": null,
   "metadata": {},
   "outputs": [],
   "source": [
    "'''Need to open nda types and see if they are subjs in the rdflib nif ontologies'''"
   ]
  },
  {
   "cell_type": "code",
   "execution_count": 3,
   "metadata": {},
   "outputs": [],
   "source": [
    "args = read_args(api_key= p.home() / 'keys/production_api_scicrunch_key.txt', db_url= p.home() / 'keys/production_engine_scicrunch_key.txt', production=True)\n",
    "sql = interlex_sql(db_url=args.db_url)\n",
    "sci = scicrunch(api_key=args.api_key, base_path=args.base_path, db_url=args.db_url)"
   ]
  },
  {
   "cell_type": "code",
   "execution_count": 5,
   "metadata": {},
   "outputs": [
    {
     "name": "stdout",
     "output_type": "stream",
     "text": [
      "Complete\n",
      "Complete\n",
      "Complete\n"
     ]
    }
   ],
   "source": [
    "cp(annos, '../../../ilx_db_anno_backup') #need to make a script to back up all tables\n",
    "cp(ex, '../../../ilx_db_ex_backup')\n",
    "cp(terms, '../../../ilx_db_terms_backup')"
   ]
  },
  {
   "cell_type": "code",
   "execution_count": 33,
   "metadata": {},
   "outputs": [],
   "source": [
    "annos = op('../../../ilx_db_anno_backup')\n",
    "ex = op('../../../ilx_db_ex_backup')\n",
    "terms = op('../../../ilx_db_terms_backup')"
   ]
  },
  {
   "cell_type": "code",
   "execution_count": 5,
   "metadata": {},
   "outputs": [],
   "source": [
    "terms = sql.get_terms()\n",
    "annos = sql.get_annotations()\n",
    "ex = sql.get_existing_ids()"
   ]
  },
  {
   "cell_type": "code",
   "execution_count": 72,
   "metadata": {},
   "outputs": [
    {
     "data": {
      "text/html": [
       "<div>\n",
       "<style scoped>\n",
       "    .dataframe tbody tr th:only-of-type {\n",
       "        vertical-align: middle;\n",
       "    }\n",
       "\n",
       "    .dataframe tbody tr th {\n",
       "        vertical-align: top;\n",
       "    }\n",
       "\n",
       "    .dataframe thead th {\n",
       "        text-align: right;\n",
       "    }\n",
       "</style>\n",
       "<table border=\"1\" class=\"dataframe\">\n",
       "  <thead>\n",
       "    <tr style=\"text-align: right;\">\n",
       "      <th></th>\n",
       "      <th>id</th>\n",
       "      <th>tid</th>\n",
       "      <th>annotation_tid</th>\n",
       "      <th>value</th>\n",
       "      <th>term_label</th>\n",
       "      <th>term_ilx</th>\n",
       "      <th>annotation_tid</th>\n",
       "      <th>annotation_label</th>\n",
       "      <th>annotation_ilx</th>\n",
       "    </tr>\n",
       "  </thead>\n",
       "  <tbody>\n",
       "    <tr>\n",
       "      <th>7035</th>\n",
       "      <td>6908</td>\n",
       "      <td>15077</td>\n",
       "      <td>15074</td>\n",
       "      <td>filterElement : None</td>\n",
       "      <td>subjectkey (12-Item Grit Scale)</td>\n",
       "      <td>ilx_0115074</td>\n",
       "      <td>15074</td>\n",
       "      <td>hasConstraint</td>\n",
       "      <td>ilx_0115071</td>\n",
       "    </tr>\n",
       "  </tbody>\n",
       "</table>\n",
       "</div>"
      ],
      "text/plain": [
       "        id    tid  annotation_tid                 value  \\\n",
       "7035  6908  15077           15074  filterElement : None   \n",
       "\n",
       "                           term_label     term_ilx  annotation_tid  \\\n",
       "7035  subjectkey (12-Item Grit Scale)  ilx_0115074           15074   \n",
       "\n",
       "     annotation_label annotation_ilx  \n",
       "7035    hasConstraint    ilx_0115071  "
      ]
     },
     "execution_count": 72,
     "metadata": {},
     "output_type": "execute_result"
    }
   ],
   "source": [
    "annos[annos.id == 6908]"
   ]
  },
  {
   "cell_type": "code",
   "execution_count": 34,
   "metadata": {
    "scrolled": true
   },
   "outputs": [
    {
     "data": {
      "text/html": [
       "<div>\n",
       "<style scoped>\n",
       "    .dataframe tbody tr th:only-of-type {\n",
       "        vertical-align: middle;\n",
       "    }\n",
       "\n",
       "    .dataframe tbody tr th {\n",
       "        vertical-align: top;\n",
       "    }\n",
       "\n",
       "    .dataframe thead th {\n",
       "        text-align: right;\n",
       "    }\n",
       "</style>\n",
       "<table border=\"1\" class=\"dataframe\">\n",
       "  <thead>\n",
       "    <tr style=\"text-align: right;\">\n",
       "      <th></th>\n",
       "      <th>id</th>\n",
       "      <th>ilx</th>\n",
       "      <th>orig_uid</th>\n",
       "      <th>orig_cid</th>\n",
       "      <th>uid</th>\n",
       "      <th>cid</th>\n",
       "      <th>label</th>\n",
       "      <th>definition</th>\n",
       "      <th>comment</th>\n",
       "      <th>type</th>\n",
       "      <th>version</th>\n",
       "      <th>status</th>\n",
       "      <th>display_superclass</th>\n",
       "      <th>orig_time</th>\n",
       "      <th>time</th>\n",
       "    </tr>\n",
       "  </thead>\n",
       "  <tbody>\n",
       "    <tr>\n",
       "      <th>15513</th>\n",
       "      <td>15518</td>\n",
       "      <td>ilx_0115515</td>\n",
       "      <td>0</td>\n",
       "      <td>0</td>\n",
       "      <td>0</td>\n",
       "      <td>0</td>\n",
       "      <td>grade_highed (AASPIRE Health Integration)</td>\n",
       "      <td>Grade/Highest education</td>\n",
       "      <td></td>\n",
       "      <td>cde</td>\n",
       "      <td>4</td>\n",
       "      <td>0</td>\n",
       "      <td>1</td>\n",
       "      <td>1515202052</td>\n",
       "      <td>1524592193</td>\n",
       "    </tr>\n",
       "  </tbody>\n",
       "</table>\n",
       "</div>"
      ],
      "text/plain": [
       "          id          ilx  orig_uid  orig_cid  uid  cid  \\\n",
       "15513  15518  ilx_0115515         0         0    0    0   \n",
       "\n",
       "                                           label               definition  \\\n",
       "15513  grade_highed (AASPIRE Health Integration)  Grade/Highest education   \n",
       "\n",
       "      comment type  version  status display_superclass   orig_time        time  \n",
       "15513          cde        4       0                  1  1515202052  1524592193  "
      ]
     },
     "execution_count": 34,
     "metadata": {},
     "output_type": "execute_result"
    }
   ],
   "source": [
    "terms[terms.label == 'grade_highed (AASPIRE Health Integration)']"
   ]
  },
  {
   "cell_type": "code",
   "execution_count": 6,
   "metadata": {
    "scrolled": true
   },
   "outputs": [
    {
     "data": {
      "text/html": [
       "<div>\n",
       "<style scoped>\n",
       "    .dataframe tbody tr th:only-of-type {\n",
       "        vertical-align: middle;\n",
       "    }\n",
       "\n",
       "    .dataframe tbody tr th {\n",
       "        vertical-align: top;\n",
       "    }\n",
       "\n",
       "    .dataframe thead th {\n",
       "        text-align: right;\n",
       "    }\n",
       "</style>\n",
       "<table border=\"1\" class=\"dataframe\">\n",
       "  <thead>\n",
       "    <tr style=\"text-align: right;\">\n",
       "      <th></th>\n",
       "      <th>id</th>\n",
       "      <th>tid</th>\n",
       "      <th>annotation_tid</th>\n",
       "      <th>value</th>\n",
       "      <th>term_label</th>\n",
       "      <th>term_ilx</th>\n",
       "      <th>annotation_label</th>\n",
       "      <th>annotation_ilx</th>\n",
       "    </tr>\n",
       "  </thead>\n",
       "  <tbody>\n",
       "    <tr>\n",
       "      <th>0</th>\n",
       "      <td>38201</td>\n",
       "      <td>182</td>\n",
       "      <td>15074</td>\n",
       "      <td>categories : Questionnaire</td>\n",
       "      <td>Abnormal Involuntary Movement Scale</td>\n",
       "      <td>ilx_0100181</td>\n",
       "      <td>hasConstraint</td>\n",
       "      <td>ilx_0115071</td>\n",
       "    </tr>\n",
       "    <tr>\n",
       "      <th>1</th>\n",
       "      <td>38202</td>\n",
       "      <td>182</td>\n",
       "      <td>15074</td>\n",
       "      <td>status : Published</td>\n",
       "      <td>Abnormal Involuntary Movement Scale</td>\n",
       "      <td>ilx_0100181</td>\n",
       "      <td>hasConstraint</td>\n",
       "      <td>ilx_0115071</td>\n",
       "    </tr>\n",
       "    <tr>\n",
       "      <th>2</th>\n",
       "      <td>38208</td>\n",
       "      <td>182</td>\n",
       "      <td>15074</td>\n",
       "      <td>dataType : Clinical Assessments</td>\n",
       "      <td>Abnormal Involuntary Movement Scale</td>\n",
       "      <td>ilx_0100181</td>\n",
       "      <td>hasConstraint</td>\n",
       "      <td>ilx_0115071</td>\n",
       "    </tr>\n",
       "    <tr>\n",
       "      <th>3</th>\n",
       "      <td>38216</td>\n",
       "      <td>182</td>\n",
       "      <td>15074</td>\n",
       "      <td>sources : NDAR; NDCT; RDoC</td>\n",
       "      <td>Abnormal Involuntary Movement Scale</td>\n",
       "      <td>ilx_0100181</td>\n",
       "      <td>hasConstraint</td>\n",
       "      <td>ilx_0115071</td>\n",
       "    </tr>\n",
       "    <tr>\n",
       "      <th>4</th>\n",
       "      <td>38220</td>\n",
       "      <td>182</td>\n",
       "      <td>15074</td>\n",
       "      <td>modifiedDate : 1515012631513</td>\n",
       "      <td>Abnormal Involuntary Movement Scale</td>\n",
       "      <td>ilx_0100181</td>\n",
       "      <td>hasConstraint</td>\n",
       "      <td>ilx_0115071</td>\n",
       "    </tr>\n",
       "  </tbody>\n",
       "</table>\n",
       "</div>"
      ],
      "text/plain": [
       "      id  tid  annotation_tid                            value  \\\n",
       "0  38201  182           15074       categories : Questionnaire   \n",
       "1  38202  182           15074               status : Published   \n",
       "2  38208  182           15074  dataType : Clinical Assessments   \n",
       "3  38216  182           15074       sources : NDAR; NDCT; RDoC   \n",
       "4  38220  182           15074     modifiedDate : 1515012631513   \n",
       "\n",
       "                            term_label     term_ilx annotation_label  \\\n",
       "0  Abnormal Involuntary Movement Scale  ilx_0100181    hasConstraint   \n",
       "1  Abnormal Involuntary Movement Scale  ilx_0100181    hasConstraint   \n",
       "2  Abnormal Involuntary Movement Scale  ilx_0100181    hasConstraint   \n",
       "3  Abnormal Involuntary Movement Scale  ilx_0100181    hasConstraint   \n",
       "4  Abnormal Involuntary Movement Scale  ilx_0100181    hasConstraint   \n",
       "\n",
       "  annotation_ilx  \n",
       "0    ilx_0115071  \n",
       "1    ilx_0115071  \n",
       "2    ilx_0115071  \n",
       "3    ilx_0115071  \n",
       "4    ilx_0115071  "
      ]
     },
     "execution_count": 6,
     "metadata": {},
     "output_type": "execute_result"
    }
   ],
   "source": [
    "annos.head()"
   ]
  },
  {
   "cell_type": "code",
   "execution_count": 4,
   "metadata": {
    "scrolled": true
   },
   "outputs": [
    {
     "data": {
      "text/html": [
       "<div>\n",
       "<style scoped>\n",
       "    .dataframe tbody tr th:only-of-type {\n",
       "        vertical-align: middle;\n",
       "    }\n",
       "\n",
       "    .dataframe tbody tr th {\n",
       "        vertical-align: top;\n",
       "    }\n",
       "\n",
       "    .dataframe thead th {\n",
       "        text-align: right;\n",
       "    }\n",
       "</style>\n",
       "<table border=\"1\" class=\"dataframe\">\n",
       "  <thead>\n",
       "    <tr style=\"text-align: right;\">\n",
       "      <th></th>\n",
       "      <th>id</th>\n",
       "      <th>tid</th>\n",
       "      <th>curie</th>\n",
       "      <th>iri</th>\n",
       "      <th>preferred</th>\n",
       "      <th>ilx</th>\n",
       "      <th>type</th>\n",
       "      <th>label</th>\n",
       "      <th>definition</th>\n",
       "    </tr>\n",
       "  </thead>\n",
       "  <tbody>\n",
       "    <tr>\n",
       "      <th>0</th>\n",
       "      <td>341811</td>\n",
       "      <td>1</td>\n",
       "      <td>NLXWIKI:nifext_5214</td>\n",
       "      <td>http://neurolex.org/wiki/nifext_5214</td>\n",
       "      <td>1</td>\n",
       "      <td>ilx_0100000</td>\n",
       "      <td>term</td>\n",
       "      <td>(R)N6-phenylisopropyladenosine</td>\n",
       "      <td></td>\n",
       "    </tr>\n",
       "    <tr>\n",
       "      <th>1</th>\n",
       "      <td>341812</td>\n",
       "      <td>1</td>\n",
       "      <td>NIFEXT:5214</td>\n",
       "      <td>http://uri.neuinfo.org/nif/nifstd/nifext_5214</td>\n",
       "      <td>0</td>\n",
       "      <td>ilx_0100000</td>\n",
       "      <td>term</td>\n",
       "      <td>(R)N6-phenylisopropyladenosine</td>\n",
       "      <td></td>\n",
       "    </tr>\n",
       "    <tr>\n",
       "      <th>2</th>\n",
       "      <td>341813</td>\n",
       "      <td>1</td>\n",
       "      <td>ILX:0100000</td>\n",
       "      <td>http://uri.interlex.org/base/ilx_0100000</td>\n",
       "      <td>0</td>\n",
       "      <td>ilx_0100000</td>\n",
       "      <td>term</td>\n",
       "      <td>(R)N6-phenylisopropyladenosine</td>\n",
       "      <td></td>\n",
       "    </tr>\n",
       "    <tr>\n",
       "      <th>3</th>\n",
       "      <td>341814</td>\n",
       "      <td>2</td>\n",
       "      <td>NLXWIKI:T3D0044</td>\n",
       "      <td>http://neurolex.org/wiki/T3D0044</td>\n",
       "      <td>1</td>\n",
       "      <td>ilx_0100001</td>\n",
       "      <td>term</td>\n",
       "      <td>1,2-Dibromo-3-chloropropane</td>\n",
       "      <td>Organic Compound;Pesticide;Organochloride;Orga...</td>\n",
       "    </tr>\n",
       "    <tr>\n",
       "      <th>4</th>\n",
       "      <td>341815</td>\n",
       "      <td>2</td>\n",
       "      <td>T3D:0044</td>\n",
       "      <td>http://t3db.org/toxins/T3D0044</td>\n",
       "      <td>0</td>\n",
       "      <td>ilx_0100001</td>\n",
       "      <td>term</td>\n",
       "      <td>1,2-Dibromo-3-chloropropane</td>\n",
       "      <td>Organic Compound;Pesticide;Organochloride;Orga...</td>\n",
       "    </tr>\n",
       "  </tbody>\n",
       "</table>\n",
       "</div>"
      ],
      "text/plain": [
       "       id  tid                curie  \\\n",
       "0  341811    1  NLXWIKI:nifext_5214   \n",
       "1  341812    1          NIFEXT:5214   \n",
       "2  341813    1          ILX:0100000   \n",
       "3  341814    2      NLXWIKI:T3D0044   \n",
       "4  341815    2             T3D:0044   \n",
       "\n",
       "                                             iri preferred          ilx  type  \\\n",
       "0           http://neurolex.org/wiki/nifext_5214         1  ilx_0100000  term   \n",
       "1  http://uri.neuinfo.org/nif/nifstd/nifext_5214         0  ilx_0100000  term   \n",
       "2       http://uri.interlex.org/base/ilx_0100000         0  ilx_0100000  term   \n",
       "3               http://neurolex.org/wiki/T3D0044         1  ilx_0100001  term   \n",
       "4                 http://t3db.org/toxins/T3D0044         0  ilx_0100001  term   \n",
       "\n",
       "                            label  \\\n",
       "0  (R)N6-phenylisopropyladenosine   \n",
       "1  (R)N6-phenylisopropyladenosine   \n",
       "2  (R)N6-phenylisopropyladenosine   \n",
       "3     1,2-Dibromo-3-chloropropane   \n",
       "4     1,2-Dibromo-3-chloropropane   \n",
       "\n",
       "                                          definition  \n",
       "0                                                     \n",
       "1                                                     \n",
       "2                                                     \n",
       "3  Organic Compound;Pesticide;Organochloride;Orga...  \n",
       "4  Organic Compound;Pesticide;Organochloride;Orga...  "
      ]
     },
     "execution_count": 4,
     "metadata": {},
     "output_type": "execute_result"
    }
   ],
   "source": [
    "ex.head()"
   ]
  },
  {
   "cell_type": "code",
   "execution_count": 56,
   "metadata": {},
   "outputs": [
    {
     "data": {
      "text/plain": [
       "{'Variable type'}"
      ]
     },
     "execution_count": 56,
     "metadata": {},
     "output_type": "execute_result"
    }
   ],
   "source": [
    "set(annos[annos.annotation_label.str.contains('type')].annotation_label)"
   ]
  },
  {
   "cell_type": "code",
   "execution_count": 13,
   "metadata": {},
   "outputs": [],
   "source": [
    "'''check if all 2nd tier has NDA.CDE exs'''\n",
    "excheck = defaultdict(list)\n",
    "for i, row in ex.iterrows():\n",
    "    excheck[row.tid].append(row.curie.split(':', 1)[0])"
   ]
  },
  {
   "cell_type": "code",
   "execution_count": 14,
   "metadata": {},
   "outputs": [],
   "source": [
    "for tid in oj('../../../nda_tier2_term_ids'):\n",
    "    if 'NDA.CDE' not in excheck[tid]:\n",
    "        print(tid, excheck[tid])\n",
    "        break"
   ]
  },
  {
   "cell_type": "code",
   "execution_count": 19,
   "metadata": {},
   "outputs": [
    {
     "name": "stdout",
     "output_type": "stream",
     "text": [
      "{'id': 38201, 'item_id': 182, 'label': 'Abnormal Involuntary Movement Scale', 'ilx': 'ilx_0100181', 'anno_tid': 15074, 'anno_label': 'hasConstraint', 'anno_ilx': 'ilx_0115071', 'tid': 182, 'annotation_tid': 15074, 'value': 'categories : Questionnaire', 'test': 1}\n"
     ]
    }
   ],
   "source": [
    "for i, row in annos.iterrows():\n",
    "    print({**row, **{'test':1}})\n",
    "    break"
   ]
  },
  {
   "cell_type": "code",
   "execution_count": 8,
   "metadata": {},
   "outputs": [],
   "source": [
    "stak = { #second tier annotation keys\n",
    "    'condition':True,\n",
    "    'filterElement':True,\n",
    "    'id':True,\n",
    "    'notes':True,\n",
    "    'required':True,\n",
    "    'size':True,\n",
    "    'type':True,\n",
    "    'valueRange':True,\n",
    "}\n",
    "def contains_key(string):\n",
    "    if ':' in string:\n",
    "        sk, sval = string.split(':', 1)[0].strip(), string.split(':', 1)[1].strip() #string key\n",
    "        if stak.get(sk):\n",
    "            return sk, sval\n",
    "    return False, False"
   ]
  },
  {
   "cell_type": "code",
   "execution_count": 8,
   "metadata": {},
   "outputs": [
    {
     "name": "stdout",
     "output_type": "stream",
     "text": [
      "Complete\n"
     ]
    }
   ],
   "source": [
    "nda_tier2_term_ids = []\n",
    "for i, row in annos[annos.annotation_label == 'hasConstraint'].iterrows(): ## get second tier annotations only -> anno_label == 'hasConstraint'\n",
    "    key_type, key_val = contains_key(row.value)\n",
    "    if key_val:\n",
    "        nda_tier2_term_ids.append(row.tid)\n",
    "cj(nda_tier2_term_ids, '../../../nda_tier2_term_ids')"
   ]
  },
  {
   "cell_type": "code",
   "execution_count": 76,
   "metadata": {
    "scrolled": false
   },
   "outputs": [
    {
     "name": "stdout",
     "output_type": "stream",
     "text": [
      "0\n",
      "20 id                                                 6917\n",
      "tid                                               15078\n",
      "annotation_tid                                    15074\n",
      "value                                         size : 20\n",
      "term_label          src_subject_id (12-Item Grit Scale)\n",
      "term_ilx                                    ilx_0115075\n",
      "annotation_tid                                    15074\n",
      "annotation_label                          hasConstraint\n",
      "annotation_ilx                              ilx_0115071\n",
      "Name: 7045, dtype: object\n"
     ]
    },
    {
     "ename": "SystemExit",
     "evalue": "",
     "output_type": "error",
     "traceback": [
      "An exception has occurred, use %tb to see the full traceback.\n",
      "\u001b[0;31mSystemExit\u001b[0m\n"
     ]
    },
    {
     "name": "stderr",
     "output_type": "stream",
     "text": [
      "/home/troy/.local/lib/python3.6/site-packages/IPython/core/interactiveshell.py:2971: UserWarning: To exit: use 'exit', 'quit', or Ctrl-D.\n",
      "  warn(\"To exit: use 'exit', 'quit', or Ctrl-D.\", stacklevel=1)\n"
     ]
    }
   ],
   "source": [
    "udata = []\n",
    "adata = []\n",
    "cdata = []\n",
    "ddata = []\n",
    "tudata = []\n",
    "visited = {}\n",
    "filterElementID = 304437\n",
    "for i, row in annos[annos.annotation_label == 'hasConstraint'].iterrows(): ## get second tier annotations only -> anno_label == 'hasConstraint'\n",
    "    if i % 200000 == 0: print(i)\n",
    "    key_type, key_val = contains_key(row.value) ## filter each term by their annotation values by key : value\n",
    "    \n",
    "    if key_type == 'condition':\n",
    "        cdata.append({'condition':key_val})\n",
    "    \n",
    "    elif key_type == 'filterElement':\n",
    "        #cdata.append({'filterElement':key_val})\n",
    "        ddata.append(row.id)\n",
    "        if key_val == \"None\":\n",
    "            adata.append({'tid':row.tid, 'annotation_tid':filterElementID, 'value':False})\n",
    "        elif key_val == '1':\n",
    "            adata.append({'tid':row.tid, 'annotation_tid':filterElementID, 'value':True})\n",
    "        else:\n",
    "            sys.exit(key_val)\n",
    "            \n",
    "    #elif key_type == 'id':\n",
    "    #    ddata.append(row.id)\n",
    "        \n",
    "    #elif key_type == 'notes':\n",
    "    #    if key_val != \"None\" and not visited.get(row.tid):\n",
    "    #        tudata.append({'id':row.tid, 'ilx':row.term_ilx, 'comment':key_val})\n",
    "    #        visited[row.tid] = True\n",
    "    #    ddata.append(row.id)\n",
    "    \n",
    "    elif key_type == 'required':\n",
    "        cdata.append({'required':key_val})\n",
    "    \n",
    "    elif key_type == 'size':\n",
    "        if key_val != 'None':\n",
    "            print(key_val, row)\n",
    "            sys.exit()\n",
    "        cdata.append({'size':key_val})\n",
    "    \n",
    "    elif key_type == 'type':\n",
    "        cdata.append({'type':key_val})\n",
    "\n",
    "    elif key_type == 'valueRange':\n",
    "        if '::' in key_val:\n",
    "            minValue, maxValue = key_val.split('::')[0].split(), key_val.split('::')[1].split()\n",
    "            #ddata.append(row.id)\n",
    "            #adata.append({'tid':row.tid, 'annotation_tid':row.annotation_tid, 'value':minValue})\n",
    "            #adata.append({'tid':row.tid, 'annotation_tid':row.annotation_tid, 'value':maxValue})\n",
    "        else:\n",
    "            \n",
    "            cdata.append({'valueRange':key_val})\n",
    "\n",
    "## condition -> ?\n",
    "## filterElement -> ?\n",
    "## delete Id if it is preferred already\n",
    "## notes -> move to notes\n",
    "## required -> get list of options this has\n",
    "## size -> get ex that isn't none\n",
    "## type -> porb\n",
    "## valueRange -> seperate into minValue and maxValue"
   ]
  },
  {
   "cell_type": "code",
   "execution_count": 78,
   "metadata": {},
   "outputs": [
    {
     "data": {
      "text/plain": [
       "14"
      ]
     },
     "execution_count": 78,
     "metadata": {},
     "output_type": "execute_result"
    }
   ],
   "source": [
    "len(\"src_subject_id\")"
   ]
  },
  {
   "cell_type": "code",
   "execution_count": 29,
   "metadata": {},
   "outputs": [
    {
     "data": {
      "text/plain": [
       "6912"
      ]
     },
     "execution_count": 29,
     "metadata": {},
     "output_type": "execute_result"
    }
   ],
   "source": [
    "ddata[0]"
   ]
  },
  {
   "cell_type": "code",
   "execution_count": 71,
   "metadata": {},
   "outputs": [
    {
     "name": "stdout",
     "output_type": "stream",
     "text": [
      "Complete\n",
      "Complete\n"
     ]
    }
   ],
   "source": [
    "cj(sorted(ddata), '../../../nda_annotation_filterElement_delete')\n",
    "cj(adata, '../../../nda_annotation_filterElement_add')\n",
    "#cj(tudata, '../../../nda_term_update')\n",
    "#cj(udata, '../../../nda_annotation_update')\n",
    "#cj(cdata, '../../../nda_annotation_check')"
   ]
  },
  {
   "cell_type": "code",
   "execution_count": 67,
   "metadata": {},
   "outputs": [],
   "source": [
    "data = [{'term':'filterElement', 'type':'annotation'}]\n",
    "output = sci.addTerms(data, LIMIT=1, crawl=True, _print=False)#304437"
   ]
  },
  {
   "cell_type": "code",
   "execution_count": 68,
   "metadata": {},
   "outputs": [
    {
     "data": {
      "text/plain": [
       "[{'id': 304437,\n",
       "  'orig_uid': None,\n",
       "  'uid': None,\n",
       "  'orig_cid': None,\n",
       "  'cid': None,\n",
       "  'ilx': 'ilx_0381352',\n",
       "  'label': 'filterElement',\n",
       "  'type': 'annotation',\n",
       "  'definition': None,\n",
       "  'comment': None,\n",
       "  'version': 1,\n",
       "  'status': 0,\n",
       "  'display_superclass': 1,\n",
       "  'orig_time': 1527632472,\n",
       "  'time': 1527632472,\n",
       "  'synonyms': [],\n",
       "  'superclasses': [],\n",
       "  'existing_ids': [{'id': '2019978',\n",
       "    'tid': '304437',\n",
       "    'curie': 'ILX:0381352',\n",
       "    'iri': 'http://uri.interlex.org/base/ilx_0381352',\n",
       "    'curie_catalog_id': '3',\n",
       "    'version': '1',\n",
       "    'time': '1527632472',\n",
       "    'preferred': '1'}],\n",
       "  'relationships': [],\n",
       "  'mappings': [],\n",
       "  'annotations': [],\n",
       "  'annotation_type': 'text',\n",
       "  'ontologies': []}]"
      ]
     },
     "execution_count": 68,
     "metadata": {},
     "output_type": "execute_result"
    }
   ],
   "source": [
    "output"
   ]
  },
  {
   "cell_type": "code",
   "execution_count": 6,
   "metadata": {
    "collapsed": true
   },
   "outputs": [],
   "source": [
    "cdata = oj('../../../nda_annotation_check')"
   ]
  },
  {
   "cell_type": "code",
   "execution_count": 74,
   "metadata": {},
   "outputs": [],
   "source": [
    "'''explainer'''\n",
    "ctypes = defaultdict(set)\n",
    "for d in cdata:\n",
    "    ctypes[list(d)[0]].add(list(d.values())[0])"
   ]
  },
  {
   "cell_type": "code",
   "execution_count": 75,
   "metadata": {},
   "outputs": [
    {
     "data": {
      "text/plain": [
       "{'1',\n",
       " '10',\n",
       " '100',\n",
       " '1000',\n",
       " '1020',\n",
       " '1024',\n",
       " '1050',\n",
       " '12',\n",
       " '120',\n",
       " '1200',\n",
       " '1250',\n",
       " '13',\n",
       " '15',\n",
       " '150',\n",
       " '1500',\n",
       " '16',\n",
       " '160',\n",
       " '165',\n",
       " '175',\n",
       " '2',\n",
       " '20',\n",
       " '200',\n",
       " '2000',\n",
       " '21',\n",
       " '225',\n",
       " '240',\n",
       " '25',\n",
       " '250',\n",
       " '255',\n",
       " '2750',\n",
       " '29',\n",
       " '290',\n",
       " '3',\n",
       " '30',\n",
       " '300',\n",
       " '32',\n",
       " '33',\n",
       " '35',\n",
       " '350',\n",
       " '3500',\n",
       " '360',\n",
       " '4',\n",
       " '40',\n",
       " '400',\n",
       " '4000',\n",
       " '425',\n",
       " '45',\n",
       " '450',\n",
       " '5',\n",
       " '50',\n",
       " '500',\n",
       " '51',\n",
       " '510',\n",
       " '512',\n",
       " '55',\n",
       " '6',\n",
       " '60',\n",
       " '600',\n",
       " '62',\n",
       " '65',\n",
       " '75',\n",
       " '8',\n",
       " '80',\n",
       " '800',\n",
       " 'None'}"
      ]
     },
     "execution_count": 75,
     "metadata": {},
     "output_type": "execute_result"
    }
   ],
   "source": [
    "\n",
    "#ctypes['codition'] #random code; ex ->  'famhx_1   == 1 &&  fam_history_12_yes_no   == 1 &&  fhx_3h_younger_p  > 4 &&  fhx_3h_younger_p  != 999',\n",
    "ctypes['size'] #ints with no measurement specifics \n",
    "#ctypes['filterElement'] #either 1 or None, makes me think its really 0 or 1 for true or false\n",
    "#ctypes['required'] # {'Conditional', 'Optional', 'Recommended', 'Required'}\n",
    "#ctypes['type'] #{'Date', 'File', 'Float', 'GUID', 'Integer', 'String', 'Thumbnail'}\n",
    "#ctypes['valueRange']"
   ]
  },
  {
   "cell_type": "code",
   "execution_count": 54,
   "metadata": {
    "scrolled": true
   },
   "outputs": [
    {
     "name": "stdout",
     "output_type": "stream",
     "text": [
      "grep -nir 'xsd:Date' /home/troy/Desktop/work/NIF-Ontology/\n",
      "grep -nir 'xsd:File' /home/troy/Desktop/work/NIF-Ontology/\n",
      "grep -nir 'xsd:Float' /home/troy/Desktop/work/NIF-Ontology/\n",
      "/home/troy/Desktop/work/NIF-Ontology/ttl/unused/SAO-CORE_properties.ttl:511:    rdfs:range xsd:float ;\n",
      "/home/troy/Desktop/work/NIF-Ontology/ttl/unused/SAO-CORE_properties.ttl:531:    rdfs:range xsd:float ;\n",
      "/home/troy/Desktop/work/NIF-Ontology/ttl/unused/SAO-CORE_properties.ttl:549:    rdfs:range xsd:float ;\n",
      "/home/troy/Desktop/work/NIF-Ontology/ttl/unused/SAO-CORE_properties.ttl:557:    rdfs:range xsd:float ;\n",
      "/home/troy/Desktop/work/NIF-Ontology/ttl/unused/SAO-CORE_properties.ttl:566:    rdfs:range xsd:float ;\n",
      "/home/troy/Desktop/work/NIF-Ontology/ttl/unused/SAO-CORE_properties.ttl:758:    rdfs:range xsd:float ;\n",
      "grep -nir 'xsd:GUID' /home/troy/Desktop/work/NIF-Ontology/\n",
      "grep -nir 'xsd:Integer' /home/troy/Desktop/work/NIF-Ontology/\n",
      "grep -nir 'xsd:String' /home/troy/Desktop/work/NIF-Ontology/\n",
      "grep -nir 'xsd:Thumbnail' /home/troy/Desktop/work/NIF-Ontology/\n"
     ]
    }
   ],
   "source": [
    "import subprocess as sb\n",
    "for typ in ['Date', 'File', 'Float', 'GUID', 'Integer', 'String', 'Thumbnail']:\n",
    "    datatype = \"xsd:\"+typ\n",
    "    sbinput=\"grep -nir '{}' /home/troy/Desktop/work/NIF-Ontology/\".format(datatype)\n",
    "    print(sbinput)\n",
    "    output = sb.getoutput(sbinput)\n",
    "    if output and typ not in ['String']:\n",
    "        print(output)"
   ]
  },
  {
   "cell_type": "code",
   "execution_count": 51,
   "metadata": {},
   "outputs": [
    {
     "data": {
      "text/plain": [
       "rdflib.term.URIRef('http://www.w3.org/2001/XMLSchema#troy')"
      ]
     },
     "execution_count": 51,
     "metadata": {},
     "output_type": "execute_result"
    }
   ],
   "source": [
    "from rdflib.namespace import XSD\n",
    "XSD.troy"
   ]
  }
 ],
 "metadata": {
  "kernelspec": {
   "display_name": "Python 3",
   "language": "python",
   "name": "python3"
  },
  "language_info": {
   "codemirror_mode": {
    "name": "ipython",
    "version": 3
   },
   "file_extension": ".py",
   "mimetype": "text/x-python",
   "name": "python",
   "nbconvert_exporter": "python",
   "pygments_lexer": "ipython3",
   "version": "3.6.5"
  }
 },
 "nbformat": 4,
 "nbformat_minor": 2
}
