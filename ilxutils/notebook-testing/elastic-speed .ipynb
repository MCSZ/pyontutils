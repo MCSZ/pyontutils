{
 "cells": [
  {
   "cell_type": "code",
   "execution_count": null,
   "metadata": {},
   "outputs": [],
   "source": [
    "#per 10,000 searches\n",
    "#old search = CPU times: user 25.7 s, sys: 771 ms, total: 26.5 s Wall time: 1min 49s\n",
    "#old api = CPU times: user 25.5 s, sys: 750 ms, total: 26.3 s Wall time: 1min 43s\n",
    "#new search = CPU times: user 24.1 s, sys: 825 ms, total: 24.9 sWall time: 1min 59s\n",
    "#new api = CPU times: user 22.3 s, sys: 609 ms, total: 22.9 s Wall time: 2min 48s"
   ]
  },
  {
   "cell_type": "code",
   "execution_count": null,
   "metadata": {},
   "outputs": [],
   "source": [
    "from IPython.core.display import display, HTML\n",
    "display(HTML(\"<style>.container { width:100% !important; }</style>\"))\n",
    "\n",
    "import json\n",
    "from sqlalchemy import create_engine, inspect, Table, Column\n",
    "import pandas as pd\n",
    "from ilxutils.args_reader import read_args\n",
    "from ilxutils.scicrunch_client import scicrunch\n",
    "import sys\n",
    "import time\n",
    "from ilxutils.interlex_sql import interlex_sql\n",
    "import re\n",
    "from collections import defaultdict\n",
    "from IPython.core.display import display\n",
    "import subprocess as sb\n",
    "import requests as r\n",
    "import urllib\n",
    "\n",
    "args = read_args(api_key='../keys/beta_api_scicrunch_key.txt', db_url='../keys/beta_engine_scicrunch_key.txt', beta=True)\n",
    "sql = interlex_sql(engine_key=args.db_url)\n",
    "sci = scicrunch(api_key=args.api_key, base_path=args.base_path, engine_key=args.db_url)"
   ]
  },
  {
   "cell_type": "code",
   "execution_count": null,
   "metadata": {},
   "outputs": [],
   "source": [
    "terms = sql.get_terms()"
   ]
  },
  {
   "cell_type": "code",
   "execution_count": null,
   "metadata": {
    "scrolled": true
   },
   "outputs": [],
   "source": [
    "%%time\n",
    "for i, row in terms.iterrows():\n",
    "    if i == 1000: break\n",
    "    url = \"https://test2.scicrunch.org/scicrunch/interlex/search?q=%s\" % urllib.parse.quote(str(row.label))\n",
    "    results = r.get(url, auth=('scicrunch', 'perl22(query'))\n",
    "    if results.raise_for_status():\n",
    "        sys.exit(i)"
   ]
  },
  {
   "cell_type": "code",
   "execution_count": null,
   "metadata": {},
   "outputs": [],
   "source": [
    "%%time\n",
    "ids = list(terms.id)[:1000]\n",
    "for tid in ids:\n",
    "    url = \"https://test2.scicrunch.org/api/1/term/view/%s?key=%s\" % (tid, args.api_key)\n",
    "    results = r.get(url, auth=('scicrunch', 'perl22(query'))\n",
    "    if results.raise_for_status():\n",
    "        sys.exit(i)  "
   ]
  }
 ],
 "metadata": {
  "kernelspec": {
   "display_name": "Python 3",
   "language": "python3.6",
   "name": "python3"
  },
  "language_info": {
   "codemirror_mode": {
    "name": "ipython",
    "version": 3
   },
   "file_extension": ".py",
   "mimetype": "text/x-python",
   "name": "python",
   "nbconvert_exporter": "python",
   "pygments_lexer": "ipython3",
   "version": "3.6.5"
  }
 },
 "nbformat": 4,
 "nbformat_minor": 2
}
