{
 "cells": [
  {
   "cell_type": "code",
   "execution_count": null,
   "metadata": {},
   "outputs": [],
   "source": [
    "import json\n",
    "import pandas as pd\n",
    "from interlex_sql import interlex_sql \n",
    "from args_reader import read_args\n",
    "from scicrunch_client_fast import scicrunch\n",
    "from collections import defaultdict"
   ]
  },
  {
   "cell_type": "code",
   "execution_count": null,
   "metadata": {},
   "outputs": [],
   "source": [
    "args = read_args(keys='../keys.txt', production='-p')\n",
    "sql = interlex_sql(engine_key=args['engine_key'])\n",
    "sci = scicrunch(key='api_key', base_path=args['base_path'])"
   ]
  },
  {
   "cell_type": "code",
   "execution_count": null,
   "metadata": {},
   "outputs": [],
   "source": [
    "labels_to_ids = sql.get_labels_to_ids_dict()\n",
    "#labels_to_ids = json.load(open('../dump/labels_to_ids_dict_complete_interlex_sql.json', 'r'))"
   ]
  },
  {
   "cell_type": "code",
   "execution_count": null,
   "metadata": {},
   "outputs": [],
   "source": [
    "for i, d in df.iterrows():\n",
    "    if not labels_to_ids.get(' '.join(str(d.title).lower().strip().split())):\n",
    "        print(str(d.title).lower().strip())"
   ]
  },
  {
   "cell_type": "code",
   "execution_count": null,
   "metadata": {},
   "outputs": [],
   "source": [
    "for label in list(labels_to_ids):\n",
    "    if 'injury surgical' in label:\n",
    "        print(label)"
   ]
  },
  {
   "cell_type": "code",
   "execution_count": null,
   "metadata": {},
   "outputs": [],
   "source": [
    "labels_to_ilx = sql.get_labels_to_ilx_dict()"
   ]
  },
  {
   "cell_type": "code",
   "execution_count": null,
   "metadata": {},
   "outputs": [],
   "source": [
    "inputfile = '../../OCD-CDEs/ODC-CDEs.xlsx'\n",
    "df = pd.read_excel(inputfile, sheetname='Overall rough MasterStruct')\n",
    "#df = df.fillna()\n",
    "#raw_data = json.load(open(inputfile, 'r')) "
   ]
  },
  {
   "cell_type": "code",
   "execution_count": null,
   "metadata": {},
   "outputs": [],
   "source": [
    "df"
   ]
  },
  {
   "cell_type": "code",
   "execution_count": null,
   "metadata": {},
   "outputs": [],
   "source": [
    "for i, row in df.iterrows():\n",
    "    label = row.title.lower().strip()\n",
    "    if labels_to_ids.get(label):\n",
    "        print(row.title,',',labels_to_ids.get(label),',',labels_to_ilx.get(label))\n",
    "        #print(row)"
   ]
  },
  {
   "cell_type": "code",
   "execution_count": null,
   "metadata": {},
   "outputs": [],
   "source": [
    "raw_data = df.to_dict('records')"
   ]
  },
  {
   "cell_type": "code",
   "execution_count": null,
   "metadata": {},
   "outputs": [],
   "source": [
    "col_info = {\n",
    "    'ODC_Domain':15034,\n",
    "    'ODC_SubDomain': 15035,\n",
    "    'ODC_Assessment': 15036,\n",
    "    'ODC_VariableName': 15037,#used to be heading 304378,\n",
    "}\n",
    "source = {'annotation_tid':15024,'value':'ODC-SCI'}"
   ]
  },
  {
   "cell_type": "code",
   "execution_count": null,
   "metadata": {},
   "outputs": [],
   "source": [
    "#see if any labels already exist\n",
    "#create a format \n",
    "#definition, label, synonyms, superclass_label, superclass_ilx, superclass_tid\n",
    "\n",
    "already_added_terms = []\n",
    "output_data = defaultdict(dict)\n",
    "for i, d in df.iterrows():    \n",
    "    \n",
    "    output_data[d.title].update({\n",
    "        'label':d.title,\n",
    "        'type':'cde',\n",
    "        'annotations':[{'value':' '.join([w.lower().capitalize() for w in str(d[k]).split()]), 'annotation_tid':v} for k, v in col_info.items() if type(d[k])==str] + [source],\n",
    "        })\n",
    "    if type(d.definition) != float:\n",
    "        if d.definition and len(d.definition) > 0:\n",
    "            output_data[d.title].update({'definition':d.definition})\n",
    "            \n",
    "with open('/Users/tmsincomb/Desktop/OCD-CDEs/ocd-cdes-production-ready.json', 'w') as outfile:\n",
    "    json.dump(output_data, outfile, indent=4)"
   ]
  },
  {
   "cell_type": "code",
   "execution_count": null,
   "metadata": {},
   "outputs": [],
   "source": [
    "output_data = defaultdict(dict)\n",
    "for i, d in df.iterrows():\n",
    "    if d.title == 'Institution or organization':\n",
    "        output_data[d.title].update({\n",
    "            'label':d.title,\n",
    "            'definition':' ',\n",
    "            'type':'cde',\n",
    "            'annotations':[{'value':' '.join([w.lower().capitalize() for w in str(d[k]).split()]), 'annotation_tid':v} for k, v in col_info.items() if type(d[k])==str] + [source],\n",
    "            })\n",
    "        if type(d.definition) != float:\n",
    "            if d.definition and len(d.definition) > 0:\n",
    "                output_data[d.title].update({'definition':d.definition})\n",
    "            \n",
    "with open('/Users/tmsincomb/Desktop/OCD-CDEs/ocd-cdes-production-ready.json', 'w') as outfile:\n",
    "    json.dump(output_data, outfile, indent=4)"
   ]
  },
  {
   "cell_type": "code",
   "execution_count": null,
   "metadata": {},
   "outputs": [],
   "source": [
    "sci.getAnnotationsVIAtid([304379])"
   ]
  },
  {
   "cell_type": "code",
   "execution_count": null,
   "metadata": {},
   "outputs": [],
   "source": [
    "a = {0:0, 1:1}\n",
    "for i in a[:]:\n",
    "    print(i)"
   ]
  },
  {
   "cell_type": "code",
   "execution_count": null,
   "metadata": {},
   "outputs": [],
   "source": []
  }
 ],
 "metadata": {
  "kernelspec": {
   "display_name": "Python 3",
   "language": "python3.6",
   "name": "python3"
  },
  "language_info": {
   "codemirror_mode": {
    "name": "ipython",
    "version": 3
   },
   "file_extension": ".py",
   "mimetype": "text/x-python",
   "name": "python",
   "nbconvert_exporter": "python",
   "pygments_lexer": "ipython3",
   "version": "3.6.5"
  }
 },
 "nbformat": 4,
 "nbformat_minor": 2
}
