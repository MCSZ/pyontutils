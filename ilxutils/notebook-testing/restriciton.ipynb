{
 "cells": [
  {
   "cell_type": "code",
   "execution_count": null,
   "metadata": {},
   "outputs": [],
   "source": [
    "from IPython.core.display import display, HTML\n",
    "display(HTML(\"<style>.container { width:100% !important; }</style>\"))\n",
    "\n",
    "import json\n",
    "from sqlalchemy import create_engine, inspect, Table, Column\n",
    "import pandas as pd\n",
    "from ilxutils.args_reader import read_args\n",
    "from ilxutils.scicrunch_client import scicrunch\n",
    "import sys\n",
    "import time\n",
    "from ilxutils.interlex_sql import interlex_sql\n",
    "import re\n",
    "from collections import defaultdict\n",
    "from IPython.core.display import display\n",
    "import subprocess as sb\n",
    "import pickle\n",
    "from pathlib import Path as p\n",
    "import requests as r\n",
    "from ilxutils.ttl2pd import *\n",
    "from pyontutils.utils import *\n",
    "from pyontutils.core import *\n",
    "from pyontutils.closed_namespaces import *\n",
    "import rdflib\n",
    "import pickle\n",
    "\n",
    "\n",
    "args = read_args(api_key= p.home() / 'keys/production_api_scicrunch_key.txt', db_url= p.home() / 'keys/production_engine_scicrunch_key.txt', production=True)\n",
    "sql = interlex_sql(db_url=args.db_url)"
   ]
  },
  {
   "cell_type": "code",
   "execution_count": null,
   "metadata": {},
   "outputs": [],
   "source": [
    "g_nif = makeGraph('', graph=pickle.load(open('../nif-ilx-versions/NIF-ALL.pickle', 'rb')))\n",
    "#g = rdflib.Graph()\n",
    "#g.parse('../nif-ilx-versions/NIF-ALL.pickle', format='turtle')\n",
    "#total-sub   261096\n",
    "#total-lists 167238\n",
    "#sub          33508\n",
    "#lists        63154\n",
    "def check_restrictions(graph):\n",
    "\n",
    "    r=Restriction(rdfs.subClassOf)\n",
    "    sub = r.parse(graph=graph.g)\n",
    "\n",
    "    r=Restriction(rdf.first)\n",
    "    lists = r.parse(graph=graph.g)\n",
    "\n",
    "    return sub, lists\n",
    "\n",
    "sub, lists = check_restrictions(g_nif)"
   ]
  },
  {
   "cell_type": "code",
   "execution_count": null,
   "metadata": {},
   "outputs": [],
   "source": [
    "#total-sub   261096\n",
    "#total-lists 167238\n",
    "#sub          33508\n",
    "#lists        63154\n",
    "sub = json.load(open('../ilxutils/sub.json', 'r'))\n",
    "lists = json.load(open('../ilxutils/lists.json', 'r'))"
   ]
  },
  {
   "cell_type": "code",
   "execution_count": null,
   "metadata": {},
   "outputs": [],
   "source": [
    "#worthy = set([tup[2] for tup in sub]) | set([tup[2] for tup in lists])\n",
    "worthy = [tup[2] for tup in sub]\n",
    "types = []\n",
    "for v in worthy:\n",
    "    if 'http' in v:\n",
    "        types.append(v)\n",
    "for typ in set(types): \n",
    "    print(typ, types.count(typ))"
   ]
  }
 ],
 "metadata": {
  "kernelspec": {
   "display_name": "Python 3",
   "language": "python3.6",
   "name": "python3"
  },
  "language_info": {
   "codemirror_mode": {
    "name": "ipython",
    "version": 3
   },
   "file_extension": ".py",
   "mimetype": "text/x-python",
   "name": "python",
   "nbconvert_exporter": "python",
   "pygments_lexer": "ipython3",
   "version": "3.6.5"
  }
 },
 "nbformat": 4,
 "nbformat_minor": 2
}
