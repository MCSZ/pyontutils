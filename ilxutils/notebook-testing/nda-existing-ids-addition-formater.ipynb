{
 "cells": [
  {
   "cell_type": "code",
   "execution_count": null,
   "metadata": {},
   "outputs": [],
   "source": [
    "from IPython.core.display import display, HTML\n",
    "display(HTML(\"<style>.container { width:100% !important; }</style>\"))\n",
    "\n",
    "import json\n",
    "from sqlalchemy import create_engine, inspect, Table, Column\n",
    "import pandas as pd\n",
    "from ilxutils.args_reader import read_args\n",
    "from ilxutils.scicrunch_client import scicrunch\n",
    "import sys\n",
    "import time\n",
    "from ilxutils.interlex_sql import interlex_sql\n",
    "import re\n",
    "from collections import defaultdict\n",
    "\n",
    "args = read_args(api_key='../keys/production_api_scicrunch_key.txt', db_url='../keys/production_engine_scicrunch_key.txt', production=True)\n",
    "sql = interlex_sql(engine_key=args.db_url)\n",
    "sci = scicrunch(api_key=args.api_key, base_path=args.base_path, engine_key=args.db_url)"
   ]
  },
  {
   "cell_type": "code",
   "execution_count": null,
   "metadata": {},
   "outputs": [],
   "source": [
    "labels_to_ids = sql.get_labels_to_ids_dict()"
   ]
  },
  {
   "cell_type": "code",
   "execution_count": null,
   "metadata": {},
   "outputs": [],
   "source": [
    "tier1 = '/home/troy/Desktop/NDA/nda-cdes-first-tier-only-update-ready.json'\n",
    "tier2 = '/home/troy/Desktop/NDA/complete_nda_tier2_production_ref.json'\n",
    "nda_names = list(json.load(open(tier1)).keys()) + list(json.load(open(tier2)).keys())\n",
    "tier1_data = json.load(open(tier1))\n",
    "tier2_data = json.load(open(tier2))"
   ]
  },
  {
   "cell_type": "code",
   "execution_count": null,
   "metadata": {},
   "outputs": [],
   "source": [
    "list(tier2_data)[0]\n"
   ]
  },
  {
   "cell_type": "code",
   "execution_count": null,
   "metadata": {},
   "outputs": [],
   "source": [
    "tier2_data[list(tier2_data)[0]][0]"
   ]
  },
  {
   "cell_type": "code",
   "execution_count": null,
   "metadata": {
    "scrolled": false
   },
   "outputs": [],
   "source": [
    "def get_id(pad):\n",
    "    for value in pad['annotations']:\n",
    "        if 'id : ' in value.get('value'):\n",
    "            return value.get('value').split(':')[-1].strip()\n",
    "\n",
    "data = []\n",
    "iri = 'http://uri.interlex.org/NDA/uris/datadictionary/elements/'\n",
    "prefix = 'NDA.CDE:'\n",
    "for x in tier2_data.items():\n",
    "    for y in x[1]:\n",
    "        tid = get_id(y)\n",
    "        #print(x[0], y['label'], y['id'])\n",
    "        data.append({'id':y['id'], 'existing_ids':{'iri':iri+tid, 'curie':prefix+tid, 'change':False, 'delete':False}})\n",
    "data[0]"
   ]
  },
  {
   "cell_type": "code",
   "execution_count": null,
   "metadata": {},
   "outputs": [],
   "source": [
    "json.dump(data, open('/home/troy/Desktop/nda-existing-ids-update.json', 'w'), indent=4)\n",
    "#python3 /home/troy/Desktop/interlexutils/interlexutils/api_wrapper.py updateTerms -f /home/troy/Desktop/nda-existing-ids-update.json -p"
   ]
  },
  {
   "cell_type": "code",
   "execution_count": null,
   "metadata": {},
   "outputs": [],
   "source": [
    "annotations=sql.get_annotations()"
   ]
  },
  {
   "cell_type": "code",
   "execution_count": null,
   "metadata": {},
   "outputs": [],
   "source": [
    "terms = sql.get_terms()"
   ]
  },
  {
   "cell_type": "code",
   "execution_count": null,
   "metadata": {},
   "outputs": [],
   "source": [
    "exids = sql.get_existing_ids()"
   ]
  },
  {
   "cell_type": "code",
   "execution_count": null,
   "metadata": {},
   "outputs": [],
   "source": [
    "exids.loc[exids.iri.str.contains('http://uri.interlex.org/NDA/uris/datadictionary/elements/')]"
   ]
  }
 ],
 "metadata": {
  "kernelspec": {
   "display_name": "Python 3",
   "language": "python3.6",
   "name": "python3"
  },
  "language_info": {
   "codemirror_mode": {
    "name": "ipython",
    "version": 3
   },
   "file_extension": ".py",
   "mimetype": "text/x-python",
   "name": "python",
   "nbconvert_exporter": "python",
   "pygments_lexer": "ipython3",
   "version": "3.6.5"
  }
 },
 "nbformat": 4,
 "nbformat_minor": 2
}
