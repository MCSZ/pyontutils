{
 "cells": [
  {
   "cell_type": "code",
   "execution_count": 1,
   "metadata": {},
   "outputs": [
    {
     "data": {
      "text/html": [
       "<style>.container { width:100% !important; }</style>"
      ],
      "text/plain": [
       "<IPython.core.display.HTML object>"
      ]
     },
     "metadata": {},
     "output_type": "display_data"
    }
   ],
   "source": [
    "from IPython.core.display import display, HTML\n",
    "display(HTML(\"<style>.container { width:100% !important; }</style>\"))\n",
    "\n",
    "import json\n",
    "from sqlalchemy import create_engine, inspect, Table, Column\n",
    "import pandas as pd\n",
    "from ilxutils.args_reader import read_args\n",
    "from ilxutils.scicrunch_client import scicrunch\n",
    "import sys\n",
    "import time\n",
    "from ilxutils.interlex_sql import interlex_sql\n",
    "import re\n",
    "from collections import defaultdict\n",
    "from IPython.core.display import display\n",
    "import subprocess as sb\n",
    "import pickle\n",
    "from pathlib import Path as p\n",
    "import requests as r\n",
    "from ilxutils.ttl2pd import *\n",
    "import difflib\n",
    "def degrade(var):\n",
    "    def helper(s):\n",
    "        return str(re.sub(\"\\(|\\)|'|,\", \"\", s).lower().strip())\n",
    "    if type(var)!=list:\n",
    "        if var:\n",
    "            return helper(var)\n",
    "        else:\n",
    "            return var\n",
    "    else:\n",
    "        return [helper(v) if v else v for v in var]\n",
    "def cj(data, output):\n",
    "    json.dump(data, open(output+'.json', 'w'), indent=4)\n",
    "    print('Complete')\n",
    "def oj(infile):\n",
    "    try:\n",
    "        return json.load(open(infile, 'r'))\n",
    "    except:\n",
    "        sys.exit('File does not exist')\n",
    "args = read_args(api_key= p.home() / 'keys/production_api_scicrunch_key.txt', db_url= p.home() / 'keys/production_engine_scicrunch_key.txt', production=True)\n",
    "sql = interlex_sql(db_url=args.db_url)\n",
    "sci = scicrunch(api_key=args.api_key, base_path=args.base_path, db_url=args.db_url)"
   ]
  },
  {
   "cell_type": "code",
   "execution_count": 2,
   "metadata": {},
   "outputs": [],
   "source": [
    "terms = sql.get_terms()\n",
    "annos = sql.get_annotations()"
   ]
  },
  {
   "cell_type": "code",
   "execution_count": 3,
   "metadata": {
    "scrolled": true
   },
   "outputs": [
    {
     "data": {
      "text/html": [
       "<div>\n",
       "<style scoped>\n",
       "    .dataframe tbody tr th:only-of-type {\n",
       "        vertical-align: middle;\n",
       "    }\n",
       "\n",
       "    .dataframe tbody tr th {\n",
       "        vertical-align: top;\n",
       "    }\n",
       "\n",
       "    .dataframe thead th {\n",
       "        text-align: right;\n",
       "    }\n",
       "</style>\n",
       "<table border=\"1\" class=\"dataframe\">\n",
       "  <thead>\n",
       "    <tr style=\"text-align: right;\">\n",
       "      <th></th>\n",
       "      <th>id</th>\n",
       "      <th>item_id</th>\n",
       "      <th>label</th>\n",
       "      <th>ilx</th>\n",
       "      <th>anno_tid</th>\n",
       "      <th>anno_label</th>\n",
       "      <th>anno_ilx</th>\n",
       "      <th>tid</th>\n",
       "      <th>annotation_tid</th>\n",
       "      <th>value</th>\n",
       "    </tr>\n",
       "  </thead>\n",
       "  <tbody>\n",
       "    <tr>\n",
       "      <th>0</th>\n",
       "      <td>38201</td>\n",
       "      <td>182</td>\n",
       "      <td>Abnormal Involuntary Movement Scale</td>\n",
       "      <td>ilx_0100181</td>\n",
       "      <td>15074</td>\n",
       "      <td>hasConstraint</td>\n",
       "      <td>ilx_0115071</td>\n",
       "      <td>182</td>\n",
       "      <td>15074</td>\n",
       "      <td>categories : Questionnaire</td>\n",
       "    </tr>\n",
       "    <tr>\n",
       "      <th>1</th>\n",
       "      <td>38202</td>\n",
       "      <td>182</td>\n",
       "      <td>Abnormal Involuntary Movement Scale</td>\n",
       "      <td>ilx_0100181</td>\n",
       "      <td>15074</td>\n",
       "      <td>hasConstraint</td>\n",
       "      <td>ilx_0115071</td>\n",
       "      <td>182</td>\n",
       "      <td>15074</td>\n",
       "      <td>status : Published</td>\n",
       "    </tr>\n",
       "    <tr>\n",
       "      <th>2</th>\n",
       "      <td>38208</td>\n",
       "      <td>182</td>\n",
       "      <td>Abnormal Involuntary Movement Scale</td>\n",
       "      <td>ilx_0100181</td>\n",
       "      <td>15074</td>\n",
       "      <td>hasConstraint</td>\n",
       "      <td>ilx_0115071</td>\n",
       "      <td>182</td>\n",
       "      <td>15074</td>\n",
       "      <td>dataType : Clinical Assessments</td>\n",
       "    </tr>\n",
       "    <tr>\n",
       "      <th>3</th>\n",
       "      <td>38216</td>\n",
       "      <td>182</td>\n",
       "      <td>Abnormal Involuntary Movement Scale</td>\n",
       "      <td>ilx_0100181</td>\n",
       "      <td>15074</td>\n",
       "      <td>hasConstraint</td>\n",
       "      <td>ilx_0115071</td>\n",
       "      <td>182</td>\n",
       "      <td>15074</td>\n",
       "      <td>sources : NDAR; NDCT; RDoC</td>\n",
       "    </tr>\n",
       "    <tr>\n",
       "      <th>4</th>\n",
       "      <td>38220</td>\n",
       "      <td>182</td>\n",
       "      <td>Abnormal Involuntary Movement Scale</td>\n",
       "      <td>ilx_0100181</td>\n",
       "      <td>15074</td>\n",
       "      <td>hasConstraint</td>\n",
       "      <td>ilx_0115071</td>\n",
       "      <td>182</td>\n",
       "      <td>15074</td>\n",
       "      <td>modifiedDate : 1515012631513</td>\n",
       "    </tr>\n",
       "  </tbody>\n",
       "</table>\n",
       "</div>"
      ],
      "text/plain": [
       "      id  item_id                                label          ilx  anno_tid  \\\n",
       "0  38201      182  Abnormal Involuntary Movement Scale  ilx_0100181     15074   \n",
       "1  38202      182  Abnormal Involuntary Movement Scale  ilx_0100181     15074   \n",
       "2  38208      182  Abnormal Involuntary Movement Scale  ilx_0100181     15074   \n",
       "3  38216      182  Abnormal Involuntary Movement Scale  ilx_0100181     15074   \n",
       "4  38220      182  Abnormal Involuntary Movement Scale  ilx_0100181     15074   \n",
       "\n",
       "      anno_label     anno_ilx  tid  annotation_tid  \\\n",
       "0  hasConstraint  ilx_0115071  182           15074   \n",
       "1  hasConstraint  ilx_0115071  182           15074   \n",
       "2  hasConstraint  ilx_0115071  182           15074   \n",
       "3  hasConstraint  ilx_0115071  182           15074   \n",
       "4  hasConstraint  ilx_0115071  182           15074   \n",
       "\n",
       "                             value  \n",
       "0       categories : Questionnaire  \n",
       "1               status : Published  \n",
       "2  dataType : Clinical Assessments  \n",
       "3       sources : NDAR; NDCT; RDoC  \n",
       "4     modifiedDate : 1515012631513  "
      ]
     },
     "execution_count": 3,
     "metadata": {},
     "output_type": "execute_result"
    }
   ],
   "source": [
    "annos.head()"
   ]
  },
  {
   "cell_type": "code",
   "execution_count": 4,
   "metadata": {},
   "outputs": [
    {
     "data": {
      "text/html": [
       "<div>\n",
       "<style scoped>\n",
       "    .dataframe tbody tr th:only-of-type {\n",
       "        vertical-align: middle;\n",
       "    }\n",
       "\n",
       "    .dataframe tbody tr th {\n",
       "        vertical-align: top;\n",
       "    }\n",
       "\n",
       "    .dataframe thead th {\n",
       "        text-align: right;\n",
       "    }\n",
       "</style>\n",
       "<table border=\"1\" class=\"dataframe\">\n",
       "  <thead>\n",
       "    <tr style=\"text-align: right;\">\n",
       "      <th></th>\n",
       "      <th>id</th>\n",
       "      <th>item_id</th>\n",
       "      <th>label</th>\n",
       "      <th>ilx</th>\n",
       "      <th>anno_tid</th>\n",
       "      <th>anno_label</th>\n",
       "      <th>anno_ilx</th>\n",
       "      <th>tid</th>\n",
       "      <th>annotation_tid</th>\n",
       "      <th>value</th>\n",
       "    </tr>\n",
       "  </thead>\n",
       "  <tbody>\n",
       "    <tr>\n",
       "      <th>1850131</th>\n",
       "      <td>2109347</td>\n",
       "      <td>265034</td>\n",
       "      <td>adas10 (Alzheimer&amp;#39;s Disease Assessment Sca...</td>\n",
       "      <td>ilx_0346303</td>\n",
       "      <td>15074</td>\n",
       "      <td>hasConstraint</td>\n",
       "      <td>ilx_0115071</td>\n",
       "      <td>265034</td>\n",
       "      <td>15074</td>\n",
       "      <td>my_test</td>\n",
       "    </tr>\n",
       "  </tbody>\n",
       "</table>\n",
       "</div>"
      ],
      "text/plain": [
       "              id  item_id                                              label  \\\n",
       "1850131  2109347   265034  adas10 (Alzheimer&#39;s Disease Assessment Sca...   \n",
       "\n",
       "                 ilx  anno_tid     anno_label     anno_ilx     tid  \\\n",
       "1850131  ilx_0346303     15074  hasConstraint  ilx_0115071  265034   \n",
       "\n",
       "         annotation_tid    value  \n",
       "1850131           15074  my_test  "
      ]
     },
     "execution_count": 4,
     "metadata": {},
     "output_type": "execute_result"
    }
   ],
   "source": [
    "annos[annos.id == 2109347]"
   ]
  },
  {
   "cell_type": "code",
   "execution_count": 5,
   "metadata": {},
   "outputs": [
    {
     "data": {
      "text/html": [
       "<div>\n",
       "<style scoped>\n",
       "    .dataframe tbody tr th:only-of-type {\n",
       "        vertical-align: middle;\n",
       "    }\n",
       "\n",
       "    .dataframe tbody tr th {\n",
       "        vertical-align: top;\n",
       "    }\n",
       "\n",
       "    .dataframe thead th {\n",
       "        text-align: right;\n",
       "    }\n",
       "</style>\n",
       "<table border=\"1\" class=\"dataframe\">\n",
       "  <thead>\n",
       "    <tr style=\"text-align: right;\">\n",
       "      <th></th>\n",
       "      <th>id</th>\n",
       "      <th>ilx</th>\n",
       "      <th>orig_uid</th>\n",
       "      <th>orig_cid</th>\n",
       "      <th>uid</th>\n",
       "      <th>cid</th>\n",
       "      <th>label</th>\n",
       "      <th>definition</th>\n",
       "      <th>comment</th>\n",
       "      <th>type</th>\n",
       "      <th>version</th>\n",
       "      <th>status</th>\n",
       "      <th>display_superclass</th>\n",
       "      <th>orig_time</th>\n",
       "      <th>time</th>\n",
       "    </tr>\n",
       "  </thead>\n",
       "  <tbody>\n",
       "    <tr>\n",
       "      <th>265029</th>\n",
       "      <td>265034</td>\n",
       "      <td>ilx_0346303</td>\n",
       "      <td>0</td>\n",
       "      <td>0</td>\n",
       "      <td>0</td>\n",
       "      <td>0</td>\n",
       "      <td>adas10 (Alzheimer&amp;#39;s Disease Assessment Sca...</td>\n",
       "      <td>Word-Finding Difficulty in Spontaneo</td>\n",
       "      <td></td>\n",
       "      <td>cde</td>\n",
       "      <td>4</td>\n",
       "      <td>0</td>\n",
       "      <td>1</td>\n",
       "      <td>1515641451</td>\n",
       "      <td>1524592805</td>\n",
       "    </tr>\n",
       "  </tbody>\n",
       "</table>\n",
       "</div>"
      ],
      "text/plain": [
       "            id          ilx  orig_uid  orig_cid  uid  cid  \\\n",
       "265029  265034  ilx_0346303         0         0    0    0   \n",
       "\n",
       "                                                    label  \\\n",
       "265029  adas10 (Alzheimer&#39;s Disease Assessment Sca...   \n",
       "\n",
       "                                  definition comment type  version  status  \\\n",
       "265029  Word-Finding Difficulty in Spontaneo          cde        4       0   \n",
       "\n",
       "       display_superclass   orig_time        time  \n",
       "265029                  1  1515641451  1524592805  "
      ]
     },
     "execution_count": 5,
     "metadata": {},
     "output_type": "execute_result"
    }
   ],
   "source": [
    "terms[terms.id == 265034]"
   ]
  },
  {
   "cell_type": "code",
   "execution_count": 4,
   "metadata": {},
   "outputs": [
    {
     "name": "stdout",
     "output_type": "stream",
     "text": [
      "here i am 1\n",
      "sources  2262\n",
      "condition  263985\n",
      "size  263985\n",
      "valueRange  263985\n",
      "dataType  2255\n",
      "id  263985\n",
      "categories  2255\n",
      "filterElement  263985\n",
      "status  2255\n",
      "type  263985\n",
      "required  263985\n",
      "modifiedDate  2255\n",
      "notes  264574\n"
     ]
    }
   ],
   "source": [
    "types = []\n",
    "for i, row in annos[annos.anno_label.str.contains('hasConstraint')].iterrows():\n",
    "    types.append(str(row.value).split(':')[0])\n",
    "for typ in set(types):\n",
    "    print(typ, types.count(typ))"
   ]
  },
  {
   "cell_type": "code",
   "execution_count": 5,
   "metadata": {},
   "outputs": [
    {
     "name": "stdout",
     "output_type": "stream",
     "text": [
      "here i am\n",
      "sources \n",
      "dataType \n",
      "categories \n",
      "status \n",
      "modifiedDate \n"
     ]
    }
   ],
   "source": [
    "for typ in set(types):\n",
    "    if types.count(typ) < 20000:\n",
    "        print(types)"
   ]
  }
 ],
 "metadata": {
  "kernelspec": {
   "display_name": "Python 3",
   "language": "python",
   "name": "python3"
  },
  "language_info": {
   "codemirror_mode": {
    "name": "ipython",
    "version": 3
   },
   "file_extension": ".py",
   "mimetype": "text/x-python",
   "name": "python",
   "nbconvert_exporter": "python",
   "pygments_lexer": "ipython3",
   "version": "3.6.5"
  }
 },
 "nbformat": 4,
 "nbformat_minor": 2
}
