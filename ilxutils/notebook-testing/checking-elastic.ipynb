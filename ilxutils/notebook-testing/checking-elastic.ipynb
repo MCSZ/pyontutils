{
 "cells": [
  {
   "cell_type": "code",
   "execution_count": 11,
   "metadata": {
    "collapsed": false
   },
   "outputs": [
    {
     "data": {
      "text/html": [
       "<style>.container { width:100% !important; }</style>"
      ],
      "text/plain": [
       "<IPython.core.display.HTML object>"
      ]
     },
     "metadata": {},
     "output_type": "display_data"
    }
   ],
   "source": [
    "from IPython.core.display import display, HTML\n",
    "display(HTML(\"<style>.container { width:100% !important; }</style>\"))\n",
    "\n",
    "import json\n",
    "from sqlalchemy import create_engine, inspect, Table, Column\n",
    "import pandas as pd\n",
    "from args_reader import read_args\n",
    "from scicrunch_client import scicrunch\n",
    "import sys\n",
    "import time\n",
    "from interlex_sql import interlex_sql\n",
    "import re\n",
    "from collections import defaultdict\n",
    "import requests as r\n",
    "import subprocess as sb\n",
    "\n",
    "args = read_args(api_key='../beta_api_scicrunch_key.txt', engine_key='../beta_engine_scicrunch_key.txt', beta=True)\n",
    "sql = interlex_sql(engine_key=args.engine_key)\n",
    "sci = scicrunch(api_key=args.api_key, base_path=args.base_path, engine_key=args.engine_key)\n",
    "\n",
    "def plink(ilxid):\n",
    "    return \"http://interlex.scicrunch.io/scicrunch/term/%s\" % ilxid\n",
    "def blink(ilxid):\n",
    "    return \"http://interlex-beta.scicrunch.io/scicrunch/term/%s\" % ilxid\n",
    "\n",
    "from random import choice\n",
    "from string import ascii_uppercase\n",
    "def get_random_words(lenghth=15, count=2):\n",
    "    return ['troy_test_'+''.join(choice(ascii_uppercase) for i in range(12)) for _ in range(count)] \n",
    "def create_ilx_format_from_words(words):\n",
    "    return [{'term':w, 'type':'term'} for w in words]\n",
    "words = get_random_words()\n",
    "test_terms = create_ilx_format_from_words(words)\n",
    "json.dump(test_terms, open('../test.json', 'w'), indent=4)"
   ]
  },
  {
   "cell_type": "code",
   "execution_count": 8,
   "metadata": {
    "collapsed": false,
    "scrolled": false
   },
   "outputs": [],
   "source": [
    "added_terms = sb.getoutput(\"python3 api_wrapper.py addTerms -a ../beta_api_scicrunch_key.txt -e ../beta_engine_scicrunch_key.txt -b -f ../test.json\")"
   ]
  },
  {
   "cell_type": "code",
   "execution_count": 9,
   "metadata": {
    "collapsed": false
   },
   "outputs": [
    {
     "data": {
      "text/plain": [
       "\"\\n                                                                               \\n\\n[                                                                        ] N/A%\\n                                                                               \\n\\n[========================================================================] 100%\\n\\n                                                                               \\n\\n[                                                                        ] N/A%\\n                                                                               \\n\\n[========================================================================] 100%\\nBatch 0 out of 0\\n[('https://test2.scicrunch.org/api/1/ilx/add', {'term': 'troy_test_FLDCNGIYCEQE', 'type': 'term'})]\\n=== Pushing Info ===\\n{'key': 'ricaGK0njWn4Pru9YWIwkFdXXsGdQpj8', 'term': 'troy_test_FLDCNGIYCEQE', 'type': 'term'}\\n0 {'fragment': 'tmp_0147942', 'term': 'troy_test_FLDCNGIYCEQE', 'datetime': 1524683081, 'note': None, 'defining_url': None}\\n=== Adding Terms ===\\n{'key': 'ricaGK0njWn4Pru9YWIwkFdXXsGdQpj8', 'type': 'term', 'label': 'troy_test_FLDCNGIYCEQE', 'ilx': 'tmp_0147942'}\\n0 troy_test_FLDCNGIYCEQE\""
      ]
     },
     "execution_count": 9,
     "metadata": {},
     "output_type": "execute_result"
    }
   ],
   "source": [
    "added_terms"
   ]
  },
  {
   "cell_type": "code",
   "execution_count": 5,
   "metadata": {
    "collapsed": false,
    "scrolled": true
   },
   "outputs": [
    {
     "name": "stdout",
     "output_type": "stream",
     "text": [
      "http://interlex-beta.scicrunch.io/scicrunch/term/tmp_0147941\n"
     ]
    }
   ],
   "source": [
    "print(blink('tmp_0147941'))"
   ]
  },
  {
   "cell_type": "code",
   "execution_count": null,
   "metadata": {
    "collapsed": true
   },
   "outputs": [],
   "source": []
  }
 ],
 "metadata": {
  "kernelspec": {
   "display_name": "Python 3",
   "language": "python",
   "name": "python3"
  },
  "language_info": {
   "codemirror_mode": {
    "name": "ipython",
    "version": 3
   },
   "file_extension": ".py",
   "mimetype": "text/x-python",
   "name": "python",
   "nbconvert_exporter": "python",
   "pygments_lexer": "ipython3",
   "version": "3.6.3"
  }
 },
 "nbformat": 4,
 "nbformat_minor": 2
}
