{
 "cells": [
  {
   "cell_type": "code",
   "execution_count": 17,
   "metadata": {
    "collapsed": false
   },
   "outputs": [],
   "source": [
    "uri_reps_lit = {\n",
    "        # from https://github.com/information-artifact-ontology/IAO/blob/master/docs/BFO%201.1%20to%202.0%20conversion/mapping.txt\n",
    "        'http://www.ifomis.org/bfo/1.1#Entity':'BFO:0000001',\n",
    "        'BFO1SNAP:Continuant':'BFO:0000002',\n",
    "        'BFO1SNAP:Disposition':'BFO:0000016',\n",
    "        'BFO1SNAP:Function':'BFO:0000034',\n",
    "        'BFO1SNAP:GenericallyDependentContinuant':'BFO:0000031',\n",
    "        'BFO1SNAP:IndependentContinuant':'BFO:0000004',\n",
    "        'BFO1SNAP:MaterialEntity':'BFO:0000040',\n",
    "        'BFO1SNAP:Quality':'BFO:0000019',\n",
    "        'BFO1SNAP:RealizableEntity':'BFO:0000017',\n",
    "        'BFO1SNAP:Role':'BFO:0000023',\n",
    "        'BFO1SNAP:Site':'BFO:0000029',\n",
    "        'BFO1SNAP:SpecificallyDependentContinuant':'BFO:0000020',\n",
    "        'BFO1SPAN:Occurrent':'BFO:0000003',\n",
    "        'BFO1SPAN:ProcessualEntity':'BFO:0000015',\n",
    "        'BFO1SPAN:Process':'BFO:0000015',\n",
    "        'BFO1SNAP:ZeroDimensionalRegion':'BFO:0000018',\n",
    "        'BFO1SNAP:OneDimensionalRegion':'BFO:0000026',\n",
    "        'BFO1SNAP:TwoDimensionalRegion':'BFO:0000009',\n",
    "        'BFO1SNAP:ThreeDimensionalRegion':'BFO:0000028',\n",
    "        'http://purl.org/obo/owl/OBO_REL#bearer_of':'RO:0000053',\n",
    "        'http://purl.org/obo/owl/OBO_REL#inheres_in':'RO:0000052',\n",
    "        'ro:has_part':'BFO:0000051',\n",
    "        'ro:part_of':'BFO:0000050',\n",
    "        'ro:has_participant':'RO:0000057',\n",
    "        'ro:participates_in':'RO:0000056',\n",
    "        'http://purl.obolibrary.org/obo/OBI_0000294':'RO:0000059',\n",
    "        'http://purl.obolibrary.org/obo/OBI_0000297':'RO:0000058',\n",
    "        'http://purl.obolibrary.org/obo/OBI_0000300':'BFO:0000054',\n",
    "        'http://purl.obolibrary.org/obo/OBI_0000308':'BFO:0000055',\n",
    "\n",
    "        # more bfo\n",
    "        'BFO1SNAP:SpatialRegion':'BFO:0000006',\n",
    "        'BFO1SNAP:FiatObjectPart':'BFO:0000024',\n",
    "        'BFO1SNAP:ObjectAggregate':'BFO:0000027',\n",
    "        'BFO1SNAP:Object':'BFO:0000030',\n",
    "        #'BFO1SNAP:ObjectBoundary'  # no direct replacement, only occurs in unused\n",
    "        #'BFO1SPAN:ProcessAggregate'  # was not replaced, could simply be a process itself??\n",
    "        #'BFO1SNAP:DependentContinuant'  # was not replaced\n",
    "\n",
    "        # other\n",
    "        #'ro:participates_in'  # above\n",
    "        #'ro:has_participant'  # above\n",
    "        #'ro:has_part',  # above\n",
    "        #'ro:part_of',  # above\n",
    "        #'ro:precedes'  # unused and only in inferred\n",
    "        #'ro:preceded_by'  # unused and only in inferred\n",
    "        #'ro:transformation_of'  # unused and only in inferred\n",
    "        #'ro:transformed_into'  # unused and only in inferred\n",
    "\n",
    "        'http://purl.org/obo/owl/obo#inheres_in':'RO:0000052',\n",
    "        'http://purl.obolibrary.org/obo/obo#towards':'RO:0002503',\n",
    "        'http://purl.org/obo/owl/pato#towards':'RO:0002503',\n",
    "\n",
    "        'http://purl.obolibrary.org/obo/pato#inheres_in':'RO:0000052',\n",
    "        'BIRNLEX:17':'RO:0000053',  # is_bearer_of\n",
    "        'http://purl.obolibrary.org/obo/pato#towards':'RO:0002503',\n",
    "        'ro:adjacent_to':'RO:0002220',\n",
    "\n",
    "        'ro:derives_from':'RO:0001000',\n",
    "        'ro:derives_into':'RO:0001001',\n",
    "\n",
    "        'ro:agent_in':'RO:0002217',\n",
    "        'ro:has_agent':'RO:0002218',\n",
    "\n",
    "        'ro:contained_in':'RO:0001018',\n",
    "        'ro:contains':'RO:0001019',\n",
    "\n",
    "        'ro:located_in':'RO:0001025',\n",
    "        'ro:location_of':'RO:0001015',\n",
    "\n",
    "        'ro:has_proper_part':'NIFRID:has_proper_part',\n",
    "        'ro:proper_part_of':'NIFRID:proper_part_of',  # part of where things are not part of themsevles need to review\n",
    "    }\n",
    "depricated = {v:k for k, v in uri_reps_lit.items()}"
   ]
  },
  {
   "cell_type": "code",
   "execution_count": 1,
   "metadata": {
    "collapsed": false
   },
   "outputs": [
    {
     "data": {
      "text/html": [
       "<style>.container { width:100% !important; }</style>"
      ],
      "text/plain": [
       "<IPython.core.display.HTML object>"
      ]
     },
     "metadata": {},
     "output_type": "display_data"
    }
   ],
   "source": [
    "from IPython.core.display import display, HTML\n",
    "display(HTML(\"<style>.container { width:100% !important; }</style>\"))\n",
    "\n",
    "import json\n",
    "from sqlalchemy import create_engine, inspect, Table, Column\n",
    "import pandas as pd\n",
    "from args_reader import read_args\n",
    "from scicrunch_client import scicrunch\n",
    "import sys\n",
    "import time\n",
    "from interlex_sql import interlex_sql\n",
    "import re\n",
    "from collections import defaultdict\n",
    "\n",
    "args = read_args(api_key='../production_api_scicrunch_key.txt', engine_key='../production_engine_scicrunch_key.txt', production=True)\n",
    "sql = interlex_sql(engine_key=args.engine_key)\n",
    "sci = scicrunch(api_key=args.api_key, base_path=args.base_path, engine_key=args.engine_key)"
   ]
  },
  {
   "cell_type": "code",
   "execution_count": 11,
   "metadata": {
    "collapsed": false
   },
   "outputs": [],
   "source": [
    "from pyontutils.utils import * \n",
    "from pyontutils.core import *\n",
    "from pyontutils.closed_namespaces import *\n",
    "import pickle\n",
    "g_nif = makeGraph('', graph=pickle.load(open('../NIF-ALL.pickle', 'rb')))"
   ]
  },
  {
   "cell_type": "code",
   "execution_count": 2,
   "metadata": {
    "collapsed": true
   },
   "outputs": [],
   "source": [
    "unaccounted = json.load(open('/home/troy/Desktop/neurolex_unaccounted.json'))"
   ]
  },
  {
   "cell_type": "code",
   "execution_count": 3,
   "metadata": {
    "collapsed": true
   },
   "outputs": [],
   "source": [
    "ilx_to_row = sql.get_ilx_to_row()"
   ]
  },
  {
   "cell_type": "code",
   "execution_count": 5,
   "metadata": {
    "collapsed": false
   },
   "outputs": [
    {
     "data": {
      "text/plain": [
       "'ilx_0100000'"
      ]
     },
     "execution_count": 5,
     "metadata": {},
     "output_type": "execute_result"
    }
   ],
   "source": [
    "list(ilx_to_row)[0]"
   ]
  },
  {
   "cell_type": "code",
   "execution_count": 18,
   "metadata": {
    "collapsed": false
   },
   "outputs": [],
   "source": [
    "undict = {}\n",
    "for ilx in unaccounted:\n",
    "    ilx = ilx.rsplit('/', 1)[-1]\n",
    "    undict[ilx_to_row[ilx]['label'].lower().strip()]=ilx_to_row[ilx]"
   ]
  },
  {
   "cell_type": "code",
   "execution_count": 30,
   "metadata": {
    "collapsed": false
   },
   "outputs": [
    {
     "name": "stdout",
     "output_type": "stream",
     "text": [
      "{'id': 10196, 'ilx': 'ilx_0110195', 'orig_uid': 32290, 'orig_cid': 0, 'uid': 32290, 'cid': 0, 'label': 'Role', 'definition': 'A realizable entity (snap:RealizableEntity) the manifestation of which brings about some result or end that is not essential to a continuant (snap:Continuant) in virtue of the kind of thing that it is but that can be served or participated in by that kind of continuant (snap:Continuant) in some kinds of natural, social or institutional contexts., Examples: the role of a person as a surgeon, the role of a chemical compound in an experiment, the role of a patient relative as defined by a hospital administrative form, the role of a woman as a legal mother in the context of system of laws, the role of a biological grandfather as legal guardian in the context of a system of laws, the role of ingested matter in digestion, the role of a student in a university', 'comment': '', 'type': 'term', 'version': 2, 'status': 0, 'display_superclass': '1', 'orig_time': 1481247656, 'time': 1516261724} CHEBI:50906\n",
      "{'id': 6516, 'ilx': 'ilx_0106515', 'orig_uid': 32290, 'orig_cid': 0, 'uid': 32290, 'cid': 0, 'label': 'MAO', 'definition': \"An enzyme that catalyzes the oxidative deamination of naturally occurring monoamines. It is a flavin-containing enzyme that is localized in mitochondrial membranes, whether in nerve terminals, the liver, or other organs. Monoamine oxidase is important in regulating the metabolic degradation of catecholamines and serotonin in neural or target tissues. Hepatic monoamine oxidase has a crucial defensive role in inactivating circulating monoamines or those, such as tyramine, that originate in the gut and are absorbed into the portal circulation. (From Goodman and Gilman's, The Pharmacological Basis of Therapeutics, 8th ed, p415) EC 1.4.3.4. (from MSH)\", 'comment': '', 'type': 'term', 'version': 2, 'status': 0, 'display_superclass': '1', 'orig_time': 1481240087, 'time': 1516250009} NIFSTD:D008995\n",
      "{'id': 4886, 'ilx': 'ilx_0104885', 'orig_uid': 32290, 'orig_cid': 0, 'uid': 32290, 'cid': 0, 'label': 'Hand', 'definition': '', 'comment': '', 'type': 'term', 'version': 2, 'status': 0, 'display_superclass': '1', 'orig_time': 1481236745, 'time': 1516244804} NLXANAT:20090603\n",
      "{'id': 12530, 'ilx': 'ilx_0112529', 'orig_uid': 32290, 'orig_cid': 0, 'uid': 32290, 'cid': 0, 'label': 'Visual system', 'definition': 'The sensory system subserving the sense of vision.', 'comment': '', 'type': 'term', 'version': 2, 'status': 0, 'display_superclass': '1', 'orig_time': 1481252599, 'time': 1516268926} UBERON:0002104\n",
      "{'id': 5857, 'ilx': 'ilx_0105856', 'orig_uid': 32290, 'orig_cid': 0, 'uid': 32290, 'cid': 0, 'label': 'Kinase', 'definition': '', 'comment': '', 'type': 'term', 'version': 2, 'status': 0, 'display_superclass': '1', 'orig_time': 1481238738, 'time': 1516247971} SAO:743185455\n",
      "{'id': 8357, 'ilx': 'ilx_0108356', 'orig_uid': 32290, 'orig_cid': 0, 'uid': 32290, 'cid': 0, 'label': 'Pacinian corpuscle', 'definition': 'Encapsulated nerve ending located in skin composed of nerve ending of a dorsal root ganglion neuron wrapped in 20-60 concentric lamellae composed of fibrous tissue and fibroblasts. They function as mechanoreceptors for pressure (adapted from Wikipedia)', 'comment': '', 'type': 'term', 'version': 2, 'status': 0, 'display_superclass': '1', 'orig_time': 1481243878, 'time': 1516255937} NIFSTD:FMA_83604\n",
      "{'id': 2411, 'ilx': 'ilx_0102410', 'orig_uid': 32290, 'orig_cid': 0, 'uid': 32290, 'cid': 0, 'label': 'Common data element', 'definition': 'Data terms or concepts that have been determined to be identical between projects or contexts (from NCI Thesaurus)', 'comment': '', 'type': 'term', 'version': 3, 'status': 0, 'display_superclass': '1', 'orig_time': 1481231635, 'time': 1516228207} ILX:0102410\n",
      "{'id': 4511, 'ilx': 'ilx_0104510', 'orig_uid': 32290, 'orig_cid': 0, 'uid': 32290, 'cid': 0, 'label': 'GABRA1', 'definition': 'taken from OMIM', 'comment': '', 'type': 'term', 'version': 2, 'status': 0, 'display_superclass': '1', 'orig_time': 1481235973, 'time': 1516243624} NCBIGene:14394\n",
      "{'id': 3375, 'ilx': 'ilx_0103374', 'orig_uid': 32290, 'orig_cid': 0, 'uid': 32290, 'cid': 0, 'label': 'Document', 'definition': 'A bounded physical or digital representation of a body of information designed with the capacity (and usually intent) to communicate.', 'comment': '', 'type': 'term', 'version': 2, 'status': 0, 'display_superclass': '1', 'orig_time': 1481233607, 'time': 1516239992} IAO:0000310\n",
      "{'id': 3375, 'ilx': 'ilx_0103374', 'orig_uid': 32290, 'orig_cid': 0, 'uid': 32290, 'cid': 0, 'label': 'Document', 'definition': 'A bounded physical or digital representation of a body of information designed with the capacity (and usually intent) to communicate.', 'comment': '', 'type': 'term', 'version': 2, 'status': 0, 'display_superclass': '1', 'orig_time': 1481233607, 'time': 1516239992} IAO:0000310\n",
      "{'id': 9385, 'ilx': 'ilx_0109384', 'orig_uid': 32290, 'orig_cid': 0, 'uid': 32290, 'cid': 0, 'label': 'Process boundary', 'definition': '', 'comment': '', 'type': 'term', 'version': 2, 'status': 0, 'display_superclass': '1', 'orig_time': 1481245994, 'time': 1516259059} BFO:0000035\n",
      "{'id': 11600, 'ilx': 'ilx_0111599', 'orig_uid': 32290, 'orig_cid': 0, 'uid': 32290, 'cid': 0, 'label': 'Temporal region', 'definition': '', 'comment': '', 'type': 'term', 'version': 2, 'status': 0, 'display_superclass': '1', 'orig_time': 1481250667, 'time': 1516266026} SWAN:201\n",
      "{'id': 11600, 'ilx': 'ilx_0111599', 'orig_uid': 32290, 'orig_cid': 0, 'uid': 32290, 'cid': 0, 'label': 'Temporal region', 'definition': '', 'comment': '', 'type': 'term', 'version': 2, 'status': 0, 'display_superclass': '1', 'orig_time': 1481250667, 'time': 1516266026} BFO:0000008\n",
      "{'id': 8357, 'ilx': 'ilx_0108356', 'orig_uid': 32290, 'orig_cid': 0, 'uid': 32290, 'cid': 0, 'label': 'Pacinian corpuscle', 'definition': 'Encapsulated nerve ending located in skin composed of nerve ending of a dorsal root ganglion neuron wrapped in 20-60 concentric lamellae composed of fibrous tissue and fibroblasts. They function as mechanoreceptors for pressure (adapted from Wikipedia)', 'comment': '', 'type': 'term', 'version': 2, 'status': 0, 'display_superclass': '1', 'orig_time': 1481243878, 'time': 1516255937} UBERON:0003719\n",
      "{'id': 10842, 'ilx': 'ilx_0110841', 'orig_uid': 32290, 'orig_cid': 0, 'uid': 32290, 'cid': 0, 'label': 'Spatiotemporal region', 'definition': '', 'comment': '', 'type': 'term', 'version': 2, 'status': 0, 'display_superclass': '1', 'orig_time': 1481249065, 'time': 1516263769} BFO:0000011\n",
      "{'id': 4511, 'ilx': 'ilx_0104510', 'orig_uid': 32290, 'orig_cid': 0, 'uid': 32290, 'cid': 0, 'label': 'GABRA1', 'definition': 'taken from OMIM', 'comment': '', 'type': 'term', 'version': 2, 'status': 0, 'display_superclass': '1', 'orig_time': 1481235973, 'time': 1516243624} NIFSTD:137160\n",
      "{'id': 9574, 'ilx': 'ilx_0109573', 'orig_uid': 32290, 'orig_cid': 0, 'uid': 32290, 'cid': 0, 'label': 'Quality', 'definition': 'A quality is an attribute or a property.', 'comment': '', 'type': 'term', 'version': 2, 'status': 0, 'display_superclass': '1', 'orig_time': 1481246382, 'time': 1516259730} PATO:0000001\n",
      "{'id': 3328, 'ilx': 'ilx_0103327', 'orig_uid': 32290, 'orig_cid': 0, 'uid': 32290, 'cid': 0, 'label': 'Disposition', 'definition': '', 'comment': '', 'type': 'term', 'version': 2, 'status': 0, 'display_superclass': '1', 'orig_time': 1481233510, 'time': 1516239848} PATO:0001727\n",
      "{'id': 1699, 'ilx': 'ilx_0101698', 'orig_uid': 32290, 'orig_cid': 0, 'uid': 32290, 'cid': 0, 'label': 'Catechol O-methyltransferase', 'definition': 'Enzyme that catalyzes the movement of a methyl group from S-adenosylmethionone to a catechol or a catecholamine. EC 2.1.1.6. (MSH)', 'comment': '', 'type': 'term', 'version': 2, 'status': 0, 'display_superclass': '1', 'orig_time': 1481230135, 'time': 1516224939} NIFSTD:D002394\n",
      "{'id': 4886, 'ilx': 'ilx_0104885', 'orig_uid': 32290, 'orig_cid': 0, 'uid': 32290, 'cid': 0, 'label': 'Hand', 'definition': '', 'comment': '', 'type': 'term', 'version': 2, 'status': 0, 'display_superclass': '1', 'orig_time': 1481236745, 'time': 1516244804} COGPO1:00114\n",
      "{'id': 12530, 'ilx': 'ilx_0112529', 'orig_uid': 32290, 'orig_cid': 0, 'uid': 32290, 'cid': 0, 'label': 'Visual system', 'definition': 'The sensory system subserving the sense of vision.', 'comment': '', 'type': 'term', 'version': 2, 'status': 0, 'display_superclass': '1', 'orig_time': 1481252599, 'time': 1516268926} NIFSTD:FMA_7191\n",
      "{'id': 4512, 'ilx': 'ilx_0104511', 'orig_uid': 32290, 'orig_cid': 0, 'uid': 32290, 'cid': 0, 'label': 'GABRA2', 'definition': 'taken from OMIM', 'comment': '', 'type': 'term', 'version': 2, 'status': 0, 'display_superclass': '1', 'orig_time': 1481235975, 'time': 1516243627} NIFSTD:137140\n",
      "{'id': 12206, 'ilx': 'ilx_0112205', 'orig_uid': 32290, 'orig_cid': 0, 'uid': 32290, 'cid': 0, 'label': 'Urine', 'definition': '', 'comment': '', 'type': 'term', 'version': 2, 'status': 0, 'display_superclass': '1', 'orig_time': 1481251922, 'time': 1516267938} UBERON:0001088\n",
      "{'id': 4859, 'ilx': 'ilx_0104858', 'orig_uid': 32290, 'orig_cid': 0, 'uid': 32290, 'cid': 0, 'label': 'Habituation', 'definition': 'A decrease in a behavioral response to a repeated stimulus. This is exemplified by the failure of a person to show a startle response to a loud noise that has been repeatedly presented. (source: ISBN:0582227089)', 'comment': '', 'type': 'term', 'version': 2, 'status': 0, 'display_superclass': '1', 'orig_time': 1481236688, 'time': 1516244723} GO:0046959\n",
      "{'id': 5857, 'ilx': 'ilx_0105856', 'orig_uid': 32290, 'orig_cid': 0, 'uid': 32290, 'cid': 0, 'label': 'Kinase', 'definition': '', 'comment': '', 'type': 'term', 'version': 2, 'status': 0, 'display_superclass': '1', 'orig_time': 1481238738, 'time': 1516247971} NIFSTD:IMR_0000512\n",
      "{'id': 9389, 'ilx': 'ilx_0109388', 'orig_uid': 32290, 'orig_cid': 0, 'uid': 32290, 'cid': 0, 'label': 'Processual entity', 'definition': '', 'comment': '', 'type': 'term', 'version': 2, 'status': 0, 'display_superclass': '1', 'orig_time': 1481246002, 'time': 1516259070} UBERON:0000000\n",
      "{'id': 6208, 'ilx': 'ilx_0106207', 'orig_uid': 32290, 'orig_cid': 0, 'uid': 32290, 'cid': 0, 'label': 'Levator auris longus muscle', 'definition': 'Muscle organ located on the dorsal surface of the head innervated by the facial nerve', 'comment': '', 'type': 'term', 'version': 2, 'status': 0, 'display_superclass': '1', 'orig_time': 1481239463, 'time': 1516249061} UBERON:0015430\n",
      "{'id': 1699, 'ilx': 'ilx_0101698', 'orig_uid': 32290, 'orig_cid': 0, 'uid': 32290, 'cid': 0, 'label': 'Catechol O-methyltransferase', 'definition': 'Enzyme that catalyzes the movement of a methyl group from S-adenosylmethionone to a catechol or a catecholamine. EC 2.1.1.6. (MSH)', 'comment': '', 'type': 'term', 'version': 2, 'status': 0, 'display_superclass': '1', 'orig_time': 1481230135, 'time': 1516224939} PR:000005731\n",
      "{'id': 10650, 'ilx': 'ilx_0110649', 'orig_uid': 32290, 'orig_cid': 0, 'uid': 32290, 'cid': 0, 'label': 'Site', 'definition': '', 'comment': '', 'type': 'term', 'version': 2, 'status': 0, 'display_superclass': '1', 'orig_time': 1481248649, 'time': 1516263192} SO:0000408\n",
      "{'id': 6757, 'ilx': 'ilx_0106756', 'orig_uid': 32290, 'orig_cid': 0, 'uid': 32290, 'cid': 0, 'label': 'Meissners corpuscle', 'definition': \"Meissner's corpuscles are encapsulated nerve endings of dorsal root ganglion cells.  They are located in skin, which consist of flattened supportive cells arranged as horizontal lamellae surrounded by a connective tissue capsule, that function as mechanoreceptors for light touch. The corpuscle is between 30-140 ?m in length and 40-60 ?m in diameter.\", 'comment': '', 'type': 'term', 'version': 2, 'status': 0, 'display_superclass': '1', 'orig_time': 1481240584, 'time': 1516250842} NIFSTD:FMA_83605\n",
      "{'id': 6807, 'ilx': 'ilx_0106806', 'orig_uid': 32290, 'orig_cid': 0, 'uid': 32290, 'cid': 0, 'label': 'Merkels disc', 'definition': 'Encapsulated nerve ending formed by the neurite of a dorsal root ganglion cell in close apposition to a Merkel cell found in the basal layer of glabrous and hairy skin, in hair follicles, and in oral and anal mucosa.  The Merkel disc functions as a sensory receptor for pressure and texture information (adapted from Wikipedia)', 'comment': '', 'type': 'term', 'version': 2, 'status': 0, 'display_superclass': '1', 'orig_time': 1481240686, 'time': 1516251001} NIFSTD:FMA_83606\n",
      "{'id': 8809, 'ilx': 'ilx_0108808', 'orig_uid': 32290, 'orig_cid': 0, 'uid': 32290, 'cid': 0, 'label': 'Phenotype', 'definition': 'A (combination of) quality(ies) of an organism determined by the interaction of its genetic make-up and environment that differentiates specific instances of a species from other instances of the same species. (adapted from OBI)', 'comment': '', 'type': 'term', 'version': 2, 'status': 0, 'display_superclass': '1', 'orig_time': 1481244817, 'time': 1516257326} BIRNLEX:2087\n",
      "{'id': 7864, 'ilx': 'ilx_0107863', 'orig_uid': 32290, 'orig_cid': 0, 'uid': 32290, 'cid': 0, 'label': 'Object', 'definition': 'An independent continuant (snap:IndependentContinuant) that is spatially extended, maximally self-connected and self-contained (the parts of a substance are not separated from each other by spatial gaps) and possesses an internal unity. The identity of substantial object (snap:Object) entities is independent of that of other entities and can be maintained through time., Synonyms: substance, Examples: an organism, a heart, a chair, a lung, an apple', 'comment': '', 'type': 'term', 'version': 2, 'status': 0, 'display_superclass': '1', 'orig_time': 1481242859, 'time': 1516254394} BFO1SNAP:Object\n"
     ]
    }
   ],
   "source": [
    "hits = []\n",
    "for subj in g_nif.g.subjects(rdflib.RDF.type, rdflib.OWL.Class):\n",
    "    for obj in g_nif.g.objects(subj, rdfs.label):\n",
    "        ilx_data = undict.get(str(obj).lower().strip())\n",
    "        if ilx_data:\n",
    "            qname = g_nif.qname(subj)\n",
    "            if not depricated.get(qname):\n",
    "                print(ilx_data,qname)\n",
    "                #print(obj)\n",
    "                #print(ilx_data)\n",
    "                hits.append({'NIF':qname, 'NIF_URL':str(subj), **ilx_data})\n",
    "len(hits)\n",
    "#ilx_0110195 CHEBI:50906 duplicate \"role\"\n",
    "json.dump(hits, open('/home/troy/Desktop/final_unaccounted.json', 'w'), indent=4)"
   ]
  }
 ],
 "metadata": {
  "kernelspec": {
   "display_name": "Python 3",
   "language": "python",
   "name": "python3"
  },
  "language_info": {
   "codemirror_mode": {
    "name": "ipython",
    "version": 3
   },
   "file_extension": ".py",
   "mimetype": "text/x-python",
   "name": "python",
   "nbconvert_exporter": "python",
   "pygments_lexer": "ipython3",
   "version": "3.6.3"
  }
 },
 "nbformat": 4,
 "nbformat_minor": 2
}
