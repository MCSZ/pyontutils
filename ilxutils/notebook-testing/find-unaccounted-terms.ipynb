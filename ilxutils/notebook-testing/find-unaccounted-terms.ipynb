{
 "cells": [
  {
   "cell_type": "code",
   "execution_count": null,
   "metadata": {},
   "outputs": [],
   "source": [
    "uri_reps_lit = {\n",
    "        # from https://github.com/information-artifact-ontology/IAO/blob/master/docs/BFO%201.1%20to%202.0%20conversion/mapping.txt\n",
    "        'http://www.ifomis.org/bfo/1.1#Entity':'BFO:0000001',\n",
    "        'BFO1SNAP:Continuant':'BFO:0000002',\n",
    "        'BFO1SNAP:Disposition':'BFO:0000016',\n",
    "        'BFO1SNAP:Function':'BFO:0000034',\n",
    "        'BFO1SNAP:GenericallyDependentContinuant':'BFO:0000031',\n",
    "        'BFO1SNAP:IndependentContinuant':'BFO:0000004',\n",
    "        'BFO1SNAP:MaterialEntity':'BFO:0000040',\n",
    "        'BFO1SNAP:Quality':'BFO:0000019',\n",
    "        'BFO1SNAP:RealizableEntity':'BFO:0000017',\n",
    "        'BFO1SNAP:Role':'BFO:0000023',\n",
    "        'BFO1SNAP:Site':'BFO:0000029',\n",
    "        'BFO1SNAP:SpecificallyDependentContinuant':'BFO:0000020',\n",
    "        'BFO1SPAN:Occurrent':'BFO:0000003',\n",
    "        'BFO1SPAN:ProcessualEntity':'BFO:0000015',\n",
    "        'BFO1SPAN:Process':'BFO:0000015',\n",
    "        'BFO1SNAP:ZeroDimensionalRegion':'BFO:0000018',\n",
    "        'BFO1SNAP:OneDimensionalRegion':'BFO:0000026',\n",
    "        'BFO1SNAP:TwoDimensionalRegion':'BFO:0000009',\n",
    "        'BFO1SNAP:ThreeDimensionalRegion':'BFO:0000028',\n",
    "        'http://purl.org/obo/owl/OBO_REL#bearer_of':'RO:0000053',\n",
    "        'http://purl.org/obo/owl/OBO_REL#inheres_in':'RO:0000052',\n",
    "        'ro:has_part':'BFO:0000051',\n",
    "        'ro:part_of':'BFO:0000050',\n",
    "        'ro:has_participant':'RO:0000057',\n",
    "        'ro:participates_in':'RO:0000056',\n",
    "        'http://purl.obolibrary.org/obo/OBI_0000294':'RO:0000059',\n",
    "        'http://purl.obolibrary.org/obo/OBI_0000297':'RO:0000058',\n",
    "        'http://purl.obolibrary.org/obo/OBI_0000300':'BFO:0000054',\n",
    "        'http://purl.obolibrary.org/obo/OBI_0000308':'BFO:0000055',\n",
    "\n",
    "        # more bfo\n",
    "        'BFO1SNAP:SpatialRegion':'BFO:0000006',\n",
    "        'BFO1SNAP:FiatObjectPart':'BFO:0000024',\n",
    "        'BFO1SNAP:ObjectAggregate':'BFO:0000027',\n",
    "        'BFO1SNAP:Object':'BFO:0000030',\n",
    "        #'BFO1SNAP:ObjectBoundary'  # no direct replacement, only occurs in unused\n",
    "        #'BFO1SPAN:ProcessAggregate'  # was not replaced, could simply be a process itself??\n",
    "        #'BFO1SNAP:DependentContinuant'  # was not replaced\n",
    "\n",
    "        # other\n",
    "        #'ro:participates_in'  # above\n",
    "        #'ro:has_participant'  # above\n",
    "        #'ro:has_part',  # above\n",
    "        #'ro:part_of',  # above\n",
    "        #'ro:precedes'  # unused and only in inferred\n",
    "        #'ro:preceded_by'  # unused and only in inferred\n",
    "        #'ro:transformation_of'  # unused and only in inferred\n",
    "        #'ro:transformed_into'  # unused and only in inferred\n",
    "\n",
    "        'http://purl.org/obo/owl/obo#inheres_in':'RO:0000052',\n",
    "        'http://purl.obolibrary.org/obo/obo#towards':'RO:0002503',\n",
    "        'http://purl.org/obo/owl/pato#towards':'RO:0002503',\n",
    "\n",
    "        'http://purl.obolibrary.org/obo/pato#inheres_in':'RO:0000052',\n",
    "        'BIRNLEX:17':'RO:0000053',  # is_bearer_of\n",
    "        'http://purl.obolibrary.org/obo/pato#towards':'RO:0002503',\n",
    "        'ro:adjacent_to':'RO:0002220',\n",
    "\n",
    "        'ro:derives_from':'RO:0001000',\n",
    "        'ro:derives_into':'RO:0001001',\n",
    "\n",
    "        'ro:agent_in':'RO:0002217',\n",
    "        'ro:has_agent':'RO:0002218',\n",
    "\n",
    "        'ro:contained_in':'RO:0001018',\n",
    "        'ro:contains':'RO:0001019',\n",
    "\n",
    "        'ro:located_in':'RO:0001025',\n",
    "        'ro:location_of':'RO:0001015',\n",
    "\n",
    "        'ro:has_proper_part':'NIFRID:has_proper_part',\n",
    "        'ro:proper_part_of':'NIFRID:proper_part_of',  # part of where things are not part of themsevles need to review\n",
    "    }\n",
    "depricated = {v:k for k, v in uri_reps_lit.items()}"
   ]
  },
  {
   "cell_type": "code",
   "execution_count": null,
   "metadata": {},
   "outputs": [],
   "source": [
    "from IPython.core.display import display, HTML\n",
    "display(HTML(\"<style>.container { width:100% !important; }</style>\"))\n",
    "\n",
    "import json\n",
    "from sqlalchemy import create_engine, inspect, Table, Column\n",
    "import pandas as pd\n",
    "from args_reader import read_args\n",
    "from scicrunch_client import scicrunch\n",
    "import sys\n",
    "import time\n",
    "from interlex_sql import interlex_sql\n",
    "import re\n",
    "from collections import defaultdict\n",
    "\n",
    "args = read_args(api_key='../production_api_scicrunch_key.txt', engine_key='../production_engine_scicrunch_key.txt', production=True)\n",
    "sql = interlex_sql(engine_key=args.engine_key)\n",
    "sci = scicrunch(api_key=args.api_key, base_path=args.base_path, engine_key=args.engine_key)"
   ]
  },
  {
   "cell_type": "code",
   "execution_count": null,
   "metadata": {},
   "outputs": [],
   "source": [
    "from pyontutils.utils import * \n",
    "from pyontutils.core import *\n",
    "from pyontutils.closed_namespaces import *\n",
    "import pickle\n",
    "g_nif = makeGraph('', graph=pickle.load(open('../NIF-ALL.pickle', 'rb')))"
   ]
  },
  {
   "cell_type": "code",
   "execution_count": null,
   "metadata": {},
   "outputs": [],
   "source": [
    "unaccounted = json.load(open('/home/troy/Desktop/neurolex_unaccounted.json'))"
   ]
  },
  {
   "cell_type": "code",
   "execution_count": null,
   "metadata": {},
   "outputs": [],
   "source": [
    "ilx_to_row = sql.get_ilx_to_row()"
   ]
  },
  {
   "cell_type": "code",
   "execution_count": null,
   "metadata": {},
   "outputs": [],
   "source": [
    "list(ilx_to_row)[0]"
   ]
  },
  {
   "cell_type": "code",
   "execution_count": null,
   "metadata": {},
   "outputs": [],
   "source": [
    "undict = {}\n",
    "for ilx in unaccounted:\n",
    "    ilx = ilx.rsplit('/', 1)[-1]\n",
    "    undict[ilx_to_row[ilx]['label'].lower().strip()]=ilx_to_row[ilx]"
   ]
  },
  {
   "cell_type": "code",
   "execution_count": null,
   "metadata": {},
   "outputs": [],
   "source": [
    "hits = []\n",
    "for subj in g_nif.g.subjects(rdflib.RDF.type, rdflib.OWL.Class):\n",
    "    for obj in g_nif.g.objects(subj, rdfs.label):\n",
    "        ilx_data = undict.get(str(obj).lower().strip())\n",
    "        if ilx_data:\n",
    "            qname = g_nif.qname(subj)\n",
    "            if not depricated.get(qname):\n",
    "                print(ilx_data,qname)\n",
    "                #print(obj)\n",
    "                #print(ilx_data)\n",
    "                hits.append({'NIF':qname, 'NIF_URL':str(subj), **ilx_data})\n",
    "len(hits)\n",
    "#ilx_0110195 CHEBI:50906 duplicate \"role\"\n",
    "json.dump(hits, open('/home/troy/Desktop/final_unaccounted.json', 'w'), indent=4)"
   ]
  }
 ],
 "metadata": {
  "kernelspec": {
   "display_name": "Python 3",
   "language": "python3.6",
   "name": "python3"
  },
  "language_info": {
   "codemirror_mode": {
    "name": "ipython",
    "version": 3
   },
   "file_extension": ".py",
   "mimetype": "text/x-python",
   "name": "python",
   "nbconvert_exporter": "python",
   "pygments_lexer": "ipython3",
   "version": "3.6.5"
  }
 },
 "nbformat": 4,
 "nbformat_minor": 2
}
