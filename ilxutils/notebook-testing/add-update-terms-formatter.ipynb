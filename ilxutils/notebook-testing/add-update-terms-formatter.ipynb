{
 "cells": [
  {
   "cell_type": "code",
   "execution_count": 14,
   "metadata": {},
   "outputs": [
    {
     "data": {
      "text/html": [
       "<style>.container { width:100% !important; }</style>"
      ],
      "text/plain": [
       "<IPython.core.display.HTML object>"
      ]
     },
     "metadata": {},
     "output_type": "display_data"
    }
   ],
   "source": [
    "#https://www.dicomlibrary.com/dicom/dicom-tags/\n",
    "from IPython.core.display import display, HTML\n",
    "display(HTML(\"<style>.container { width:100% !important; }</style>\"))\n",
    "\n",
    "import json\n",
    "from sqlalchemy import create_engine, inspect, Table, Column\n",
    "import pandas as pd\n",
    "from ilxutils.args_reader import read_args\n",
    "from ilxutils.scicrunch_client import scicrunch\n",
    "import sys\n",
    "import time\n",
    "from ilxutils.interlex_sql import interlex_sql\n",
    "import re\n",
    "from collections import defaultdict\n",
    "from IPython.core.display import display\n",
    "import subprocess as sb\n",
    "import pickle\n",
    "from pathlib import Path as p\n",
    "import requests as r\n",
    "from goatools import obo_parser\n",
    "\n",
    "def degrade(var):\n",
    "    def helper(s):\n",
    "        return re.sub(\"\\(|\\)|'|,\", \"\", s).lower().strip()\n",
    "    if type(var)!=list:\n",
    "        if var:\n",
    "            return helper(var)\n",
    "        else:\n",
    "            return var\n",
    "    else:\n",
    "        return [helper(v) if v else v for v in var]\n",
    "\n",
    "def get(url):\n",
    "    req = r.get(url)\n",
    "    if req.raise_for_status():\n",
    "        sys.exit('failed at '+ url)\n",
    "    try:\n",
    "        return req.json()\n",
    "    except:\n",
    "        return req.text\n",
    "    \n",
    "def cj(data, output):\n",
    "    try:\n",
    "        json.dump(data, open(output+'.json', 'w'), indent=4)\n",
    "        print('Complete')\n",
    "    except:\n",
    "        sys.exit('Data not json formatable')\n",
    "        \n",
    "def oj(infile):\n",
    "    try:\n",
    "        return json.load(open(infile, 'r'))\n",
    "    except:\n",
    "        sys.exit('File does not exist')\n",
    "        \n",
    "args = read_args(api_key= p.home() / 'keys/production_api_scicrunch_key.txt', db_url= p.home() / 'keys/production_engine_scicrunch_key.txt', production=True)\n",
    "sql = interlex_sql(db_url=args.db_url)\n",
    "sci = scicrunch(api_key=args.api_key, base_path=args.base_path, db_url=args.db_url)"
   ]
  },
  {
   "cell_type": "code",
   "execution_count": 15,
   "metadata": {},
   "outputs": [],
   "source": [
    "ex = sql.get_existing_ids()"
   ]
  },
  {
   "cell_type": "code",
   "execution_count": 16,
   "metadata": {},
   "outputs": [
    {
     "data": {
      "text/plain": [
       "(249, 9)"
      ]
     },
     "execution_count": 16,
     "metadata": {},
     "output_type": "execute_result"
    }
   ],
   "source": [
    "ex[ex.curie.str.contains('OEN')].shape"
   ]
  },
  {
   "cell_type": "code",
   "execution_count": 17,
   "metadata": {},
   "outputs": [
    {
     "name": "stdout",
     "output_type": "stream",
     "text": [
      "[]\n"
     ]
    }
   ],
   "source": [
    "data = []\n",
    "for i, row in ex[ex.curie.str.contains('OEN')].iterrows():\n",
    "    if row.curie.split(':')[0] == 'OEN':\n",
    "        data.append({'id':row.tid, 'existing_ids':{'curie':row.curie,'iri':row.iri, 'delete':True}})\n",
    "print(data)\n",
    "#cj(data, 'deleting_oen_existing_ids')"
   ]
  }
 ],
 "metadata": {
  "kernelspec": {
   "display_name": "Python 3",
   "language": "python",
   "name": "python3"
  },
  "language_info": {
   "codemirror_mode": {
    "name": "ipython",
    "version": 3
   },
   "file_extension": ".py",
   "mimetype": "text/x-python",
   "name": "python",
   "nbconvert_exporter": "python",
   "pygments_lexer": "ipython3",
   "version": "3.6.5"
  }
 },
 "nbformat": 4,
 "nbformat_minor": 2
}
