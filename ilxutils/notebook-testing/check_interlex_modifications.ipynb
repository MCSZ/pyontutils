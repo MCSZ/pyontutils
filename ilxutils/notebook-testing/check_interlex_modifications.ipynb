{
 "cells": [
  {
   "cell_type": "code",
   "execution_count": null,
   "metadata": {},
   "outputs": [],
   "source": [
    "from IPython.core.display import display, HTML\n",
    "display(HTML(\"<style>.container { width:100% !important; }</style>\"))\n",
    "\n",
    "import json\n",
    "from sqlalchemy import create_engine, inspect, Table, Column\n",
    "import pandas as pd\n",
    "from ilxutils.args_reader import read_args\n",
    "from ilxutils.scicrunch_client import scicrunch\n",
    "import sys\n",
    "import time\n",
    "from ilxutils.interlex_sql import interlex_sql\n",
    "import re\n",
    "from collections import defaultdict\n",
    "\n",
    "args = read_args(api_key='../keys/production_api_scicrunch_key.txt', db_url='../keys/production_engine_scicrunch_key.txt', production=True)\n",
    "sql = interlex_sql(engine_key=args.db_url)\n",
    "sci = scicrunch(api_key=args.api_key, base_path=args.base_path, engine_key=args.db_url)"
   ]
  },
  {
   "cell_type": "code",
   "execution_count": null,
   "metadata": {},
   "outputs": [],
   "source": [
    "terms = sql.get_terms()"
   ]
  },
  {
   "cell_type": "code",
   "execution_count": null,
   "metadata": {},
   "outputs": [],
   "source": [
    "terms"
   ]
  },
  {
   "cell_type": "code",
   "execution_count": null,
   "metadata": {},
   "outputs": [],
   "source": [
    "superclasses = sql.get_superclasses()"
   ]
  },
  {
   "cell_type": "code",
   "execution_count": null,
   "metadata": {},
   "outputs": [],
   "source": [
    "#term_superclasses\n",
    "# id         tid1      tid2\n",
    "#[(12461, 15030, 160, 1, 1491829905),\n",
    "# (12462, 15031, 160, 1, 1491830438),\n",
    "# (12463, 15032, 5022, 1, 1491831300),\n",
    "# (147945, 150526, 0, 1, 1515533600),\n",
    "# (147946, 150527, 0, 1, 1515533600),\n",
    "# (147951, 150532, 0, 1, 1515534044),\n",
    "# (147956, 150537, 0, 1, 1515534088),\n",
    "# (147957, 150538, 0, 1, 1515534088)]"
   ]
  },
  {
   "cell_type": "code",
   "execution_count": null,
   "metadata": {
    "scrolled": false
   },
   "outputs": [],
   "source": [
    "terms.loc[terms.ilx == 'ilx_0232950']"
   ]
  },
  {
   "cell_type": "code",
   "execution_count": null,
   "metadata": {
    "scrolled": false
   },
   "outputs": [],
   "source": [
    "terms.loc[terms.label == 'src_subject_id (Minimally Verbal - Common Demographic Intake Form)']"
   ]
  },
  {
   "cell_type": "code",
   "execution_count": null,
   "metadata": {
    "scrolled": false
   },
   "outputs": [],
   "source": [
    "superclasses.loc[superclasses.tid == 134260]"
   ]
  },
  {
   "cell_type": "code",
   "execution_count": null,
   "metadata": {},
   "outputs": [],
   "source": [
    "superclasses.loc[superclasses.id == 0]"
   ]
  },
  {
   "cell_type": "code",
   "execution_count": null,
   "metadata": {
    "scrolled": true
   },
   "outputs": [],
   "source": [
    "superclass_dict = {}\n",
    "for i, row in superclasses.iterrows():\n",
    "    superclass_dict.update({str(row.id):row})\n",
    "    if int(row.superclass_tid) == 0:\n",
    "        print(i)"
   ]
  },
  {
   "cell_type": "code",
   "execution_count": null,
   "metadata": {
    "scrolled": true
   },
   "outputs": [],
   "source": [
    "360 + 80*2 + 190*2 + 160*2 + 200 + 200 + 100 + 100 + 190"
   ]
  },
  {
   "cell_type": "code",
   "execution_count": null,
   "metadata": {},
   "outputs": [],
   "source": [
    "1900 + 150 + 400"
   ]
  },
  {
   "cell_type": "code",
   "execution_count": null,
   "metadata": {},
   "outputs": [],
   "source": [
    "for i, row in terms.iterrows():\n",
    "    try:\n",
    "        if not superclass_dict.get(str(row['id'])).empty:\n",
    "            if str(row['type']) == 'cde':\n",
    "                print(row); break\n",
    "    except:\n",
    "        pass"
   ]
  },
  {
   "cell_type": "code",
   "execution_count": null,
   "metadata": {},
   "outputs": [],
   "source": [
    "tier1 = '/home/troy/Desktop/NDA/nda-cdes-first-tier-only-update-ready.json'\n",
    "tier2 = '/home/troy/Desktop/NDA/complete_nda_tier2_production_ref.json'\n",
    "nda_names = list(json.load(open(tier1)).keys()) + list(json.load(open(tier2)).keys())\n",
    "tier1_data = json.load(open(tier1))\n",
    "tier2_data = json.load(open(tier2))"
   ]
  },
  {
   "cell_type": "code",
   "execution_count": null,
   "metadata": {},
   "outputs": [],
   "source": [
    "labels_to_id = sql.get_labels_to_ids_dict()\n",
    "terms_df = sql.get_terms()"
   ]
  },
  {
   "cell_type": "markdown",
   "metadata": {},
   "source": [
    "## Checking if any missing T1 labels"
   ]
  },
  {
   "cell_type": "code",
   "execution_count": null,
   "metadata": {},
   "outputs": [],
   "source": [
    "t1_names = [name.lower().replace(\"'\", '').strip() for name in list(tier2_data)] #just ended up getting rid of the ' altogether\n",
    "\n",
    "for name in t1_names:\n",
    "    if not labels_to_id.get(name):\n",
    "        print(name)"
   ]
  },
  {
   "cell_type": "code",
   "execution_count": null,
   "metadata": {},
   "outputs": [],
   "source": [
    "def link(ilxid):\n",
    "    return \"https://scicrunch.org/scicrunch/interlex/view/%s?searchTerm=%s\"%(ilxid, ilxid)"
   ]
  },
  {
   "cell_type": "code",
   "execution_count": null,
   "metadata": {},
   "outputs": [],
   "source": [
    "link("
   ]
  },
  {
   "cell_type": "code",
   "execution_count": null,
   "metadata": {},
   "outputs": [],
   "source": [
    "data = []\n",
    "for name in t1_names:\n",
    "    tid = labels_to_id[name]\n",
    "    seg_df = terms_df.loc[terms_df.id == tid['cde']]\n",
    "    if not seg_df.empty:\n",
    "        if 'modifiedDate' in str(seg_df.definition.iloc[0]):\n",
    "            print(name, tid)\n",
    "            print(link(seg_df['ilx'].iloc[0]))\n",
    "            data.append({'id':tid['cde'], 'definition':' '})\n",
    "json.dump(data, open('../clean_t1_definitions.json', 'w'), indent=4)"
   ]
  },
  {
   "cell_type": "code",
   "execution_count": null,
   "metadata": {},
   "outputs": [],
   "source": [
    "nda_ids = []\n",
    "for label in nda_names:\n",
    "    label = label.lower().strip().replace('\"', '').replace(\"'\", '')\n",
    "    if not labels_to_id.get(label):\n",
    "        sys.exit(label)\n",
    "    else:\n",
    "        nda_ids.append(labels_to_id[label]['cde'])"
   ]
  },
  {
   "cell_type": "code",
   "execution_count": null,
   "metadata": {},
   "outputs": [],
   "source": [
    "terms_df = sql.get_terms()\n",
    "annotations_df = sql.get_annotations()"
   ]
  },
  {
   "cell_type": "code",
   "execution_count": null,
   "metadata": {},
   "outputs": [],
   "source": [
    "id_to_label = sql.get_ids_to_labels_dict()"
   ]
  },
  {
   "cell_type": "code",
   "execution_count": null,
   "metadata": {
    "scrolled": true
   },
   "outputs": [],
   "source": [
    "annotations_df.loc[annotations_df.item_id == 230000].to_dict('list')"
   ]
  },
  {
   "cell_type": "code",
   "execution_count": null,
   "metadata": {},
   "outputs": [],
   "source": [
    "nda_ids[0]['cde']"
   ]
  },
  {
   "cell_type": "code",
   "execution_count": null,
   "metadata": {
    "scrolled": true
   },
   "outputs": [],
   "source": [
    "annotations_df.loc[annotations_df.label == 'eventname (ABCD Children&#39;s Report of Parental Behavioral Inventory)']"
   ]
  },
  {
   "cell_type": "code",
   "execution_count": null,
   "metadata": {
    "scrolled": false
   },
   "outputs": [],
   "source": [
    "%%time\n",
    "cdes_no_annotations = []\n",
    "for id in nda_ids[:]:\n",
    "    hit = annotations_df.loc[annotations_df.tid == id]\n",
    "    if hit.empty:\n",
    "        cdes_no_annotations.append({'id':id, 'label':id_to_label[id]})\n",
    "print(len(cdes_no_annotations))\n",
    "#with open('/home/troy/Desktop/NDA/missing_annotaions.json', 'w') as f:\n",
    "#json.dump(cdes_no_annotations, f, indent=4)"
   ]
  },
  {
   "cell_type": "code",
   "execution_count": null,
   "metadata": {},
   "outputs": [],
   "source": [
    "for id in nda_ids:\n",
    "    if id == 15813:\n",
    "        print('yas')"
   ]
  },
  {
   "cell_type": "code",
   "execution_count": null,
   "metadata": {},
   "outputs": [],
   "source": []
  },
  {
   "cell_type": "code",
   "execution_count": null,
   "metadata": {
    "scrolled": false
   },
   "outputs": [],
   "source": [
    "#%%time\n",
    "cdes_incomplete_annotations = []\n",
    "for id in nda_ids[:]:\n",
    "    if id != 15813: continue\n",
    "    print(id)\n",
    "    hit = annotations_df.loc[annotations_df.tid == id]\n",
    "    if hit.empty:\n",
    "        pass#cdes_no_annotations.append({'id':id, 'label':id_to_label[id]})\n",
    "    else:\n",
    "        vs = hit.to_dict('list')['value']\n",
    "        if '(abcd children' in id_to_label[id].lower():\n",
    "            print(id_to_label[id])\n",
    "            sys.exit(vs)\n",
    "        #if 'id' not in ''.join(vs) and '(' in id_to_label[id] and id > 16000:\n",
    "            #print(vs)\n",
    "        #if len(hit.to_dict('list')['value']) not in [5, 8]:\n",
    "        #    cdes_incomplete_annotations.append({'id':id, 'label':id_to_label[id]})\n",
    "        #    sys.exit(cdes_incomplete_annotations)\n",
    "hit           \n",
    "#print(len(cdes_incomplete_annotations))\n",
    "#with open('/home/troy/Desktop/NDA/incomplete_annotaions.json', 'w') as f:\n",
    "#    json.dump(cdes_incomplete_annotations, f, indent=4)"
   ]
  },
  {
   "cell_type": "code",
   "execution_count": null,
   "metadata": {},
   "outputs": [],
   "source": [
    "missing_annotatons_data = json.load(open('/home/troy/Desktop/NDA/missing_annotaions.json'))\n",
    "incomplete_annotations_data = json.load(open('/home/troy/Desktop/NDA/incomplete_annotaions.json'))"
   ]
  },
  {
   "cell_type": "code",
   "execution_count": null,
   "metadata": {},
   "outputs": [],
   "source": [
    "tier2_data"
   ]
  },
  {
   "cell_type": "code",
   "execution_count": null,
   "metadata": {},
   "outputs": [],
   "source": [
    "''' Fix missing annotations '''\n",
    "annotations = []\n",
    "for e in missing_annotatons_data:\n",
    "    if tier1_data.get(e['label']):\n",
    "        t1 = tier1_data[e['label']]\n",
    "        for v in t1['value']:\n",
    "            annotations.append({'tid':e['id'], 'annotation_tid':15074, 'value':v})\n",
    "    elif tier2_data.get(e['label']):\n",
    "        t2 = tier2_data[e['label']]\n",
    "        for v in t2['value']:\n",
    "            annotations.append({'tid':e['id'], 'annotation_tid':15074, 'value':v})\n",
    "    else:\n",
    "        sys.exit(e)\n",
    "len(annotations)\n",
    "with open('/home/troy/Desktop/NDA/missing_annotaions_client_ready.json', 'w') as f:\n",
    "    json.dump(annotations, f, indent=4)"
   ]
  },
  {
   "cell_type": "code",
   "execution_count": null,
   "metadata": {},
   "outputs": [],
   "source": [
    "annotations = []\n",
    "for e in incomplete_annotations_data:\n",
    "    \n",
    "    if tier1_data.get(e['label']):\n",
    "        t1 = tier1_data[e['label']]\n",
    "        for v in t1['value']:\n",
    "            annotations.append({'tid':str(e['id']), 'annotation_tid':15074, 'value':str(v)})\n",
    "    \n",
    "    elif tier2_data.get(e['label']):\n",
    "        t2 = tier2_data[e['label']]\n",
    "        for v in t2['value']:\n",
    "            annotations.append({'tid':str(e['id']), 'annotation_tid':15074, 'value':str(v)}) \n",
    "        print(e['label'])\n",
    "    else:\n",
    "        sys.exit(e)\n",
    "        \n",
    "len(annotations)\n",
    "with open('/home/troy/Desktop/NDA/incomplete_annotaions_client_ready.json', 'w') as f:\n",
    "    json.dump(annotations, f, indent=4)"
   ]
  },
  {
   "cell_type": "code",
   "execution_count": null,
   "metadata": {},
   "outputs": [],
   "source": [
    "## So the shortNames list is the only complete data for some unknown reason at the moment; best to just use that to make pure annotations and update defintions\n",
    "tier2 = json.load(open('/home/troy/Desktop/NDA/nda_shortName_data.json', 'r'))"
   ]
  },
  {
   "cell_type": "code",
   "execution_count": null,
   "metadata": {},
   "outputs": [],
   "source": [
    "complete_nda_tier2_production_ref = defaultdict(dict)\n",
    "for k, v in tier2.items():\n",
    "    print(k)\n",
    "    for d in v['dataElements']:\n",
    "        print(d)\n",
    "        annotations = []\n",
    "        for annotation_key, annotations_values in v.items():\n",
    "            if isinstance(annotations_values, list) and annotations_values:\n",
    "                #print(annotation_key, annotations_values)\n",
    "                value = annotation_key + ' : ' + '; '.join(annotations_values)\n",
    "            else:\n",
    "                value = annotation_key + ' : ' + annotations_values\n",
    "            annotations.append(value)\n",
    "        complete_nda_tier2_production_ref[k].update({'value':annotations})\n",
    "        break\n",
    "    break\n",
    "complete_nda_tier2_production_ref"
   ]
  }
 ],
 "metadata": {
  "kernelspec": {
   "display_name": "Python 3",
   "language": "python3.6",
   "name": "python3"
  },
  "language_info": {
   "codemirror_mode": {
    "name": "ipython",
    "version": 3
   },
   "file_extension": ".py",
   "mimetype": "text/x-python",
   "name": "python",
   "nbconvert_exporter": "python",
   "pygments_lexer": "ipython3",
   "version": "3.6.5"
  }
 },
 "nbformat": 4,
 "nbformat_minor": 2
}
