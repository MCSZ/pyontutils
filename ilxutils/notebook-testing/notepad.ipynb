{
 "cells": [
  {
   "cell_type": "code",
   "execution_count": null,
   "metadata": {},
   "outputs": [],
   "source": [
    "from IPython.core.display import display, HTML\n",
    "display(HTML(\"<style>.container { width:100% !important; }</style>\"))\n",
    "\n",
    "import json\n",
    "from sqlalchemy import create_engine, inspect, Table, Column\n",
    "import pandas as pd\n",
    "from args_reader import read_args\n",
    "from scicrunch_client import scicrunch\n",
    "import sys\n",
    "import time\n",
    "from interlex_sql import interlex_sql\n",
    "import re\n",
    "from collections import defaultdict\n",
    "\n",
    "args = read_args(api_key='../production_api_scicrunch_key.txt', engine_key='../production_engine_scicrunch_key.txt', production=True)\n",
    "sql = interlex_sql(engine_key=args.engine_key)\n",
    "sci = scicrunch(api_key=args.api_key, base_path=args.base_path, engine_key=args.engine_key)"
   ]
  },
  {
   "cell_type": "code",
   "execution_count": null,
   "metadata": {
    "scrolled": true
   },
   "outputs": [],
   "source": [
    "engine = create_engine(args.engine_key)\n",
    "data =  \"\"\"\n",
    "        SELECT c.prefix, c.namespace\n",
    "        FROM curie_catalog as c\n",
    "        ORDER BY c.namespace\n",
    "        \"\"\"\n",
    "df = pd.read_sql(data, engine)\n",
    "for i, row in df.iterrows():\n",
    "    print(row.prefix)"
   ]
  },
  {
   "cell_type": "code",
   "execution_count": null,
   "metadata": {},
   "outputs": [],
   "source": [
    "df"
   ]
  }
 ],
 "metadata": {
  "kernelspec": {
   "display_name": "Python 3",
   "language": "python3.6",
   "name": "python3"
  },
  "language_info": {
   "codemirror_mode": {
    "name": "ipython",
    "version": 3
   },
   "file_extension": ".py",
   "mimetype": "text/x-python",
   "name": "python",
   "nbconvert_exporter": "python",
   "pygments_lexer": "ipython3",
   "version": "3.6.5"
  }
 },
 "nbformat": 4,
 "nbformat_minor": 2
}
