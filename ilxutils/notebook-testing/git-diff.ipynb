{
 "cells": [
  {
   "cell_type": "markdown",
   "metadata": {},
   "source": [
    "git diff --word-diff=porcelain --word-diff-regex=\"\\ \\S+\\ \" HEAD~10 HEAD\n",
    "git diff --no-index --word-diff=porcelain --word-diff-regex=\"\\ \\S+\\ \" file1 file2"
   ]
  },
  {
   "cell_type": "code",
   "execution_count": null,
   "metadata": {},
   "outputs": [],
   "source": [
    "from IPython.core.display import display, HTML\n",
    "display(HTML(\"<style>.container { width:100% !important; }</style>\"))\n",
    "\n",
    "import json\n",
    "from sqlalchemy import create_engine, inspect, Table, Column\n",
    "import pandas as pd\n",
    "from ilxutils.args_reader import read_args\n",
    "from ilxutils.scicrunch_client import scicrunch\n",
    "import sys\n",
    "import time\n",
    "from ilxutils.interlex_sql import interlex_sql\n",
    "import re\n",
    "from collections import defaultdict\n",
    "from IPython.core.display import display\n",
    "import subprocess as sb\n",
    "import pickle\n",
    "from pathlib import Path as p\n",
    "import requests as r\n",
    "from ilxutils.ttl2pd import *\n",
    "import difflib\n",
    "def degrade(var):\n",
    "    def helper(s):\n",
    "        return str(re.sub(\"\\(|\\)|'|,\", \"\", s).lower().strip())\n",
    "    if type(var)!=list:\n",
    "        if var:\n",
    "            return helper(var)\n",
    "        else:\n",
    "            return var\n",
    "    else:\n",
    "        return [helper(v) if v else v for v in var]\n",
    "def cj(data, output):\n",
    "    json.dump(data, open(output+'.json', 'w'), indent=4)\n",
    "    print('Complete')\n",
    "def oj(infile):\n",
    "    try:\n",
    "        return json.load(open(infile, 'r'))\n",
    "    except:\n",
    "        sys.exit('File does not exist')\n",
    "args = read_args(api_key= p.home() / 'keys/production_api_scicrunch_key.txt', db_url= p.home() / 'keys/production_engine_scicrunch_key.txt', production=True)\n",
    "sql = interlex_sql(db_url=args.db_url)"
   ]
  },
  {
   "cell_type": "code",
   "execution_count": null,
   "metadata": {},
   "outputs": [],
   "source": [
    "s = difflib.SequenceMatcher(None, 'one life\"s many.', 'one lifes many!')"
   ]
  },
  {
   "cell_type": "code",
   "execution_count": null,
   "metadata": {
    "scrolled": true
   },
   "outputs": [],
   "source": [
    "rs = ''\n",
    "fs = ''\n",
    "for code, a0, a1, b0, b1 in s.get_opcodes():\n",
    "    if code == 'equal':\n",
    "        print('')"
   ]
  },
  {
   "cell_type": "code",
   "execution_count": null,
   "metadata": {},
   "outputs": [],
   "source": [
    "s1 = \"the neuron's went up the steep stairs.\"\n",
    "s2 = \"bop neurons went up life the fall stairs!\"\n",
    "s = difflib.SequenceMatcher(None, s1, s2)\n",
    "for i in s.get_opcodes():\n",
    "    print(i)"
   ]
  },
  {
   "cell_type": "code",
   "execution_count": null,
   "metadata": {
    "scrolled": true
   },
   "outputs": [],
   "source": [
    "s1 = \"the neuron's went up the stairs.\".strip()\n",
    "s2 = \"the neurons went up the stairs.\".strip()\n",
    "delta = difflib.Differ().compare(s1, s2)\n",
    "s = difflib.SequenceMatcher(None, s1, s2)\n",
    "print(s.ratio())\n",
    "print(delta)\n",
    "html = difflib.HtmlDiff().make_file(s1.splitlines(), s2.splitlines())\n",
    "with open('diff.html', 'w') as f:\n",
    "    f.write(html)"
   ]
  },
  {
   "cell_type": "code",
   "execution_count": null,
   "metadata": {},
   "outputs": [],
   "source": [
    "import difflib\n",
    "\n",
    "s1 = ['the neuron went up the stairs!']\n",
    "s2 = ['the neuron fell down the stairs...']\n",
    "d = difflib.Differ()\n",
    "diff = d.compare(s1, s2)\n",
    "diff = '\\n'.join(diff)\n",
    "diff = '\\n'.join([l[2:] for l in diff.splitlines() if l])\n",
    "print(diff)"
   ]
  },
  {
   "cell_type": "code",
   "execution_count": null,
   "metadata": {},
   "outputs": [],
   "source": [
    "s1 = 'the neuron went up the stairs!'.split()\n",
    "s2 = 'the neuron fell down the stairs...'.split()\n",
    "def show_diff(text, n_text):\n",
    "    seqm = difflib.SequenceMatcher(None, text, n_text)\n",
    "    output= []\n",
    "    for opcode, a0, a1, b0, b1 in seqm.get_opcodes():\n",
    "        if opcode == 'equal':\n",
    "            output.append(seqm.a[a0:a1])\n",
    "        elif opcode == 'insert':\n",
    "            output.append([\"+++\"] + seqm.b[b0:b1])\n",
    "        elif opcode == 'delete':\n",
    "            output.append([\"---\"] + seqm.a[a0:a1])\n",
    "        elif opcode == 'replace':\n",
    "            # seqm.a[a0:a1] -> seqm.b[b0:b1]\n",
    "            output.append([\"~~~\"] + seqm.b[b0:b1])\n",
    "        else:\n",
    "            print(\"unexpected opcode\")\n",
    "    return output\n",
    "show_diff(s1, s2)"
   ]
  },
  {
   "cell_type": "code",
   "execution_count": null,
   "metadata": {
    "scrolled": true
   },
   "outputs": [],
   "source": [
    "%%sh\n",
    "git diff $(echo \"bob neurons went up life the fall stairs!\" | git hash-object -w --stdin) $(echo \"the neuron's went up the steep stairs.\" | git hash-object -w --stdin) --word-diff=color --word-diff-regex=\"\\ \\S+\\ \" "
   ]
  },
  {
   "cell_type": "code",
   "execution_count": null,
   "metadata": {},
   "outputs": [],
   "source": [
    "d = difflib.Differ()"
   ]
  },
  {
   "cell_type": "code",
   "execution_count": null,
   "metadata": {},
   "outputs": [],
   "source": [
    "d.compare(a=, b=)"
   ]
  }
 ],
 "metadata": {
  "kernelspec": {
   "display_name": "Python 3",
   "language": "python3.6",
   "name": "python3"
  },
  "language_info": {
   "codemirror_mode": {
    "name": "ipython",
    "version": 3
   },
   "file_extension": ".py",
   "mimetype": "text/x-python",
   "name": "python",
   "nbconvert_exporter": "python",
   "pygments_lexer": "ipython3",
   "version": "3.6.5"
  }
 },
 "nbformat": 4,
 "nbformat_minor": 2
}
