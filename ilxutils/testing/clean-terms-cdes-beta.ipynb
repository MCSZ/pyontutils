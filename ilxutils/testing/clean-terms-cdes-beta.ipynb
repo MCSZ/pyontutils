{
 "cells": [
  {
   "cell_type": "code",
   "execution_count": 1,
   "metadata": {
    "collapsed": true
   },
   "outputs": [],
   "source": [
    "import json\n",
    "from sqlalchemy import create_engine, inspect, Table, Column\n",
    "import pandas as pd\n",
    "from args_reader import read_args\n",
    "from scicrunch_client_fast import scicrunch\n",
    "import sys\n",
    "import time\n",
    "from interlex_sql import interlex_sql\n",
    "import re"
   ]
  },
  {
   "cell_type": "code",
   "execution_count": 2,
   "metadata": {
    "collapsed": true
   },
   "outputs": [],
   "source": [
    "args = read_args(keys='../keys.txt', production='-p')\n",
    "sql = interlex_sql(engine_key=args['engine_key'])\n",
    "sci = scicrunch(key=args['api_key'], base_path=args['base_path'])"
   ]
  },
  {
   "cell_type": "code",
   "execution_count": 7,
   "metadata": {
    "collapsed": true
   },
   "outputs": [],
   "source": [
    "path = '/Users/tmsincomb/Desktop/NDA/remaining-second-tier-cdes.json'\n",
    "raw_data = json.load(open(path, 'r'))"
   ]
  },
  {
   "cell_type": "code",
   "execution_count": 24,
   "metadata": {
    "collapsed": true
   },
   "outputs": [],
   "source": [
    "data = []\n",
    "for tid, label_data in raw_data.items():\n",
    "    cde_data = {\n",
    "        'id':tid,\n",
    "        #'label':label_data['label'],\n",
    "        'definition':label_data['definition']\n",
    "    }\n",
    "    data.append(cde_data)\n",
    "\n",
    "with open('nda-cdes-second-tier-definition-update.json', 'w') as outfile:\n",
    "    json.dump(data, outfile, indent=4)"
   ]
  },
  {
   "cell_type": "code",
   "execution_count": 25,
   "metadata": {
    "collapsed": false
   },
   "outputs": [
    {
     "data": {
      "text/plain": [
       "{'definition': 'Shows two or more emotions (for example, laughs, cries, screams, etc.).',\n",
       " 'id': '231370'}"
      ]
     },
     "execution_count": 25,
     "metadata": {},
     "output_type": "execute_result"
    }
   ],
   "source": [
    "json.load(open('nda-cdes-second-tier-definition-update.json', 'r'))[100]"
   ]
  }
 ],
 "metadata": {
  "kernelspec": {
   "display_name": "Python 3",
   "language": "python",
   "name": "python3"
  },
  "language_info": {
   "codemirror_mode": {
    "name": "ipython",
    "version": 3
   },
   "file_extension": ".py",
   "mimetype": "text/x-python",
   "name": "python",
   "nbconvert_exporter": "python",
   "pygments_lexer": "ipython3",
   "version": "3.6.3"
  }
 },
 "nbformat": 4,
 "nbformat_minor": 2
}
